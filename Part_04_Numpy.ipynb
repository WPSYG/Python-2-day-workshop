{
  "nbformat": 4,
  "nbformat_minor": 0,
  "metadata": {
    "colab": {
      "name": "Part 04 : Numpy.ipynb",
      "provenance": [],
      "include_colab_link": true
    },
    "kernelspec": {
      "display_name": "Python 3",
      "language": "python",
      "name": "python3"
    },
    "language_info": {
      "codemirror_mode": {
        "name": "ipython",
        "version": 3
      },
      "file_extension": ".py",
      "mimetype": "text/x-python",
      "name": "python",
      "nbconvert_exporter": "python",
      "pygments_lexer": "ipython3",
      "version": "3.7.4"
    }
  },
  "cells": [
    {
      "cell_type": "markdown",
      "metadata": {
        "id": "view-in-github",
        "colab_type": "text"
      },
      "source": [
        "<a href=\"https://colab.research.google.com/github/WPSYG/Python-2-day-workshop/blob/master/Part_04_Numpy.ipynb\" target=\"_parent\"><img src=\"https://colab.research.google.com/assets/colab-badge.svg\" alt=\"Open In Colab\"/></a>"
      ]
    },
    {
      "cell_type": "markdown",
      "metadata": {
        "colab_type": "text",
        "id": "FCt26ccOunrW"
      },
      "source": [
        "<img src=\"https://raw.githubusercontent.com/WPSYG/Python-2-day-workshop/master/images/logo_color_v1.jpeg?token=AIW35UFEDY4NZV2BTI6NYPS7HQ4XM\">"
      ]
    },
    {
      "cell_type": "markdown",
      "metadata": {
        "colab_type": "text",
        "id": "GDLup0Di5azm"
      },
      "source": [
        "# Numpy Arrays For Python \n"
      ]
    },
    {
      "cell_type": "markdown",
      "metadata": {
        "colab_type": "text",
        "id": "U0wr0Oqim0Re"
      },
      "source": [
        "In python, there are a lot of extension packages used for different purposes and operations. NumPy happens to be one of the commonly used extension package for multi-dimensional arrays. NumPy is designed for scientific computations. ie. it is very convenient to use. It is sometimes known as array oriented computing. In our discussion today, we shall look at NumPy array in general. I know some of you may have used NumPy array before, such people might consider this lesson a revision for them. On the contary, those who have not should relax, and enjoy the lesson because it is going to be interractive and interesting.\n",
        "\n",
        "**Outcome Of Session:** By the end of the session learners will be able to;\n",
        "* Know how to create array and use function arrays to create arrays. i.e, arange, zeros, ones , diag etc.\n",
        "* Know the shape of the array using array.shape and use slicing to obtain different views of the array ( array[::2]).\n",
        "* Adjust the shape of the array using reshape or flatten it with ravel.\n",
        "* Know how to perform operations on arrays such as add, subtract, multiply etc and find the mean or max of arrays (array.max(), array.mean()).\n",
        "* Also perform some possible advanced operation such as plot 1-D, 2-D (image) arrays .\n",
        "\n",
        "**Source:** For further readings you can visit <a href=\"https://numpy.org/install/\">numpy.org</a> or download the following book <a href=\"https://www.amazon.com/Python-Tricks-Buffet-Awesome-Features-ebook/dp/B0785Q7GSY/\">A Pratical Introduction to Python Programming by Heinold and Dan Bader-Python Tricks: A Buffet of Awesome Python Features</a>.\n",
        "\n",
        "**NumPy Array**:\n",
        "* Python modules designed for scientific computations.\n",
        "*  Serves as containers:list (costless insertion and append).\n",
        "* Helpful to perform linear algebra and generate random numbers.\n",
        "* Used to represent vectors and matrices.\n",
        "\n",
        "**Why is it useful ?**: The simple answer to this question is that it creates memory-efficient containers that provides fast numerical operations.\n",
        "\n",
        "Since Numpy is a built-in package in python, one needs to import using the command line below **import numpy as np**. The **np** can be anything, it can be **as**, **ap** or **pk** but **np** remind as of \n",
        "using numpy. It is just for convenient sake.\n",
        "\n"
      ]
    },
    {
      "cell_type": "code",
      "metadata": {
        "colab_type": "code",
        "id": "dslyTP32tUQh",
        "colab": {}
      },
      "source": [
        "##How to import numpy package\n",
        "import numpy as np  "
      ],
      "execution_count": null,
      "outputs": []
    },
    {
      "cell_type": "markdown",
      "metadata": {
        "colab_type": "text",
        "id": "vF5DxJzNu_gY"
      },
      "source": [
        "## Creating Arrays: 1-D, 2-D,... \n",
        "\n",
        "To create a 1-dimensional array, one consider to create a list **[1,2,3]** and add **np.array()**, i.e.**np.array([1,2,3]).** Similarly, to create **2-D**, create a list with two rows (first row and second row). i.e **[3,5,4],[7,8,10]**, put them into a bigger list **[[3,5,4],[7,8,10]]** and add **numpy.array([[3,5,4],[7,4,10]]).** We demonstrate these in the code."
      ]
    },
    {
      "cell_type": "code",
      "metadata": {
        "colab_type": "code",
        "id": "Rq4s4fvcwsbu",
        "colab": {
          "base_uri": "https://localhost:8080/",
          "height": 34
        },
        "outputId": "927ee39e-510b-44df-eae6-cb757919cc1e"
      },
      "source": [
        "#creating 1-D array\n",
        "import numpy as np\n",
        "\n",
        "y = np.array([1,2,3])\n",
        "y"
      ],
      "execution_count": null,
      "outputs": [
        {
          "output_type": "execute_result",
          "data": {
            "text/plain": [
              "array([1, 2, 3])"
            ]
          },
          "metadata": {
            "tags": []
          },
          "execution_count": 5
        }
      ]
    },
    {
      "cell_type": "code",
      "metadata": {
        "colab_type": "code",
        "id": "yQ0ZOl08xRZr",
        "colab": {
          "base_uri": "https://localhost:8080/",
          "height": 34
        },
        "outputId": "fca84212-7f37-4c1e-c0f1-267aea605328"
      },
      "source": [
        "y.shape"
      ],
      "execution_count": null,
      "outputs": [
        {
          "output_type": "execute_result",
          "data": {
            "text/plain": [
              "(3,)"
            ]
          },
          "metadata": {
            "tags": []
          },
          "execution_count": 6
        }
      ]
    },
    {
      "cell_type": "code",
      "metadata": {
        "colab_type": "code",
        "id": "gV-aVEEnxYLS",
        "colab": {
          "base_uri": "https://localhost:8080/",
          "height": 34
        },
        "outputId": "a08f89bb-2363-4794-d477-8b0df709ab47"
      },
      "source": [
        "y.ndim"
      ],
      "execution_count": null,
      "outputs": [
        {
          "output_type": "execute_result",
          "data": {
            "text/plain": [
              "1"
            ]
          },
          "metadata": {
            "tags": []
          },
          "execution_count": 39
        }
      ]
    },
    {
      "cell_type": "code",
      "metadata": {
        "colab_type": "code",
        "id": "tKZcFrQXxcDd",
        "colab": {
          "base_uri": "https://localhost:8080/",
          "height": 34
        },
        "outputId": "e977731e-21de-48e8-9440-482f1c3daede"
      },
      "source": [
        "len(y)"
      ],
      "execution_count": null,
      "outputs": [
        {
          "output_type": "execute_result",
          "data": {
            "text/plain": [
              "3"
            ]
          },
          "metadata": {
            "tags": []
          },
          "execution_count": 40
        }
      ]
    },
    {
      "cell_type": "code",
      "metadata": {
        "colab_type": "code",
        "id": "U0DSEDJ7xkob",
        "colab": {
          "base_uri": "https://localhost:8080/",
          "height": 54
        },
        "outputId": "8910db01-5b51-4bc1-aeb4-49a573964cee"
      },
      "source": [
        "#creating  2-D array\n",
        "import numpy as np\n",
        "z = np.array([[3,5,4],[7,4,10]])\n",
        "z"
      ],
      "execution_count": 1,
      "outputs": [
        {
          "output_type": "execute_result",
          "data": {
            "text/plain": [
              "array([[ 3,  5,  4],\n",
              "       [ 7,  4, 10]])"
            ]
          },
          "metadata": {
            "tags": []
          },
          "execution_count": 1
        }
      ]
    },
    {
      "cell_type": "code",
      "metadata": {
        "colab_type": "code",
        "id": "FRVI37MhyO3A",
        "colab": {
          "base_uri": "https://localhost:8080/",
          "height": 34
        },
        "outputId": "ea5a98dc-89f9-40cf-9618-f9f87c6f71f4"
      },
      "source": [
        "z.shape"
      ],
      "execution_count": null,
      "outputs": [
        {
          "output_type": "execute_result",
          "data": {
            "text/plain": [
              "(2, 3)"
            ]
          },
          "metadata": {
            "tags": []
          },
          "execution_count": 46
        }
      ]
    },
    {
      "cell_type": "markdown",
      "metadata": {
        "colab_type": "text",
        "id": "1V5h7RnAzuAi"
      },
      "source": [
        "# Functions for creating arrays\n",
        "\n",
        " The following functions help sometimes to prevent entering arrays manually. These include arange(), linspace(), ones(), diag(), zeros() etc. \n",
        " \n",
        " For a linspace() and arange() functions, we may have **numpy.linspace(start, end, step)**, **numpy.arange(number)** or **numpy.arange(start,end,step)**. With numpy.linspace(start, end, step), step gives the number of divisions between the end and start which will include the end and start or one can use **numpy.linspace(start, end, endpoint=False)** to exclude the end point from the interval. We note that python excludes the endpoint of **numpy.arange()** in all cases.  "
      ]
    },
    {
      "cell_type": "code",
      "metadata": {
        "colab_type": "code",
        "id": "JAq_uah73j7u",
        "colab": {
          "base_uri": "https://localhost:8080/",
          "height": 34
        },
        "outputId": "ffac9a7e-00cf-4b7c-9eb7-b73908de03a3"
      },
      "source": [
        "#creating np.arange()\n",
        "a = np.arange(10)\n",
        "a"
      ],
      "execution_count": null,
      "outputs": [
        {
          "output_type": "execute_result",
          "data": {
            "text/plain": [
              "array([0, 1, 2, 3, 4, 5, 6, 7, 8, 9])"
            ]
          },
          "metadata": {
            "tags": []
          },
          "execution_count": 50
        }
      ]
    },
    {
      "cell_type": "code",
      "metadata": {
        "colab_type": "code",
        "id": "ZNz5up5h31RQ",
        "colab": {
          "base_uri": "https://localhost:8080/",
          "height": 34
        },
        "outputId": "a597c4cb-3833-4d27-fcca-24eeef085aef"
      },
      "source": [
        "p = np.arange(1,10,2) # start at 1 and step with 2\n",
        "p"
      ],
      "execution_count": null,
      "outputs": [
        {
          "output_type": "execute_result",
          "data": {
            "text/plain": [
              "array([1, 3, 5, 7, 9])"
            ]
          },
          "metadata": {
            "tags": []
          },
          "execution_count": 52
        }
      ]
    },
    {
      "cell_type": "code",
      "metadata": {
        "colab_type": "code",
        "id": "-Ppp0kp14Rrr",
        "colab": {
          "base_uri": "https://localhost:8080/",
          "height": 36
        },
        "outputId": "3364eac0-8975-41c4-f32d-edae09847991"
      },
      "source": [
        "#creating np.linspace()\n",
        "\n",
        "np.linspace(0,1,6)\n",
        "\n"
      ],
      "execution_count": 2,
      "outputs": [
        {
          "output_type": "execute_result",
          "data": {
            "text/plain": [
              "array([0. , 0.2, 0.4, 0.6, 0.8, 1. ])"
            ]
          },
          "metadata": {
            "tags": []
          },
          "execution_count": 2
        }
      ]
    },
    {
      "cell_type": "code",
      "metadata": {
        "id": "M97yZG6L3G6z",
        "colab_type": "code",
        "colab": {
          "base_uri": "https://localhost:8080/",
          "height": 36
        },
        "outputId": "77d9113e-5167-47b0-e271-51b1ed2ca5d1"
      },
      "source": [
        "#creating np.linspace to exclude the end point from the interval\n",
        "\n",
        "np.linspace(0,1,5,endpoint=False)"
      ],
      "execution_count": 3,
      "outputs": [
        {
          "output_type": "execute_result",
          "data": {
            "text/plain": [
              "array([0. , 0.2, 0.4, 0.6, 0.8])"
            ]
          },
          "metadata": {
            "tags": []
          },
          "execution_count": 3
        }
      ]
    },
    {
      "cell_type": "code",
      "metadata": {
        "colab_type": "code",
        "id": "2bn-ZS9E5Fbo",
        "colab": {
          "base_uri": "https://localhost:8080/",
          "height": 36
        },
        "outputId": "848ef78e-c3f9-4cf6-c860-46737cde72d0"
      },
      "source": [
        "#creating some common arrays\n",
        "\n",
        "zeros_vectors = np.zeros(5)\n",
        "print(zeros_vectors)\n",
        "\n"
      ],
      "execution_count": 6,
      "outputs": [
        {
          "output_type": "stream",
          "text": [
            "[0. 0. 0. 0. 0.]\n"
          ],
          "name": "stdout"
        }
      ]
    },
    {
      "cell_type": "code",
      "metadata": {
        "id": "UIfrMWeL6IAg",
        "colab_type": "code",
        "colab": {
          "base_uri": "https://localhost:8080/",
          "height": 36
        },
        "outputId": "057eec8a-f6e1-4754-bc63-596d9a3c202d"
      },
      "source": [
        "ones_vectors = np.ones(5)\n",
        "print(ones_vectors )"
      ],
      "execution_count": 10,
      "outputs": [
        {
          "output_type": "stream",
          "text": [
            "[1. 1. 1. 1. 1.]\n"
          ],
          "name": "stdout"
        }
      ]
    },
    {
      "cell_type": "code",
      "metadata": {
        "id": "VM9rEgP36e7M",
        "colab_type": "code",
        "colab": {
          "base_uri": "https://localhost:8080/",
          "height": 36
        },
        "outputId": "e05ccbc6-4504-4025-b902-ed83527d8ec5"
      },
      "source": [
        "# you can multiply a vectors by a number\n",
        "\n",
        "vectors = 3*np.ones(5)\n",
        "print(vectors)"
      ],
      "execution_count": 11,
      "outputs": [
        {
          "output_type": "stream",
          "text": [
            "[3. 3. 3. 3. 3.]\n"
          ],
          "name": "stdout"
        }
      ]
    },
    {
      "cell_type": "code",
      "metadata": {
        "id": "AFRc_gv65ovH",
        "colab_type": "code",
        "colab": {
          "base_uri": "https://localhost:8080/",
          "height": 109
        },
        "outputId": "bd10e999-8594-4baa-ddf8-889be6b0ac14"
      },
      "source": [
        "#creating a full zero matrix\n",
        "\n",
        "zeros_matrix = np.zeros((5,3)) #reminder this takes in tuples as an input\n",
        "print(zeros_matrix)"
      ],
      "execution_count": 7,
      "outputs": [
        {
          "output_type": "stream",
          "text": [
            "[[0. 0. 0.]\n",
            " [0. 0. 0.]\n",
            " [0. 0. 0.]\n",
            " [0. 0. 0.]\n",
            " [0. 0. 0.]]\n"
          ],
          "name": "stdout"
        }
      ]
    },
    {
      "cell_type": "code",
      "metadata": {
        "colab_type": "code",
        "id": "APP3M2VZ6MA5",
        "colab": {
          "base_uri": "https://localhost:8080/",
          "height": 72
        },
        "outputId": "c920ce5b-9cd5-41ad-9c7f-f7f3a8d4277d"
      },
      "source": [
        "#creating array with numpy.ones()\n",
        "\n",
        "t = np.ones((3,3)) \n",
        "print(t)\n"
      ],
      "execution_count": 5,
      "outputs": [
        {
          "output_type": "stream",
          "text": [
            "[[1. 1. 1.]\n",
            " [1. 1. 1.]\n",
            " [1. 1. 1.]]\n"
          ],
          "name": "stdout"
        }
      ]
    },
    {
      "cell_type": "code",
      "metadata": {
        "id": "hRui4cxq4S_C",
        "colab_type": "code",
        "colab": {
          "base_uri": "https://localhost:8080/",
          "height": 72
        },
        "outputId": "6a501744-6921-44c2-888c-65b5d0bd439c"
      },
      "source": [
        "# creating array with numpy.eye()\n",
        "\n",
        "h = np.eye(3)\n",
        "print(h)"
      ],
      "execution_count": 12,
      "outputs": [
        {
          "output_type": "stream",
          "text": [
            "[[1. 0. 0.]\n",
            " [0. 1. 0.]\n",
            " [0. 0. 1.]]\n"
          ],
          "name": "stdout"
        }
      ]
    },
    {
      "cell_type": "code",
      "metadata": {
        "id": "In60THPw4SmC",
        "colab_type": "code",
        "colab": {
          "base_uri": "https://localhost:8080/",
          "height": 54
        },
        "outputId": "ab4d9df7-29e1-4c9b-8c59-dee0ba4e1937"
      },
      "source": [
        "#creating array with numpy.diag()\n",
        "\n",
        "v = np.diag((2,2))\n",
        "print(v)"
      ],
      "execution_count": 13,
      "outputs": [
        {
          "output_type": "stream",
          "text": [
            "[[2 0]\n",
            " [0 2]]\n"
          ],
          "name": "stdout"
        }
      ]
    },
    {
      "cell_type": "code",
      "metadata": {
        "id": "XzN9IkbW4SjS",
        "colab_type": "code",
        "colab": {
          "base_uri": "https://localhost:8080/",
          "height": 90
        },
        "outputId": "545342ad-e9fb-4057-8256-09f5f825e304"
      },
      "source": [
        "# You can specify the diagonal values\n",
        "\n",
        "j = np.diag(np.array([1,2,3,4])) \n",
        "print(j)"
      ],
      "execution_count": 14,
      "outputs": [
        {
          "output_type": "stream",
          "text": [
            "[[1 0 0 0]\n",
            " [0 2 0 0]\n",
            " [0 0 3 0]\n",
            " [0 0 0 4]]\n"
          ],
          "name": "stdout"
        }
      ]
    },
    {
      "cell_type": "code",
      "metadata": {
        "colab_type": "code",
        "id": "LnS7I6ac9K1t",
        "colab": {
          "base_uri": "https://localhost:8080/",
          "height": 36
        },
        "outputId": "13a3ba88-2bb0-46b1-bbc0-9123c8c79648"
      },
      "source": [
        "# you can use np.random.rand() random numbers between 0 and 1\n",
        "\n",
        "np.random.rand(4)"
      ],
      "execution_count": 15,
      "outputs": [
        {
          "output_type": "execute_result",
          "data": {
            "text/plain": [
              "array([0.73946713, 0.26907216, 0.20256263, 0.02011872])"
            ]
          },
          "metadata": {
            "tags": []
          },
          "execution_count": 15
        }
      ]
    },
    {
      "cell_type": "markdown",
      "metadata": {
        "colab_type": "text",
        "id": "sKYUDMYrAtTM"
      },
      "source": [
        "**Basic data types**"
      ]
    },
    {
      "cell_type": "code",
      "metadata": {
        "colab_type": "code",
        "id": "FtHh0YDLA4fJ",
        "colab": {
          "base_uri": "https://localhost:8080/",
          "height": 36
        },
        "outputId": "853e1f27-54fc-40f7-ac5b-666391252503"
      },
      "source": [
        "import numpy as np\n",
        "a = np.array([1,2,3,4])\n",
        "a.dtype\n"
      ],
      "execution_count": 16,
      "outputs": [
        {
          "output_type": "execute_result",
          "data": {
            "text/plain": [
              "dtype('int64')"
            ]
          },
          "metadata": {
            "tags": []
          },
          "execution_count": 16
        }
      ]
    },
    {
      "cell_type": "code",
      "metadata": {
        "id": "71mCVAOC72F3",
        "colab_type": "code",
        "colab": {
          "base_uri": "https://localhost:8080/",
          "height": 36
        },
        "outputId": "d24c8b18-a183-4d47-aa53-55067f0aea49"
      },
      "source": [
        "b = np.array([1.0,2.0,3.7])\n",
        "b.dtype\n"
      ],
      "execution_count": 17,
      "outputs": [
        {
          "output_type": "execute_result",
          "data": {
            "text/plain": [
              "dtype('float64')"
            ]
          },
          "metadata": {
            "tags": []
          },
          "execution_count": 17
        }
      ]
    },
    {
      "cell_type": "code",
      "metadata": {
        "id": "NJEFLurN8AOB",
        "colab_type": "code",
        "colab": {
          "base_uri": "https://localhost:8080/",
          "height": 36
        },
        "outputId": "c913ed4c-0d97-47f9-ae46-ce975a27cab8"
      },
      "source": [
        "# Note that numpy auto-detect the data type from the input. The default is always a floating point\n",
        "#One can also explicitly specify the data type to use.\n",
        "\n",
        "c = np.array([1,2,3], dtype=float)\n",
        "c.dtype"
      ],
      "execution_count": 18,
      "outputs": [
        {
          "output_type": "execute_result",
          "data": {
            "text/plain": [
              "dtype('float64')"
            ]
          },
          "metadata": {
            "tags": []
          },
          "execution_count": 18
        }
      ]
    },
    {
      "cell_type": "markdown",
      "metadata": {
        "colab_type": "text",
        "id": "-VIRTBqSCv5t"
      },
      "source": [
        "# Indexing and Slicing\n",
        "\n",
        "Numpy also makes indexing and slicing possible, easy and interesting. It makes items in an array easily accessible and can be assigned same as in lists. Regardless of the dimension (vector or matrix), it is easy to index and slice.\n",
        "\n",
        "When we hear indexing and slicing, we should picture a bread that has been sliced.\n",
        "\n",
        "<img src=\"https://raw.githubusercontent.com/WPSYG/Python-2-day-workshop/master/images/slicedbread.jpeg\">\n",
        "\n",
        "And so this is how we shall look at an array when we talk about slicing or indexing.\n",
        "\n",
        "* With **1-D** array, we can index a given element by its position, keeping in mind that in Python indexing start from zero (0).\n",
        "\n",
        "* For a **2-D**, array indexing first specify the row of the array and the second index specify the column of the array. For exampe, we use **array[0,2]** and **array[0:2]** for indexing and slicing respectively. Note that for a **2-D** array, indexing with just one index returns a given row. "
      ]
    },
    {
      "cell_type": "markdown",
      "metadata": {
        "id": "_B5hj4k8-3fN",
        "colab_type": "text"
      },
      "source": [
        "**1-D Indexing and Slicing**"
      ]
    },
    {
      "cell_type": "code",
      "metadata": {
        "colab_type": "code",
        "id": "m2P0s6gGKYd2",
        "colab": {
          "base_uri": "https://localhost:8080/",
          "height": 54
        },
        "outputId": "b7b442d4-2ffe-440a-e132-456e86b3d8ba"
      },
      "source": [
        "import numpy as np \n",
        "\n",
        "a = np.arange(10) \n",
        "print('a = ', a)\n",
        "print(a[0], a[2], a[-1] )\n"
      ],
      "execution_count": 57,
      "outputs": [
        {
          "output_type": "stream",
          "text": [
            "a =  [0 1 2 3 4 5 6 7 8 9]\n",
            "0 2 9\n"
          ],
          "name": "stdout"
        }
      ]
    },
    {
      "cell_type": "code",
      "metadata": {
        "id": "fQ7n28dz9zp6",
        "colab_type": "code",
        "colab": {
          "base_uri": "https://localhost:8080/",
          "height": 36
        },
        "outputId": "0b89cf54-cd04-4d11-9560-7a0f2153cd8c"
      },
      "source": [
        "# print two first element of a\n",
        "a[0:2]"
      ],
      "execution_count": 24,
      "outputs": [
        {
          "output_type": "execute_result",
          "data": {
            "text/plain": [
              "array([0, 1])"
            ]
          },
          "metadata": {
            "tags": []
          },
          "execution_count": 24
        }
      ]
    },
    {
      "cell_type": "code",
      "metadata": {
        "id": "guVi3ptK-Wo7",
        "colab_type": "code",
        "colab": {
          "base_uri": "https://localhost:8080/",
          "height": 36
        },
        "outputId": "b46ff82f-8fd0-4bb6-97e4-547c922706e8"
      },
      "source": [
        "# return all digits with step of 2\n",
        "\n",
        "a[::2] "
      ],
      "execution_count": 26,
      "outputs": [
        {
          "output_type": "execute_result",
          "data": {
            "text/plain": [
              "array([0, 2, 4, 6, 8])"
            ]
          },
          "metadata": {
            "tags": []
          },
          "execution_count": 26
        }
      ]
    },
    {
      "cell_type": "code",
      "metadata": {
        "id": "M0CLBGBq-kgk",
        "colab_type": "code",
        "colab": {
          "base_uri": "https://localhost:8080/",
          "height": 36
        },
        "outputId": "c1187941-5670-499d-892f-7cec3d68bdc5"
      },
      "source": [
        "a[2:9:3]  # start: stop: step"
      ],
      "execution_count": 27,
      "outputs": [
        {
          "output_type": "execute_result",
          "data": {
            "text/plain": [
              "array([2, 5, 8])"
            ]
          },
          "metadata": {
            "tags": []
          },
          "execution_count": 27
        }
      ]
    },
    {
      "cell_type": "code",
      "metadata": {
        "colab_type": "code",
        "id": "QPCok7-ARmRQ",
        "colab": {
          "base_uri": "https://localhost:8080/",
          "height": 36
        },
        "outputId": "ca73bf0e-e043-4a02-d552-a46de1ea5171"
      },
      "source": [
        "# for reversing we can use a[::-1]\n",
        "a[::-1]"
      ],
      "execution_count": 28,
      "outputs": [
        {
          "output_type": "execute_result",
          "data": {
            "text/plain": [
              "array([9, 8, 7, 6, 5, 4, 3, 2, 1, 0])"
            ]
          },
          "metadata": {
            "tags": []
          },
          "execution_count": 28
        }
      ]
    },
    {
      "cell_type": "markdown",
      "metadata": {
        "colab_type": "text",
        "id": "1kG_qUE902Ee"
      },
      "source": [
        "**2-D Indexing and Slicing**\n",
        "\n",
        "Note that for multi-dimensional arrays, indexing are tuples of integers."
      ]
    },
    {
      "cell_type": "code",
      "metadata": {
        "colab_type": "code",
        "id": "p3XTOTuHSK44",
        "colab": {
          "base_uri": "https://localhost:8080/",
          "height": 72
        },
        "outputId": "15e5d5d0-2cd3-4cef-993b-5e560bee810c"
      },
      "source": [
        "# Define our 2-D array\n",
        "\n",
        "A = np.diag(np.arange(3))\n",
        "print(A)"
      ],
      "execution_count": 30,
      "outputs": [
        {
          "output_type": "stream",
          "text": [
            "[[0 0 0]\n",
            " [0 1 0]\n",
            " [0 0 2]]\n"
          ],
          "name": "stdout"
        }
      ]
    },
    {
      "cell_type": "code",
      "metadata": {
        "id": "LYegn08l_XPT",
        "colab_type": "code",
        "colab": {
          "base_uri": "https://localhost:8080/",
          "height": 36
        },
        "outputId": "934437f4-45d0-4f05-f292-ba929df994e7"
      },
      "source": [
        "# Print the element at position (1,1):  the first interger 1 indicate row 1, counting from 0, 1,2,...and  second 1 indicate column 1\n",
        "A[1,1]"
      ],
      "execution_count": 32,
      "outputs": [
        {
          "output_type": "execute_result",
          "data": {
            "text/plain": [
              "1"
            ]
          },
          "metadata": {
            "tags": []
          },
          "execution_count": 32
        }
      ]
    },
    {
      "cell_type": "markdown",
      "metadata": {
        "id": "ffjyJAciCprV",
        "colab_type": "text"
      },
      "source": [
        "**Exercise: use indexing to assign 19 to the second row and first column i.e. A[1,0].**"
      ]
    },
    {
      "cell_type": "code",
      "metadata": {
        "id": "IteYnqgMD5JG",
        "colab_type": "code",
        "colab": {}
      },
      "source": [
        "## Your answer here"
      ],
      "execution_count": null,
      "outputs": []
    },
    {
      "cell_type": "markdown",
      "metadata": {
        "id": "7vLfgCQ8Dagj",
        "colab_type": "text"
      },
      "source": [
        "Double-click __here__ for the solution.\n",
        "\n",
        "<!-- Your answer is below: \n",
        "A[1,0]=19\n",
        "print(A)\n",
        "\n",
        "[[ 0  0  0]\n",
        " [19  1  0]\n",
        " [ 0  0  2]]\n",
        "\n",
        "-->"
      ]
    },
    {
      "cell_type": "code",
      "metadata": {
        "colab_type": "code",
        "id": "LRWPevEiVT_7",
        "colab": {
          "base_uri": "https://localhost:8080/",
          "height": 54
        },
        "outputId": "61fa166f-60bd-4d6f-84a2-ed41536ba22d"
      },
      "source": [
        "#2-D array\n",
        "x = np.array([[1,2,3],[4,5,6]])\n",
        "print(x)"
      ],
      "execution_count": 33,
      "outputs": [
        {
          "output_type": "stream",
          "text": [
            "[[1 2 3]\n",
            " [4 5 6]]\n"
          ],
          "name": "stdout"
        }
      ]
    },
    {
      "cell_type": "code",
      "metadata": {
        "id": "lRtGuiliAIR4",
        "colab_type": "code",
        "colab": {
          "base_uri": "https://localhost:8080/",
          "height": 36
        },
        "outputId": "ba33bea2-263c-4f49-85da-1de362e2ed4e"
      },
      "source": [
        "# returns the second  column of the 2-D array\n",
        "x[:,1] "
      ],
      "execution_count": 34,
      "outputs": [
        {
          "output_type": "execute_result",
          "data": {
            "text/plain": [
              "array([2, 5])"
            ]
          },
          "metadata": {
            "tags": []
          },
          "execution_count": 34
        }
      ]
    },
    {
      "cell_type": "code",
      "metadata": {
        "id": "JZobZ7BrAUrG",
        "colab_type": "code",
        "colab": {
          "base_uri": "https://localhost:8080/",
          "height": 36
        },
        "outputId": "4bbf51a0-92be-424b-bad0-087d4a0c2589"
      },
      "source": [
        "# returns the first row of the 2-D array\n",
        "\n",
        "x[1,:] "
      ],
      "execution_count": 35,
      "outputs": [
        {
          "output_type": "execute_result",
          "data": {
            "text/plain": [
              "array([4, 5, 6])"
            ]
          },
          "metadata": {
            "tags": []
          },
          "execution_count": 35
        }
      ]
    },
    {
      "cell_type": "code",
      "metadata": {
        "colab_type": "code",
        "id": "lSyxIqwwaNgZ",
        "colab": {
          "base_uri": "https://localhost:8080/",
          "height": 127
        },
        "outputId": "02754cdd-5adf-4e87-ad73-659fb5a5cb00"
      },
      "source": [
        "w = np.arange(6) + np.arange(0, 51, 10)[:, np.newaxis] \n",
        "print(w)\n"
      ],
      "execution_count": 42,
      "outputs": [
        {
          "output_type": "stream",
          "text": [
            "[[ 0  1  2  3  4  5]\n",
            " [10 11 12 13 14 15]\n",
            " [20 21 22 23 24 25]\n",
            " [30 31 32 33 34 35]\n",
            " [40 41 42 43 44 45]\n",
            " [50 51 52 53 54 55]]\n"
          ],
          "name": "stdout"
        }
      ]
    },
    {
      "cell_type": "code",
      "metadata": {
        "id": "rpP9blUKECX4",
        "colab_type": "code",
        "colab": {
          "base_uri": "https://localhost:8080/",
          "height": 90
        },
        "outputId": "b35b1508-c05c-486d-fdbf-1ebc93c1cf11"
      },
      "source": [
        "# locates the entire index zero row, identify the 3rd column and list all element stops before 5.\n",
        "print( w[0, 3:5] )\n",
        "\n",
        "# identify 5th row and list all, identify 5th column. list all \n",
        "print('......................................')\n",
        "print(w[4:, 4:]) \n",
        "\n"
      ],
      "execution_count": 45,
      "outputs": [
        {
          "output_type": "stream",
          "text": [
            "[3 4]\n",
            "......................................\n",
            "[[44 45]\n",
            " [54 55]]\n"
          ],
          "name": "stdout"
        }
      ]
    },
    {
      "cell_type": "code",
      "metadata": {
        "id": "H6NBsfiaE1lp",
        "colab_type": "code",
        "colab": {
          "base_uri": "https://localhost:8080/",
          "height": 90
        },
        "outputId": "98404e73-b5a8-4ac2-8982-9c4838950103"
      },
      "source": [
        "# identify the 3rd coln and list all element in each row.\n",
        "\n",
        "print(w[:, 2] )\n",
        "print('......................................')\n",
        "# identify the 3rd row and step by 2, identify all column and in each column step by 2.\n",
        "\n",
        "print(w[2::2, ::2])"
      ],
      "execution_count": 49,
      "outputs": [
        {
          "output_type": "stream",
          "text": [
            "[ 2 12 22 32 42 52]\n",
            "......................................\n",
            "[[20 22 24]\n",
            " [40 42 44]]\n"
          ],
          "name": "stdout"
        }
      ]
    },
    {
      "cell_type": "code",
      "metadata": {
        "colab_type": "code",
        "id": "9gHPNYvdj77f",
        "colab": {}
      },
      "source": [
        "#Uncomment and run to see the results\n",
        "# w[:2, 4:]\n",
        "# w[-1:, ]"
      ],
      "execution_count": 51,
      "outputs": []
    },
    {
      "cell_type": "markdown",
      "metadata": {
        "colab_type": "text",
        "id": "gI61VL1XcsE1"
      },
      "source": [
        "**Combining assignment and slicing**"
      ]
    },
    {
      "cell_type": "code",
      "metadata": {
        "colab_type": "code",
        "id": "0bfzijoKcpdR",
        "colab": {
          "base_uri": "https://localhost:8080/",
          "height": 72
        },
        "outputId": "eb32a0bc-08dd-41a7-9844-718b17c49a1a"
      },
      "source": [
        "import numpy as np\n",
        "\n",
        "#we assign 10 to all the digit after 5\n",
        "a = np.arange(10)\n",
        "print('Original a: ', a)\n",
        "a[5:] =10  \n",
        "print('............................')   \n",
        "print(a)"
      ],
      "execution_count": 55,
      "outputs": [
        {
          "output_type": "stream",
          "text": [
            "Original a:  [0 1 2 3 4 5 6 7 8 9]\n",
            "............................\n",
            "[ 0  1  2  3  4 10 10 10 10 10]\n"
          ],
          "name": "stdout"
        }
      ]
    },
    {
      "cell_type": "code",
      "metadata": {
        "id": "xnkCKTucGG1A",
        "colab_type": "code",
        "colab": {
          "base_uri": "https://localhost:8080/",
          "height": 36
        },
        "outputId": "0d5cbcfc-0455-465c-baa4-be90c1cb4a35"
      },
      "source": [
        "#we assign backwards digits from 0 to 4 to a after 5.\n",
        "\n",
        "b = np.arange(5)\n",
        "a[5:] = b[::-1] \n",
        "print(a)"
      ],
      "execution_count": 56,
      "outputs": [
        {
          "output_type": "stream",
          "text": [
            "[0 1 2 3 4 4 3 2 1 0]\n"
          ],
          "name": "stdout"
        }
      ]
    },
    {
      "cell_type": "markdown",
      "metadata": {
        "colab_type": "text",
        "id": "ZOscDCxJgM-a"
      },
      "source": [
        "# **Exercises**\n",
        "\n",
        "1. Create a simple two dimensional array. Create your own with odd numbers counting backwards on the first row and even numbers on the second.\n",
        "2. Find the shape, ndim and len() of your array created. Note that len() of 2-D gives only the size of the first dimension.\n",
        "\n",
        " \n",
        "3. Try the different flavours of slicing, using start, end and step: starting from linspace, try to obtain odd numbers counting backwards and even numbers counting forward.\n",
        "\n",
        "2. Using *np.arange(6) + np.arange(0,51,10) [:, np.newaxis]* reproduce the slicies in the **W** above. And write slice to locate [[4,5],[14,15]] and [ 50, 51, 52, 54, 55]."
      ]
    },
    {
      "cell_type": "markdown",
      "metadata": {
        "id": "Rpy0U1sVHg-6",
        "colab_type": "text"
      },
      "source": [
        "Correction"
      ]
    },
    {
      "cell_type": "markdown",
      "metadata": {
        "colab_type": "text",
        "id": "p03-5RUjlkFC"
      },
      "source": [
        " **Array Shape Manipulation** "
      ]
    },
    {
      "cell_type": "code",
      "metadata": {
        "colab_type": "code",
        "id": "xAZf9rE7zwPN",
        "colab": {
          "base_uri": "https://localhost:8080/",
          "height": 90
        },
        "outputId": "4fb01de1-8d6e-4375-9ce4-39af79840843"
      },
      "source": [
        "#flattening\n",
        "a = np.array([[1,2,3],[4,5,6]])\n",
        "print('a=',a)\n",
        "print('ravel : ', a.ravel())\n",
        "print('flatten :', a.flatten())"
      ],
      "execution_count": 63,
      "outputs": [
        {
          "output_type": "stream",
          "text": [
            "a= [[1 2 3]\n",
            " [4 5 6]]\n",
            "ravel :  [1 2 3 4 5 6]\n",
            "flatten : [1 2 3 4 5 6]\n"
          ],
          "name": "stdout"
        }
      ]
    },
    {
      "cell_type": "code",
      "metadata": {
        "id": "lqlmGGHcIiAf",
        "colab_type": "code",
        "colab": {
          "base_uri": "https://localhost:8080/",
          "height": 36
        },
        "outputId": "95e1e59b-ca89-4ae2-8345-e9b7a7c68d4c"
      },
      "source": [
        "a.shape "
      ],
      "execution_count": 64,
      "outputs": [
        {
          "output_type": "execute_result",
          "data": {
            "text/plain": [
              "(2, 3)"
            ]
          },
          "metadata": {
            "tags": []
          },
          "execution_count": 64
        }
      ]
    },
    {
      "cell_type": "code",
      "metadata": {
        "id": "B68cfRnsHuRf",
        "colab_type": "code",
        "colab": {
          "base_uri": "https://localhost:8080/",
          "height": 90
        },
        "outputId": "3b025195-a517-4a37-ba93-03939aa2adb5"
      },
      "source": [
        "#reshaping\n",
        "b = a.ravel()\n",
        "b = b.reshape((2,3))\n",
        "print(b)\n",
        "print('...........')\n",
        "#resize\n",
        "k= np.arange(4)\n",
        "k.resize((6))\n",
        "print(k)\n"
      ],
      "execution_count": 65,
      "outputs": [
        {
          "output_type": "stream",
          "text": [
            "[[1 2 3]\n",
            " [4 5 6]]\n",
            "...........\n",
            "[0 1 2 3 0 0]\n"
          ],
          "name": "stdout"
        }
      ]
    },
    {
      "cell_type": "code",
      "metadata": {
        "id": "WRHgXX7nIzzW",
        "colab_type": "code",
        "colab": {
          "base_uri": "https://localhost:8080/",
          "height": 54
        },
        "outputId": "f83ba8a1-7b4d-484f-dc67-8c59635ebb3d"
      },
      "source": [
        "#sorting: note that sorting is done along axis in numpy\n",
        "\n",
        "n = np.array([[4,3,5],[1,2,1]])\n",
        "#print(n)\n",
        "m = np.sort(n, axis=1) #n.sort(axis=1)  sorts each row separately.\n",
        "print(m)"
      ],
      "execution_count": 74,
      "outputs": [
        {
          "output_type": "stream",
          "text": [
            "[[3 4 5]\n",
            " [1 1 2]]\n"
          ],
          "name": "stdout"
        }
      ]
    },
    {
      "cell_type": "markdown",
      "metadata": {
        "colab_type": "text",
        "id": "yWOHJIpzqIxv"
      },
      "source": [
        "**Arithmatic operations on arrays:**"
      ]
    },
    {
      "cell_type": "code",
      "metadata": {
        "colab_type": "code",
        "id": "oltQK8V9rDQd",
        "colab": {
          "base_uri": "https://localhost:8080/",
          "height": 36
        },
        "outputId": "a2963db4-45af-421f-a5c7-2e0c782288e8"
      },
      "source": [
        "d = np.array([1,2,3,4]) \n",
        "f = d+1 # adds 1 to each element\n",
        "#f = 2*d  # multiply 2 to each element \n",
        "print(f)\n"
      ],
      "execution_count": 79,
      "outputs": [
        {
          "output_type": "stream",
          "text": [
            "[2 3 4 5]\n"
          ],
          "name": "stdout"
        }
      ]
    },
    {
      "cell_type": "code",
      "metadata": {
        "id": "cRvfeOUpJsIZ",
        "colab_type": "code",
        "colab": {
          "base_uri": "https://localhost:8080/",
          "height": 72
        },
        "outputId": "6018f6f5-a2c3-412d-82d1-ca9359e3a7d1"
      },
      "source": [
        "l = np.ones(4) +1 \n",
        "print('l=', l)\n",
        "print(\"...........\")\n",
        "j = np.arange(5)\n",
        "r = 2**(j + 1)-j\n",
        "print('r= ', r)"
      ],
      "execution_count": 81,
      "outputs": [
        {
          "output_type": "stream",
          "text": [
            "l= [2. 2. 2. 2.]\n",
            "...........\n",
            "r=  [ 2  3  6 13 28]\n"
          ],
          "name": "stdout"
        }
      ]
    },
    {
      "cell_type": "markdown",
      "metadata": {
        "colab_type": "text",
        "id": "HPYng5H_tU1v"
      },
      "source": [
        "## Advanced operations with Numpy\n",
        "\n",
        "Numpy can be used in many advanced Python programming skills. These may include loading data files, plotting simple 1-D and 2-D (images) arrays etc. Here we shall consider ploting with 1-D array and 2-D array."
      ]
    },
    {
      "cell_type": "code",
      "metadata": {
        "colab_type": "code",
        "id": "MplpG8Z6u4KD",
        "colab": {
          "base_uri": "https://localhost:8080/",
          "height": 284
        },
        "outputId": "9dbdc712-6e5a-4927-f108-082833559382"
      },
      "source": [
        "import numpy as np\n",
        "import matplotlib.pyplot as plt # package to plot\n",
        "\n",
        "x = np.linspace(0,3,20)\n",
        "q = np.linspace(0,9,20)\n",
        "plt.plot(x,q)\n",
        "plt.plot(x,q, \"o\")\n"
      ],
      "execution_count": 83,
      "outputs": [
        {
          "output_type": "execute_result",
          "data": {
            "text/plain": [
              "[<matplotlib.lines.Line2D at 0x7fe9d675f160>]"
            ]
          },
          "metadata": {
            "tags": []
          },
          "execution_count": 83
        },
        {
          "output_type": "display_data",
          "data": {
            "image/png": "[encoded data removed]",
            "text/plain": [
              "<Figure size 432x288 with 1 Axes>"
            ]
          },
          "metadata": {
            "tags": [],
            "needs_background": "light"
          }
        }
      ]
    },
    {
      "cell_type": "code",
      "metadata": {
        "colab_type": "code",
        "id": "ROiKAsBjvv3q",
        "colab": {
          "base_uri": "https://localhost:8080/",
          "height": 285
        },
        "outputId": "0e37acbc-00c7-4ddf-a9c1-0a7da78cfe80"
      },
      "source": [
        "import numpy as np\n",
        "import matplotlib.pyplot as plt\n",
        "\n",
        "img = np.random.rand(30,30)\n",
        "plt.imshow(img, cmap=plt.cm.gist_rainbow_r)\n",
        "plt.colorbar()\n",
        "#plt.show"
      ],
      "execution_count": 84,
      "outputs": [
        {
          "output_type": "execute_result",
          "data": {
            "text/plain": [
              "<matplotlib.colorbar.Colorbar at 0x7fe9d61de438>"
            ]
          },
          "metadata": {
            "tags": []
          },
          "execution_count": 84
        },
        {
          "output_type": "display_data",
          "data": {
            "image/png": "[encoded data removed]",
            "text/plain": [
              "<Figure size 432x288 with 2 Axes>"
            ]
          },
          "metadata": {
            "tags": [],
            "needs_background": "light"
          }
        }
      ]
    },
    {
      "cell_type": "markdown",
      "metadata": {
        "colab_type": "text",
        "id": "f6xhIJkwuzAt"
      },
      "source": [
        "___\n",
        "**Course Content Creators**: Sokhar Samb, Foutse, [Deborah D Kanubala](https://www.linkedin.com/in/ddk2018/), Faith Benson, Salomey Osei, Yolande Ngueabou, Deo Byabazaire, [Bernard Osei](https://www.linkedin.com/in/bernard-osei/), Elkanah Nyabuto, [Berthine Nyunga](https://www.linkedin.com/in/berthine-nyunga-51b492145/).\n",
        "\n",
        "\n",
        "\n",
        "\n",
        "\n",
        "\n",
        "**Course Reviewer:** [Salomon Kabongo](https://twitter.com/SalomonKabongo1)"
      ]
    },
    {
      "cell_type": "code",
      "metadata": {
        "id": "1rW0JzhKLPkm",
        "colab_type": "code",
        "colab": {}
      },
      "source": [
        ""
      ],
      "execution_count": null,
      "outputs": []
    }
  ]
}