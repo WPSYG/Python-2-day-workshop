{
  "nbformat": 4,
  "nbformat_minor": 0,
  "metadata": {
    "colab": {
      "name": "Part 04 : Numpy.ipynb",
      "provenance": [],
      "include_colab_link": true
    },
    "kernelspec": {
      "display_name": "Python 3",
      "language": "python",
      "name": "python3"
    },
    "language_info": {
      "codemirror_mode": {
        "name": "ipython",
        "version": 3
      },
      "file_extension": ".py",
      "mimetype": "text/x-python",
      "name": "python",
      "nbconvert_exporter": "python",
      "pygments_lexer": "ipython3",
      "version": "3.7.4"
    }
  },
  "cells": [
    {
      "cell_type": "markdown",
      "metadata": {
        "id": "view-in-github",
        "colab_type": "text"
      },
      "source": [
        "<a href=\"https://colab.research.google.com/github/WPSYG/Python-2-day-workshop/blob/master/Part_04_Numpy.ipynb\" target=\"_parent\"><img src=\"https://colab.research.google.com/assets/colab-badge.svg\" alt=\"Open In Colab\"/></a>"
      ]
    },
    {
      "cell_type": "markdown",
      "metadata": {
        "colab_type": "text",
        "id": "FCt26ccOunrW"
      },
      "source": [
        "<img src=\"https://raw.githubusercontent.com/WPSYG/Python-2-day-workshop/master/images/logo_color_v1.jpeg?token=AIW35UFEDY4NZV2BTI6NYPS7HQ4XM\">"
      ]
    },
    {
      "cell_type": "markdown",
      "metadata": {
        "colab_type": "text",
        "id": "GDLup0Di5azm"
      },
      "source": [
        "# Numpy Arrays For Python \n"
      ]
    },
    {
      "cell_type": "code",
      "metadata": {
        "id": "ANGfdn_nzFYv",
        "colab_type": "code",
        "colab": {}
      },
      "source": [
        ""
      ],
      "execution_count": null,
      "outputs": []
    },
    {
      "cell_type": "markdown",
      "metadata": {
        "colab_type": "text",
        "id": "U0wr0Oqim0Re"
      },
      "source": [
        "Python has a lot of extension packages used for different purposes and operations. NumPy happens to be one of the commonly used extension package for multi-dimensional arrays. NumPy is designed for scientific computations. ie. it is very convenient to use. It is sometimes known as array oriented computing. In our discussion today, we shall look at NumPy array in general. I know some of you may have used NumPy array before, such people might consider this lesson a revision for them. On the contary, those who have not should relax, and enjoy the lesson because it is going to be interractive and interesting.\n",
        "\n",
        "**Outcome Of Session:** By the end of the session learners will be able to;\n",
        "* Know how to create array and use function arrays to create arrays. i.e, arange, zeros, ones , diag etc.\n",
        "* Know the shape of the array using array.shape and use slicing to obtain different views of the array ( array[::2]).\n",
        "* Adjust the shape of the array using reshape or flatten it with ravel.\n",
        "* Know how to perform operations on arrays such as add, subtract, multiply etc and find the mean or max of arrays (array.max(), array.mean()).\n",
        "* Also perform some possible advanced operation such as plot 1-D, 2-D (image) arrays .\n",
        "\n",
        "**Source:** For further readings you can visit <a href=\"https://numpy.org/install/\">numpy.org</a> or download the following book [A Practical Introduction to Python Programming by Heinold](https://drive.google.com/file/d/1Gg9ixrTXbfOxOFfIk9lpxYnYKzMqC4D5/view?usp=sharing) and [Dan Bader-Python Tricks: A Buffet of Awesome Python Features](https://drive.google.com/file/d/1rCs6_GtxxvSNsQG-pHG-oNrCbQ42gWjt/view?usp=sharing).\n",
        "\n",
        "**NumPy Array**:\n",
        "* Python modules designed for scientific computations.\n",
        "*  Serves as containers:list (costless insertion and append).\n",
        "* Helpful to perform linear algebra and generate random numbers.\n",
        "* Used to represent vectors and matrices.\n",
        "\n",
        "**Why is it useful ?**: The simple answer to this question is that it creates memory-efficient containers that provides fast numerical operations.\n",
        "\n",
        "Since Numpy is a built-in package in python, one needs to import using the command line below **import numpy as np**. The **np** can be anything, it can be **as**, **ap** or **pk** but **np** remind as of \n",
        "using numpy. It is just for convenient sake.\n",
        "\n"
      ]
    },
    {
      "cell_type": "code",
      "metadata": {
        "colab_type": "code",
        "id": "dslyTP32tUQh",
        "colab": {}
      },
      "source": [
        "##How to import numpy package\n",
        "import numpy as np  "
      ],
      "execution_count": null,
      "outputs": []
    },
    {
      "cell_type": "markdown",
      "metadata": {
        "colab_type": "text",
        "id": "vF5DxJzNu_gY"
      },
      "source": [
        "## Creating Arrays: 1-D, 2-D,... \n",
        "\n",
        "To create a 1-dimensional array, one consider to create a list **[1,2,3]** and add **np.array()**, i.e. **np.array([1,2,3]).** Similarly, to create **2-D**, create a list with two rows (first row and second row). i.e  **[3,5,4],[7,8,10]**, put them into a bigger list **[[3,5,4],[7,8,10]]** and add **numpy.array([[3,5,4],[7,4,10]]).** We demonstrate these in the code."
      ]
    },
    {
      "cell_type": "code",
      "metadata": {
        "colab_type": "code",
        "id": "Rq4s4fvcwsbu",
        "colab": {
          "base_uri": "https://localhost:8080/",
          "height": 34
        },
        "outputId": "f5b0fd67-22fb-4e67-b811-0af387de8624"
      },
      "source": [
        "#creating 1-D array\n",
        "import numpy as np\n",
        "\n",
        "y = np.array([1,2,3])\n",
        "y"
      ],
      "execution_count": null,
      "outputs": [
        {
          "output_type": "execute_result",
          "data": {
            "text/plain": [
              "array([1, 2, 3])"
            ]
          },
          "metadata": {
            "tags": []
          },
          "execution_count": 3
        }
      ]
    },
    {
      "cell_type": "code",
      "metadata": {
        "colab_type": "code",
        "id": "yQ0ZOl08xRZr",
        "colab": {
          "base_uri": "https://localhost:8080/",
          "height": 34
        },
        "outputId": "fca84212-7f37-4c1e-c0f1-267aea605328"
      },
      "source": [
        "y.shape"
      ],
      "execution_count": null,
      "outputs": [
        {
          "output_type": "execute_result",
          "data": {
            "text/plain": [
              "(3,)"
            ]
          },
          "metadata": {
            "tags": []
          },
          "execution_count": 6
        }
      ]
    },
    {
      "cell_type": "code",
      "metadata": {
        "colab_type": "code",
        "id": "gV-aVEEnxYLS",
        "colab": {
          "base_uri": "https://localhost:8080/",
          "height": 34
        },
        "outputId": "a08f89bb-2363-4794-d477-8b0df709ab47"
      },
      "source": [
        "y.ndim"
      ],
      "execution_count": null,
      "outputs": [
        {
          "output_type": "execute_result",
          "data": {
            "text/plain": [
              "1"
            ]
          },
          "metadata": {
            "tags": []
          },
          "execution_count": 39
        }
      ]
    },
    {
      "cell_type": "code",
      "metadata": {
        "colab_type": "code",
        "id": "tKZcFrQXxcDd",
        "colab": {
          "base_uri": "https://localhost:8080/",
          "height": 34
        },
        "outputId": "e977731e-21de-48e8-9440-482f1c3daede"
      },
      "source": [
        "len(y)"
      ],
      "execution_count": null,
      "outputs": [
        {
          "output_type": "execute_result",
          "data": {
            "text/plain": [
              "3"
            ]
          },
          "metadata": {
            "tags": []
          },
          "execution_count": 40
        }
      ]
    },
    {
      "cell_type": "code",
      "metadata": {
        "colab_type": "code",
        "id": "U0DSEDJ7xkob",
        "colab": {
          "base_uri": "https://localhost:8080/",
          "height": 51
        },
        "outputId": "54ace580-0f9a-4a2b-ee6d-5121a58230e9"
      },
      "source": [
        "#creating  2-D array\n",
        "import numpy as np\n",
        "z = np.array([[3,5,4],[7,4,10]])\n",
        "z"
      ],
      "execution_count": null,
      "outputs": [
        {
          "output_type": "execute_result",
          "data": {
            "text/plain": [
              "array([[ 3,  5,  4],\n",
              "       [ 7,  4, 10]])"
            ]
          },
          "metadata": {
            "tags": []
          },
          "execution_count": 5
        }
      ]
    },
    {
      "cell_type": "code",
      "metadata": {
        "colab_type": "code",
        "id": "FRVI37MhyO3A",
        "colab": {
          "base_uri": "https://localhost:8080/",
          "height": 34
        },
        "outputId": "481c5f87-f932-4174-d807-ced8fdee4a0e"
      },
      "source": [
        "z.shape"
      ],
      "execution_count": null,
      "outputs": [
        {
          "output_type": "execute_result",
          "data": {
            "text/plain": [
              "(2, 3)"
            ]
          },
          "metadata": {
            "tags": []
          },
          "execution_count": 9
        }
      ]
    },
    {
      "cell_type": "markdown",
      "metadata": {
        "colab_type": "text",
        "id": "1V5h7RnAzuAi"
      },
      "source": [
        "# Functions for creating arrays\n",
        "\n",
        " The following functions help sometimes to prevent entering arrays manually. These include arange(), linspace(), ones(), diag(), zeros() etc. \n",
        " \n",
        " For a linspace() and arange() functions, we may have **numpy.linspace(start, end, step)**, **numpy.arange(number)** or **numpy.arange(start,end,step)**. With numpy.linspace(start, end, step), step gives the number of divisions between the end and start which will include the end and start or one can use **numpy.linspace(start, end, endpoint=False)** to exclude the end point from the interval. We note that python excludes the endpoint of **numpy.arange()** in all cases.  "
      ]
    },
    {
      "cell_type": "code",
      "metadata": {
        "colab_type": "code",
        "id": "JAq_uah73j7u",
        "colab": {
          "base_uri": "https://localhost:8080/",
          "height": 34
        },
        "outputId": "d309c81c-8807-428e-a08b-66b9479aa6c6"
      },
      "source": [
        "#creating np.arange()\n",
        "a = np.arange(10)\n",
        "print(a)"
      ],
      "execution_count": null,
      "outputs": [
        {
          "output_type": "stream",
          "text": [
            "[0 1 2 3 4 5 6 7 8 9]\n"
          ],
          "name": "stdout"
        }
      ]
    },
    {
      "cell_type": "code",
      "metadata": {
        "colab_type": "code",
        "id": "ZNz5up5h31RQ",
        "colab": {
          "base_uri": "https://localhost:8080/",
          "height": 34
        },
        "outputId": "a597c4cb-3833-4d27-fcca-24eeef085aef"
      },
      "source": [
        "p = np.arange(1,10,2) # start at 1 and step with 2\n",
        "p"
      ],
      "execution_count": null,
      "outputs": [
        {
          "output_type": "execute_result",
          "data": {
            "text/plain": [
              "array([1, 3, 5, 7, 9])"
            ]
          },
          "metadata": {
            "tags": []
          },
          "execution_count": 52
        }
      ]
    },
    {
      "cell_type": "code",
      "metadata": {
        "colab_type": "code",
        "id": "-Ppp0kp14Rrr",
        "colab": {
          "base_uri": "https://localhost:8080/",
          "height": 34
        },
        "outputId": "9216fa2f-dbca-4056-b701-94d9875c239e"
      },
      "source": [
        "#creating np.linspace()\n",
        "\n",
        "np.linspace(0,1,6)\n",
        "\n"
      ],
      "execution_count": null,
      "outputs": [
        {
          "output_type": "execute_result",
          "data": {
            "text/plain": [
              "array([0. , 0.2, 0.4, 0.6, 0.8, 1. ])"
            ]
          },
          "metadata": {
            "tags": []
          },
          "execution_count": 11
        }
      ]
    },
    {
      "cell_type": "code",
      "metadata": {
        "id": "M97yZG6L3G6z",
        "colab_type": "code",
        "colab": {
          "base_uri": "https://localhost:8080/",
          "height": 36
        },
        "outputId": "77d9113e-5167-47b0-e271-51b1ed2ca5d1"
      },
      "source": [
        "#creating np.linspace to exclude the end point from the interval\n",
        "\n",
        "np.linspace(0,1,5,endpoint=False)"
      ],
      "execution_count": null,
      "outputs": [
        {
          "output_type": "execute_result",
          "data": {
            "text/plain": [
              "array([0. , 0.2, 0.4, 0.6, 0.8])"
            ]
          },
          "metadata": {
            "tags": []
          },
          "execution_count": 3
        }
      ]
    },
    {
      "cell_type": "code",
      "metadata": {
        "colab_type": "code",
        "id": "2bn-ZS9E5Fbo",
        "colab": {
          "base_uri": "https://localhost:8080/",
          "height": 34
        },
        "outputId": "69588a34-6ea8-498f-9618-6e1c5e0292bf"
      },
      "source": [
        "#creating some common arrays\n",
        "\n",
        "zeros_vectors = np.zeros(5)\n",
        "print(zeros_vectors)\n",
        "\n"
      ],
      "execution_count": null,
      "outputs": [
        {
          "output_type": "stream",
          "text": [
            "[0. 0. 0. 0. 0.]\n"
          ],
          "name": "stdout"
        }
      ]
    },
    {
      "cell_type": "code",
      "metadata": {
        "id": "UIfrMWeL6IAg",
        "colab_type": "code",
        "colab": {
          "base_uri": "https://localhost:8080/",
          "height": 36
        },
        "outputId": "057eec8a-f6e1-4754-bc63-596d9a3c202d"
      },
      "source": [
        "ones_vectors = np.ones(5)\n",
        "print(ones_vectors )"
      ],
      "execution_count": null,
      "outputs": [
        {
          "output_type": "stream",
          "text": [
            "[1. 1. 1. 1. 1.]\n"
          ],
          "name": "stdout"
        }
      ]
    },
    {
      "cell_type": "code",
      "metadata": {
        "id": "VM9rEgP36e7M",
        "colab_type": "code",
        "colab": {
          "base_uri": "https://localhost:8080/",
          "height": 34
        },
        "outputId": "0fcb8684-8831-4867-c5d7-3131a0ceca37"
      },
      "source": [
        "# you can multiply a vector by a number\n",
        "\n",
        "vectors = 3*np.ones(5)\n",
        "print(vectors)"
      ],
      "execution_count": null,
      "outputs": [
        {
          "output_type": "stream",
          "text": [
            "[3. 3. 3. 3. 3.]\n"
          ],
          "name": "stdout"
        }
      ]
    },
    {
      "cell_type": "code",
      "metadata": {
        "id": "AFRc_gv65ovH",
        "colab_type": "code",
        "colab": {
          "base_uri": "https://localhost:8080/",
          "height": 102
        },
        "outputId": "fb2c4bef-e029-48d2-beae-66a8bcc186d8"
      },
      "source": [
        "#creating a full zero matrix\n",
        "\n",
        "zeros_matrix = np.zeros((5,3)) #reminder this takes in tuples as an input\n",
        "print(zeros_matrix)"
      ],
      "execution_count": null,
      "outputs": [
        {
          "output_type": "stream",
          "text": [
            "[[0. 0. 0.]\n",
            " [0. 0. 0.]\n",
            " [0. 0. 0.]\n",
            " [0. 0. 0.]\n",
            " [0. 0. 0.]]\n"
          ],
          "name": "stdout"
        }
      ]
    },
    {
      "cell_type": "code",
      "metadata": {
        "colab_type": "code",
        "id": "APP3M2VZ6MA5",
        "colab": {
          "base_uri": "https://localhost:8080/",
          "height": 72
        },
        "outputId": "c920ce5b-9cd5-41ad-9c7f-f7f3a8d4277d"
      },
      "source": [
        "#creating array with numpy.ones()\n",
        "\n",
        "t = np.ones((3,3)) \n",
        "print(t)\n"
      ],
      "execution_count": null,
      "outputs": [
        {
          "output_type": "stream",
          "text": [
            "[[1. 1. 1.]\n",
            " [1. 1. 1.]\n",
            " [1. 1. 1.]]\n"
          ],
          "name": "stdout"
        }
      ]
    },
    {
      "cell_type": "code",
      "metadata": {
        "id": "hRui4cxq4S_C",
        "colab_type": "code",
        "colab": {
          "base_uri": "https://localhost:8080/",
          "height": 72
        },
        "outputId": "6a501744-6921-44c2-888c-65b5d0bd439c"
      },
      "source": [
        "# creating array with numpy.eye()\n",
        "\n",
        "h = np.eye(3)\n",
        "print(h)"
      ],
      "execution_count": null,
      "outputs": [
        {
          "output_type": "stream",
          "text": [
            "[[1. 0. 0.]\n",
            " [0. 1. 0.]\n",
            " [0. 0. 1.]]\n"
          ],
          "name": "stdout"
        }
      ]
    },
    {
      "cell_type": "code",
      "metadata": {
        "id": "In60THPw4SmC",
        "colab_type": "code",
        "colab": {
          "base_uri": "https://localhost:8080/",
          "height": 51
        },
        "outputId": "8d6e9d7e-40f4-4b1b-e701-802e9b21c5f9"
      },
      "source": [
        "#creating array with numpy.diag()\n",
        "\n",
        "v = np.diag((3,3))\n",
        "print(v)"
      ],
      "execution_count": null,
      "outputs": [
        {
          "output_type": "stream",
          "text": [
            "[[3 0]\n",
            " [0 3]]\n"
          ],
          "name": "stdout"
        }
      ]
    },
    {
      "cell_type": "code",
      "metadata": {
        "id": "XzN9IkbW4SjS",
        "colab_type": "code",
        "colab": {
          "base_uri": "https://localhost:8080/",
          "height": 102
        },
        "outputId": "f533f0ca-ce48-4069-fca3-4a2e37e57612"
      },
      "source": [
        "# You can specify the diagonal values\n",
        "\n",
        "j = np.diag(np.array([1,2,3,4])) \n",
        "print(j)"
      ],
      "execution_count": null,
      "outputs": [
        {
          "output_type": "stream",
          "text": [
            "[[1 0 0 0]\n",
            " [0 2 0 0]\n",
            " [0 0 3 0]\n",
            " [0 0 0 4]]\n"
          ],
          "name": "stdout"
        },
        {
          "output_type": "execute_result",
          "data": {
            "text/plain": [
              "array([0, 0, 0, 4])"
            ]
          },
          "metadata": {
            "tags": []
          },
          "execution_count": 23
        }
      ]
    },
    {
      "cell_type": "code",
      "metadata": {
        "colab_type": "code",
        "id": "LnS7I6ac9K1t",
        "colab": {
          "base_uri": "https://localhost:8080/",
          "height": 34
        },
        "outputId": "f333b040-e88b-49a7-cc81-b991c849c112"
      },
      "source": [
        "# you can use np.random.rand() to generate random numbers between 0 and 1\n",
        "\n",
        "np.random.rand(5)"
      ],
      "execution_count": null,
      "outputs": [
        {
          "output_type": "execute_result",
          "data": {
            "text/plain": [
              "array([0.99528703, 0.18506091, 0.35277717, 0.36349373, 0.80265951])"
            ]
          },
          "metadata": {
            "tags": []
          },
          "execution_count": 26
        }
      ]
    },
    {
      "cell_type": "markdown",
      "metadata": {
        "colab_type": "text",
        "id": "sKYUDMYrAtTM"
      },
      "source": [
        "**Basic data types**"
      ]
    },
    {
      "cell_type": "code",
      "metadata": {
        "colab_type": "code",
        "id": "FtHh0YDLA4fJ",
        "colab": {
          "base_uri": "https://localhost:8080/",
          "height": 36
        },
        "outputId": "853e1f27-54fc-40f7-ac5b-666391252503"
      },
      "source": [
        "import numpy as np\n",
        "a = np.array([1,2,3,4])\n",
        "a.dtype\n"
      ],
      "execution_count": null,
      "outputs": [
        {
          "output_type": "execute_result",
          "data": {
            "text/plain": [
              "dtype('int64')"
            ]
          },
          "metadata": {
            "tags": []
          },
          "execution_count": 16
        }
      ]
    },
    {
      "cell_type": "code",
      "metadata": {
        "id": "71mCVAOC72F3",
        "colab_type": "code",
        "colab": {
          "base_uri": "https://localhost:8080/",
          "height": 36
        },
        "outputId": "d24c8b18-a183-4d47-aa53-55067f0aea49"
      },
      "source": [
        "b = np.array([1.0,2.0,3.7])\n",
        "b.dtype\n"
      ],
      "execution_count": null,
      "outputs": [
        {
          "output_type": "execute_result",
          "data": {
            "text/plain": [
              "dtype('float64')"
            ]
          },
          "metadata": {
            "tags": []
          },
          "execution_count": 17
        }
      ]
    },
    {
      "cell_type": "code",
      "metadata": {
        "id": "NJEFLurN8AOB",
        "colab_type": "code",
        "colab": {
          "base_uri": "https://localhost:8080/",
          "height": 34
        },
        "outputId": "d199efc2-e40f-4fd0-b80a-6fdc5cd87afa"
      },
      "source": [
        "# Note that numpy auto-detect the data type from the input. The default is always a floating point\n",
        "#One can also explicitly specify the data type to use.\n",
        "\n",
        "c = np.array([1,2,3], dtype=float)\n",
        "c.dtype"
      ],
      "execution_count": null,
      "outputs": [
        {
          "output_type": "execute_result",
          "data": {
            "text/plain": [
              "array([1., 2., 3.])"
            ]
          },
          "metadata": {
            "tags": []
          },
          "execution_count": 27
        }
      ]
    },
    {
      "cell_type": "markdown",
      "metadata": {
        "colab_type": "text",
        "id": "-VIRTBqSCv5t"
      },
      "source": [
        "# Indexing and Slicing\n",
        "\n",
        "Numpy also makes indexing and slicing possible, easy and interesting. It makes items in an array easily accessible and can be assigned same as in lists. Regardless of the dimension (vector or matrix), it is easy to index and slice.\n",
        "\n",
        "When we hear indexing and slicing, we should picture a bread that has been sliced.\n",
        "\n",
        "<img src=\"https://raw.githubusercontent.com/WPSYG/Python-2-day-workshop/master/images/slicedbread.jpeg\">\n",
        "\n",
        "And so this is how we shall look at an array when we talk about slicing or indexing.\n",
        "\n",
        "* With **1-D** array, we can index a given element by its position, keeping in mind that in Python indexing start from zero (0).\n",
        "\n",
        "* For a **2-D**, array indexing first specify the row of the array and the second index specify the column of the array. For example, we use **array[0,2]** and **array[0:2]** for indexing and slicing respectively. Note that for a **2-D** array, indexing with just one index returns a given row. "
      ]
    },
    {
      "cell_type": "markdown",
      "metadata": {
        "id": "_B5hj4k8-3fN",
        "colab_type": "text"
      },
      "source": [
        "**1-D Indexing and Slicing**"
      ]
    },
    {
      "cell_type": "code",
      "metadata": {
        "colab_type": "code",
        "id": "m2P0s6gGKYd2",
        "colab": {
          "base_uri": "https://localhost:8080/",
          "height": 34
        },
        "outputId": "95bd00ca-e33e-4406-e69a-31eaf21d691b"
      },
      "source": [
        "import numpy as np \n",
        "\n",
        "a = np.arange(10) \n",
        "print('a = ', a)\n"
      ],
      "execution_count": null,
      "outputs": [
        {
          "output_type": "stream",
          "text": [
            "a =  [0 1 2 3 4 5 6 7 8 9]\n"
          ],
          "name": "stdout"
        }
      ]
    },
    {
      "cell_type": "code",
      "metadata": {
        "id": "8tHZRNTPAvN4",
        "colab_type": "code",
        "colab": {
          "base_uri": "https://localhost:8080/",
          "height": 34
        },
        "outputId": "6d1edbf5-270f-4262-d299-a05fc950e091"
      },
      "source": [
        "#locating the first element\n",
        "a[0]"
      ],
      "execution_count": null,
      "outputs": [
        {
          "output_type": "execute_result",
          "data": {
            "text/plain": [
              "0"
            ]
          },
          "metadata": {
            "tags": []
          },
          "execution_count": 25
        }
      ]
    },
    {
      "cell_type": "code",
      "metadata": {
        "id": "wXIrJWcGBGnW",
        "colab_type": "code",
        "colab": {
          "base_uri": "https://localhost:8080/",
          "height": 34
        },
        "outputId": "b6dc5723-b9ad-4bb5-8ed2-a3c0cec3c5dc"
      },
      "source": [
        "#indexing the 3rd element\n",
        "a[2]"
      ],
      "execution_count": null,
      "outputs": [
        {
          "output_type": "execute_result",
          "data": {
            "text/plain": [
              "2"
            ]
          },
          "metadata": {
            "tags": []
          },
          "execution_count": 24
        }
      ]
    },
    {
      "cell_type": "code",
      "metadata": {
        "id": "kJxFzsWEBH4A",
        "colab_type": "code",
        "colab": {
          "base_uri": "https://localhost:8080/",
          "height": 34
        },
        "outputId": "9e8221bb-d2b5-4e78-be1b-9e5171374c83"
      },
      "source": [
        "#indexing the last element\n",
        "a[-1]"
      ],
      "execution_count": null,
      "outputs": [
        {
          "output_type": "execute_result",
          "data": {
            "text/plain": [
              "9"
            ]
          },
          "metadata": {
            "tags": []
          },
          "execution_count": 23
        }
      ]
    },
    {
      "cell_type": "code",
      "metadata": {
        "id": "fQ7n28dz9zp6",
        "colab_type": "code",
        "colab": {
          "base_uri": "https://localhost:8080/",
          "height": 34
        },
        "outputId": "024fded5-327e-4f2c-ec47-295cbcc5583d"
      },
      "source": [
        "# print two first element of a\n",
        "a[0:2]"
      ],
      "execution_count": null,
      "outputs": [
        {
          "output_type": "execute_result",
          "data": {
            "text/plain": [
              "array([0, 1])"
            ]
          },
          "metadata": {
            "tags": []
          },
          "execution_count": 2
        }
      ]
    },
    {
      "cell_type": "code",
      "metadata": {
        "id": "guVi3ptK-Wo7",
        "colab_type": "code",
        "colab": {
          "base_uri": "https://localhost:8080/",
          "height": 34
        },
        "outputId": "b8211f31-d8cd-4293-978d-757701d23659"
      },
      "source": [
        "# return all digits with step of 2\n",
        "\n",
        "a[::2] "
      ],
      "execution_count": null,
      "outputs": [
        {
          "output_type": "execute_result",
          "data": {
            "text/plain": [
              "array([0, 2, 4, 6, 8])"
            ]
          },
          "metadata": {
            "tags": []
          },
          "execution_count": 3
        }
      ]
    },
    {
      "cell_type": "code",
      "metadata": {
        "id": "M0CLBGBq-kgk",
        "colab_type": "code",
        "colab": {
          "base_uri": "https://localhost:8080/",
          "height": 34
        },
        "outputId": "afba64a4-739f-4000-bd2a-8a466c6ed0e8"
      },
      "source": [
        "a[2:9:3]  # start: stop: step"
      ],
      "execution_count": null,
      "outputs": [
        {
          "output_type": "execute_result",
          "data": {
            "text/plain": [
              "array([2, 5, 8])"
            ]
          },
          "metadata": {
            "tags": []
          },
          "execution_count": 4
        }
      ]
    },
    {
      "cell_type": "code",
      "metadata": {
        "colab_type": "code",
        "id": "QPCok7-ARmRQ",
        "colab": {
          "base_uri": "https://localhost:8080/",
          "height": 34
        },
        "outputId": "fa64bdb0-abac-4851-e0d0-563e37c1a889"
      },
      "source": [
        "# for reversing we can use a[::-1]\n",
        "a[::-1]"
      ],
      "execution_count": null,
      "outputs": [
        {
          "output_type": "execute_result",
          "data": {
            "text/plain": [
              "array([9, 8, 7, 6, 5, 4, 3, 2, 1, 0])"
            ]
          },
          "metadata": {
            "tags": []
          },
          "execution_count": 33
        }
      ]
    },
    {
      "cell_type": "markdown",
      "metadata": {
        "colab_type": "text",
        "id": "1kG_qUE902Ee"
      },
      "source": [
        "**2-D Indexing and Slicing**\n",
        "\n",
        "Note that for multi-dimensional arrays, indexing are tuples of integers."
      ]
    },
    {
      "cell_type": "code",
      "metadata": {
        "colab_type": "code",
        "id": "p3XTOTuHSK44",
        "colab": {
          "base_uri": "https://localhost:8080/",
          "height": 68
        },
        "outputId": "2fc60707-6669-4b2a-a6b4-6e60c32e1c67"
      },
      "source": [
        "# Define our 2-D array\n",
        "\n",
        "A = np.diag(np.arange(3))\n",
        "print(A)"
      ],
      "execution_count": null,
      "outputs": [
        {
          "output_type": "stream",
          "text": [
            "[[0 0 0]\n",
            " [0 1 0]\n",
            " [0 0 2]]\n"
          ],
          "name": "stdout"
        }
      ]
    },
    {
      "cell_type": "code",
      "metadata": {
        "id": "LYegn08l_XPT",
        "colab_type": "code",
        "colab": {
          "base_uri": "https://localhost:8080/",
          "height": 34
        },
        "outputId": "a55bc856-bf4a-4963-c08e-c8ebe0a897af"
      },
      "source": [
        "# To print the element at position [1,1]:  the first interger 1 indicate row 1, counting from 0, 1,2,...and \n",
        "# second 1 indicate column 1\n",
        "A[1,1]"
      ],
      "execution_count": null,
      "outputs": [
        {
          "output_type": "execute_result",
          "data": {
            "text/plain": [
              "1"
            ]
          },
          "metadata": {
            "tags": []
          },
          "execution_count": 36
        }
      ]
    },
    {
      "cell_type": "markdown",
      "metadata": {
        "id": "4UmfQt-hpkm9",
        "colab_type": "text"
      },
      "source": [
        "**Combining assignment and slicing**"
      ]
    },
    {
      "cell_type": "code",
      "metadata": {
        "id": "ZizHk6e2lj7_",
        "colab_type": "code",
        "colab": {
          "base_uri": "https://localhost:8080/",
          "height": 68
        },
        "outputId": "29d68dd8-70f2-4b12-861d-cf67f9f2cc8b"
      },
      "source": [
        "#use indexing to assign 19 to the second row and first column i.e. A[1,0].\n",
        "\n",
        "A[1,0]=19\n",
        "print(A)"
      ],
      "execution_count": null,
      "outputs": [
        {
          "output_type": "stream",
          "text": [
            "[[ 0  0  0]\n",
            " [19  1  0]\n",
            " [ 0  0  2]]\n"
          ],
          "name": "stdout"
        }
      ]
    },
    {
      "cell_type": "code",
      "metadata": {
        "id": "RBA12tTepMjJ",
        "colab_type": "code",
        "colab": {
          "base_uri": "https://localhost:8080/",
          "height": 68
        },
        "outputId": "c26ac814-4f18-44f7-dd4e-fd993b52ae9a"
      },
      "source": [
        "import numpy as np\n",
        "\n",
        "#we assign 10 to all the digit after 5\n",
        "a = np.arange(10)\n",
        "print('Original a: ', a)\n",
        "a[5:] =10  \n",
        "print('............................')   \n",
        "print(a)"
      ],
      "execution_count": null,
      "outputs": [
        {
          "output_type": "stream",
          "text": [
            "Original a:  [0 1 2 3 4 5 6 7 8 9]\n",
            "............................\n",
            "[ 0  1  2  3  4 10 10 10 10 10]\n"
          ],
          "name": "stdout"
        }
      ]
    },
    {
      "cell_type": "code",
      "metadata": {
        "id": "egkFGYnhpXti",
        "colab_type": "code",
        "colab": {
          "base_uri": "https://localhost:8080/",
          "height": 34
        },
        "outputId": "3abed910-778d-401f-f984-b1287a304f42"
      },
      "source": [
        "#we assign backwards digits from 4 to 0 to a after 5.\n",
        "\n",
        "b = np.arange(5)\n",
        "a[5:] = b[::-1] \n",
        "print(a)"
      ],
      "execution_count": null,
      "outputs": [
        {
          "output_type": "stream",
          "text": [
            "[0 1 2 3 4 4 3 2 1 0]\n"
          ],
          "name": "stdout"
        }
      ]
    },
    {
      "cell_type": "code",
      "metadata": {
        "colab_type": "code",
        "id": "LRWPevEiVT_7",
        "colab": {
          "base_uri": "https://localhost:8080/",
          "height": 51
        },
        "outputId": "7b09ac2d-0b43-4b66-b037-33027fba7785"
      },
      "source": [
        "#2-D array\n",
        "x = np.array([[1,2,3],[4,5,6]])\n",
        "print(x)"
      ],
      "execution_count": null,
      "outputs": [
        {
          "output_type": "stream",
          "text": [
            "[[1 2 3]\n",
            " [4 5 6]]\n"
          ],
          "name": "stdout"
        }
      ]
    },
    {
      "cell_type": "code",
      "metadata": {
        "id": "lRtGuiliAIR4",
        "colab_type": "code",
        "colab": {
          "base_uri": "https://localhost:8080/",
          "height": 34
        },
        "outputId": "3d8f23aa-ecea-4e00-cc78-edc877bdd2d6"
      },
      "source": [
        "# returns the column 2 of the 2-D array\n",
        "x[:,1] "
      ],
      "execution_count": null,
      "outputs": [
        {
          "output_type": "execute_result",
          "data": {
            "text/plain": [
              "array([2, 5])"
            ]
          },
          "metadata": {
            "tags": []
          },
          "execution_count": 10
        }
      ]
    },
    {
      "cell_type": "code",
      "metadata": {
        "id": "JZobZ7BrAUrG",
        "colab_type": "code",
        "colab": {
          "base_uri": "https://localhost:8080/",
          "height": 34
        },
        "outputId": "03d8a074-6267-4963-8f9f-00828a518b9d"
      },
      "source": [
        "# returns the row 1 of the 2-D array\n",
        "\n",
        "x[1,:] "
      ],
      "execution_count": null,
      "outputs": [
        {
          "output_type": "execute_result",
          "data": {
            "text/plain": [
              "array([4, 5, 6])"
            ]
          },
          "metadata": {
            "tags": []
          },
          "execution_count": 11
        }
      ]
    },
    {
      "cell_type": "code",
      "metadata": {
        "colab_type": "code",
        "id": "lSyxIqwwaNgZ",
        "colab": {
          "base_uri": "https://localhost:8080/",
          "height": 119
        },
        "outputId": "04c9b422-850c-47b2-f05e-21d8c110e66d"
      },
      "source": [
        "w = np.arange(6) + np.arange(0, 51, 10)[:, np.newaxis] \n",
        "print(w)\n"
      ],
      "execution_count": null,
      "outputs": [
        {
          "output_type": "stream",
          "text": [
            "[[ 0  1  2  3  4  5]\n",
            " [10 11 12 13 14 15]\n",
            " [20 21 22 23 24 25]\n",
            " [30 31 32 33 34 35]\n",
            " [40 41 42 43 44 45]\n",
            " [50 51 52 53 54 55]]\n"
          ],
          "name": "stdout"
        }
      ]
    },
    {
      "cell_type": "code",
      "metadata": {
        "id": "rpP9blUKECX4",
        "colab_type": "code",
        "colab": {
          "base_uri": "https://localhost:8080/",
          "height": 34
        },
        "outputId": "9fbad7b0-f306-4154-e21e-d220d2e2abbf"
      },
      "source": [
        "# locates the entire index zero row, identify the column 3 and list all element stops before 5.\n",
        "print( w[0, 3:5] )\n"
      ],
      "execution_count": null,
      "outputs": [
        {
          "output_type": "stream",
          "text": [
            "[3 4]\n"
          ],
          "name": "stdout"
        }
      ]
    },
    {
      "cell_type": "code",
      "metadata": {
        "id": "_kBSKrHIGyKe",
        "colab_type": "code",
        "colab": {
          "base_uri": "https://localhost:8080/",
          "height": 68
        },
        "outputId": "ac02859e-2b26-4c84-9803-3023d74f37c6"
      },
      "source": [
        "# identify row 5 and list all, identify  column 5. list all \n",
        "print('......................................')\n",
        "print(w[4:, 4:]) "
      ],
      "execution_count": null,
      "outputs": [
        {
          "output_type": "stream",
          "text": [
            "......................................\n",
            "[[44 45]\n",
            " [54 55]]\n"
          ],
          "name": "stdout"
        }
      ]
    },
    {
      "cell_type": "code",
      "metadata": {
        "id": "H6NBsfiaE1lp",
        "colab_type": "code",
        "colab": {
          "base_uri": "https://localhost:8080/",
          "height": 86
        },
        "outputId": "883e0442-437e-4f9e-b8f2-50856eef5ed0"
      },
      "source": [
        "# identify the column 3 and list all element in each row.\n",
        "\n",
        "print(w[:, 2] )\n",
        "print('......................................')\n",
        "# identify the  row 3 and step by 2, identify all column and in each column step by 2.\n",
        "\n",
        "print(w[2::2, ::2])"
      ],
      "execution_count": null,
      "outputs": [
        {
          "output_type": "stream",
          "text": [
            "[ 2 12 22 32 42 52]\n",
            "......................................\n",
            "[[20 22 24]\n",
            " [40 42 44]]\n"
          ],
          "name": "stdout"
        }
      ]
    },
    {
      "cell_type": "markdown",
      "metadata": {
        "colab_type": "text",
        "id": "p03-5RUjlkFC"
      },
      "source": [
        " **Array Shape Manipulation** "
      ]
    },
    {
      "cell_type": "code",
      "metadata": {
        "colab_type": "code",
        "id": "xAZf9rE7zwPN",
        "colab": {
          "base_uri": "https://localhost:8080/",
          "height": 85
        },
        "outputId": "d614b4f7-dfb9-481b-c412-cea5837afdee"
      },
      "source": [
        "#flattening\n",
        "a = np.array([[1,2,3],[4,5,6]])\n",
        "print('a=',a)\n",
        "print('ravel : ', a.ravel())\n",
        "print('flatten :', a.flatten())"
      ],
      "execution_count": null,
      "outputs": [
        {
          "output_type": "stream",
          "text": [
            "a= [[1 2 3]\n",
            " [4 5 6]]\n",
            "ravel :  [1 2 3 4 5 6]\n",
            "flatten : [1 2 3 4 5 6]\n"
          ],
          "name": "stdout"
        }
      ]
    },
    {
      "cell_type": "code",
      "metadata": {
        "id": "B68cfRnsHuRf",
        "colab_type": "code",
        "colab": {
          "base_uri": "https://localhost:8080/",
          "height": 102
        },
        "outputId": "5be5e6a7-957a-4470-d8ce-66e220c19bf2"
      },
      "source": [
        "#reshaping\n",
        "b = a.ravel()\n",
        "b = b.reshape((3,2))\n",
        "print(b)\n",
        "print('...........')\n",
        "#resize\n",
        "k= np.arange(4)\n",
        "k.resize((6))\n",
        "print(k)\n"
      ],
      "execution_count": null,
      "outputs": [
        {
          "output_type": "stream",
          "text": [
            "[[1 2]\n",
            " [3 4]\n",
            " [5 6]]\n",
            "...........\n",
            "[0 1 2 3 0 0]\n"
          ],
          "name": "stdout"
        }
      ]
    },
    {
      "cell_type": "code",
      "metadata": {
        "id": "WRHgXX7nIzzW",
        "colab_type": "code",
        "colab": {
          "base_uri": "https://localhost:8080/",
          "height": 102
        },
        "outputId": "e0b911a3-651b-4648-9c6b-713db0998c46"
      },
      "source": [
        "#sorting: note that sorting is done along axis in numpy\n",
        "\n",
        "n = np.array([[4,3,5],[1,2,1]])\n",
        "print(n)\n",
        "print(\".............................\")\n",
        "m = np.sort(n, axis=1) #n.sort(axis=1)  sorts each row separately. using axis=1 sort row-wise and axis=0 sort columnwise\n",
        "print(m)\n"
      ],
      "execution_count": null,
      "outputs": [
        {
          "output_type": "stream",
          "text": [
            "[[4 3 5]\n",
            " [1 2 1]]\n",
            ".............................\n",
            "[[3 4 5]\n",
            " [1 1 2]]\n"
          ],
          "name": "stdout"
        }
      ]
    },
    {
      "cell_type": "markdown",
      "metadata": {
        "colab_type": "text",
        "id": "yWOHJIpzqIxv"
      },
      "source": [
        "**Arithmatic operations on arrays:**"
      ]
    },
    {
      "cell_type": "code",
      "metadata": {
        "colab_type": "code",
        "id": "oltQK8V9rDQd",
        "colab": {
          "base_uri": "https://localhost:8080/",
          "height": 34
        },
        "outputId": "589a58bd-6e29-4ab6-e070-4a3570c44bcb"
      },
      "source": [
        "d = np.array([1,2,3,4]) \n",
        "f = d+1 # adds 1 to each element\n",
        "#f = 2*d  # multiply 2 to each element \n",
        "print(f)\n"
      ],
      "execution_count": null,
      "outputs": [
        {
          "output_type": "stream",
          "text": [
            "[2 3 4 5]\n"
          ],
          "name": "stdout"
        }
      ]
    },
    {
      "cell_type": "code",
      "metadata": {
        "id": "cRvfeOUpJsIZ",
        "colab_type": "code",
        "colab": {
          "base_uri": "https://localhost:8080/",
          "height": 68
        },
        "outputId": "732df61e-3cc1-41d8-c76e-cc51e45c2fc4"
      },
      "source": [
        "l = np.ones(4) +1 \n",
        "print('l=', l)\n",
        "print(\"...........\")\n",
        "j = np.arange(5)\n",
        "r = 2**(j + 1)-j\n",
        "print('r= ', r)"
      ],
      "execution_count": null,
      "outputs": [
        {
          "output_type": "stream",
          "text": [
            "l= [2. 2. 2. 2.]\n",
            "...........\n",
            "r=  [ 2  3  6 13 28]\n"
          ],
          "name": "stdout"
        }
      ]
    },
    {
      "cell_type": "markdown",
      "metadata": {
        "colab_type": "text",
        "id": "HPYng5H_tU1v"
      },
      "source": [
        "## Advanced operations with Numpy\n",
        "\n",
        "Numpy can be used in many advanced Python programming skills. These may include loading data files, plotting simple 1-D and 2-D (images) arrays etc. Here we shall consider ploting with 1-D array and 2-D array."
      ]
    },
    {
      "cell_type": "code",
      "metadata": {
        "colab_type": "code",
        "id": "MplpG8Z6u4KD",
        "colab": {
          "base_uri": "https://localhost:8080/",
          "height": 282
        },
        "outputId": "44d30e39-7801-4828-8516-048acc3a257b"
      },
      "source": [
        "import numpy as np\n",
        "import matplotlib.pyplot as plt # package to plot\n",
        "\n",
        "x = np.linspace(0,3,20)\n",
        "y = np.linspace(0,9,20)\n",
        "plt.plot(x,y)\n",
        "plt.plot(x,y, \"o\")\n"
      ],
      "execution_count": null,
      "outputs": [
        {
          "output_type": "execute_result",
          "data": {
            "text/plain": [
              "[<matplotlib.lines.Line2D at 0x7fb00543e3c8>]"
            ]
          },
          "metadata": {
            "tags": []
          },
          "execution_count": 60
        },
        {
          "output_type": "display_data",
          "data": {
            "image/png": "[encoded data removed]",
            "text/plain": [
              "<Figure size 432x288 with 1 Axes>"
            ]
          },
          "metadata": {
            "tags": [],
            "needs_background": "light"
          }
        }
      ]
    },
    {
      "cell_type": "code",
      "metadata": {
        "colab_type": "code",
        "id": "ROiKAsBjvv3q",
        "colab": {
          "base_uri": "https://localhost:8080/",
          "height": 283
        },
        "outputId": "8a75b187-0a99-424c-b2e3-b51145aac5fc"
      },
      "source": [
        "import numpy as np\n",
        "import matplotlib.pyplot as plt\n",
        "\n",
        "img = np.random.rand(30,30)\n",
        "plt.imshow(img, cmap=plt.cm.gist_rainbow_r)\n",
        "plt.colorbar()"
      ],
      "execution_count": null,
      "outputs": [
        {
          "output_type": "execute_result",
          "data": {
            "text/plain": [
              "<matplotlib.colorbar.Colorbar at 0x7f31347e31d0>"
            ]
          },
          "metadata": {
            "tags": []
          },
          "execution_count": 7
        },
        {
          "output_type": "display_data",
          "data": {
            "image/png": "[encoded data removed]",
            "text/plain": [
              "<Figure size 432x288 with 2 Axes>"
            ]
          },
          "metadata": {
            "tags": [],
            "needs_background": "light"
          }
        }
      ]
    },
    {
      "cell_type": "markdown",
      "metadata": {
        "colab_type": "text",
        "id": "f6xhIJkwuzAt"
      },
      "source": [
        "___\n",
        "**Course Content Creators**: Sokhar Samb, [Foutse Yuehgoh](https://twitter.com/yuehgoh), [Deborah D Kanubala](https://www.linkedin.com/in/ddk2018/), Faith Benson, Salomey Osei, Yolande Ngueabou, Deo Byabazaire, [Bernard Osei](https://www.linkedin.com/in/bernard-osei/), Elkanah Nyabuto, [Berthine Nyunga](https://www.linkedin.com/in/berthine-nyunga-51b492145/).\n",
        "\n",
        "\n",
        "\n",
        "\n",
        "\n",
        "\n",
        "**Course Reviewer:** [Salomon Kabongo](https://twitter.com/SalomonKabongo1)"
      ]
    },
    {
      "cell_type": "markdown",
      "metadata": {
        "id": "cWlLnZxh-Iqv",
        "colab_type": "text"
      },
      "source": [
        "# **Exercises**\n",
        "\n",
        "1. Create a simple two dimensional array. Create your own with odd numbers counting backwards on the first row and even numbers on the second.\n",
        "2. Find the shape, ndim and len() of your array created. Note that len() of 2-D gives only the size of the first dimension.\n",
        "\n",
        " \n",
        "3. Try the different flavours of slicing, using start, end and steps: starting from np.arange(), try to obtain slice of odd numbers counting backwards and even numbers counting forward.\n",
        "\n",
        "2. Using *np.arange(6) + np.arange(0,51,10) [:, np.newaxis]* reproduce the slicies in the **W** above. And write slice to locate [[4,5],[14,15]] and [ 50, 51, 52, 54, 55]."
      ]
    },
    {
      "cell_type": "code",
      "metadata": {
        "id": "Xx5hjAh7gH31",
        "colab_type": "code",
        "colab": {
          "base_uri": "https://localhost:8080/",
          "height": 52
        },
        "outputId": "724a8f65-71f8-43e1-c579-287fe36b371f"
      },
      "source": [
        "import numpy as np\n",
        "a = np.array([[15,13,11], [6,4,2]])\n",
        "print(a)"
      ],
      "execution_count": 18,
      "outputs": [
        {
          "output_type": "stream",
          "text": [
            "[[5 3 1]\n",
            " [6 4 2]]\n"
          ],
          "name": "stdout"
        }
      ]
    },
    {
      "cell_type": "code",
      "metadata": {
        "id": "-X-k3QHqsGo_",
        "colab_type": "code",
        "colab": {
          "base_uri": "https://localhost:8080/",
          "height": 52
        },
        "outputId": "12897af2-f7f1-4c24-d50e-fd0d31a304ea"
      },
      "source": [
        "b=np.array([[1,2,3],[4,5,6]])\n",
        "b"
      ],
      "execution_count": 21,
      "outputs": [
        {
          "output_type": "execute_result",
          "data": {
            "text/plain": [
              "array([[1, 2, 3],\n",
              "       [4, 5, 6]])"
            ]
          },
          "metadata": {
            "tags": []
          },
          "execution_count": 21
        }
      ]
    },
    {
      "cell_type": "code",
      "metadata": {
        "id": "N221SjwJtpFq",
        "colab_type": "code",
        "colab": {
          "base_uri": "https://localhost:8080/",
          "height": 34
        },
        "outputId": "e3cf117d-e196-401d-a656-9bb4d8895e4f"
      },
      "source": [
        "a.shape"
      ],
      "execution_count": 22,
      "outputs": [
        {
          "output_type": "execute_result",
          "data": {
            "text/plain": [
              "(2, 3)"
            ]
          },
          "metadata": {
            "tags": []
          },
          "execution_count": 22
        }
      ]
    },
    {
      "cell_type": "code",
      "metadata": {
        "id": "Pz6rbfPUtyI1",
        "colab_type": "code",
        "colab": {
          "base_uri": "https://localhost:8080/",
          "height": 34
        },
        "outputId": "92126db2-bc97-406c-eb5b-fdb82e53bda0"
      },
      "source": [
        "a.ndim"
      ],
      "execution_count": 23,
      "outputs": [
        {
          "output_type": "execute_result",
          "data": {
            "text/plain": [
              "2"
            ]
          },
          "metadata": {
            "tags": []
          },
          "execution_count": 23
        }
      ]
    },
    {
      "cell_type": "code",
      "metadata": {
        "id": "jy0ovYDUt3Lg",
        "colab_type": "code",
        "colab": {
          "base_uri": "https://localhost:8080/",
          "height": 34
        },
        "outputId": "107b7246-1577-46bb-e715-face53c8175c"
      },
      "source": [
        "len(a)"
      ],
      "execution_count": 24,
      "outputs": [
        {
          "output_type": "execute_result",
          "data": {
            "text/plain": [
              "2"
            ]
          },
          "metadata": {
            "tags": []
          },
          "execution_count": 24
        }
      ]
    },
    {
      "cell_type": "code",
      "metadata": {
        "id": "YDZaSr5Cutx1",
        "colab_type": "code",
        "colab": {
          "base_uri": "https://localhost:8080/",
          "height": 34
        },
        "outputId": "574ae68d-bbe9-4a12-cee6-5b60f1ede088"
      },
      "source": [
        "t=np.arange(start=1, stop=10, step=1)\n",
        "print(t)"
      ],
      "execution_count": 31,
      "outputs": [
        {
          "output_type": "stream",
          "text": [
            "[1 2 3 4 5 6 7 8 9]\n"
          ],
          "name": "stdout"
        }
      ]
    },
    {
      "cell_type": "code",
      "metadata": {
        "id": "ix-UO_gSvyhS",
        "colab_type": "code",
        "colab": {
          "base_uri": "https://localhost:8080/",
          "height": 34
        },
        "outputId": "ef337618-1fbc-4e36-fdfd-e34ad07769de"
      },
      "source": [
        "np.arange(5,-1,-2)"
      ],
      "execution_count": 30,
      "outputs": [
        {
          "output_type": "execute_result",
          "data": {
            "text/plain": [
              "array([5, 3, 1])"
            ]
          },
          "metadata": {
            "tags": []
          },
          "execution_count": 30
        }
      ]
    },
    {
      "cell_type": "code",
      "metadata": {
        "id": "6nxlezUxwao-",
        "colab_type": "code",
        "colab": {
          "base_uri": "https://localhost:8080/",
          "height": 34
        },
        "outputId": "9f2ae56a-004f-4d5b-ffc1-922c69828b9c"
      },
      "source": [
        "t[:: -2]"
      ],
      "execution_count": 33,
      "outputs": [
        {
          "output_type": "execute_result",
          "data": {
            "text/plain": [
              "array([9, 7, 5, 3, 1])"
            ]
          },
          "metadata": {
            "tags": []
          },
          "execution_count": 33
        }
      ]
    },
    {
      "cell_type": "code",
      "metadata": {
        "id": "elSXZfo-wSJ2",
        "colab_type": "code",
        "colab": {
          "base_uri": "https://localhost:8080/",
          "height": 34
        },
        "outputId": "fecb9fa6-6df0-43d0-83be-9c30f67bc344"
      },
      "source": [
        "t[1::2]"
      ],
      "execution_count": 34,
      "outputs": [
        {
          "output_type": "execute_result",
          "data": {
            "text/plain": [
              "array([2, 4, 6, 8])"
            ]
          },
          "metadata": {
            "tags": []
          },
          "execution_count": 34
        }
      ]
    },
    {
      "cell_type": "code",
      "metadata": {
        "id": "f_AFJsbgxtJL",
        "colab_type": "code",
        "colab": {
          "base_uri": "https://localhost:8080/",
          "height": 34
        },
        "outputId": "10daca08-396a-48d2-d6a7-4d1c95553a04"
      },
      "source": [
        "t[2::2]"
      ],
      "execution_count": 35,
      "outputs": [
        {
          "output_type": "execute_result",
          "data": {
            "text/plain": [
              "array([3, 5, 7, 9])"
            ]
          },
          "metadata": {
            "tags": []
          },
          "execution_count": 35
        }
      ]
    },
    {
      "cell_type": "markdown",
      "metadata": {
        "id": "LbV9P2TK-Wcr",
        "colab_type": "text"
      },
      "source": [
        "# **Correction**\n",
        "\n",
        "Double-click __here__ for the Corrections.\n",
        "\n",
        "<!-- Your answers are below: \n",
        "1. y = np.array([[5,3,1],[6,4,2]])\n",
        "print(y)\n",
        "\n",
        "2. y.shape; y.ndim; len(y)\n",
        "\n",
        "3. p = np.arange(1, 10)\n",
        "\n",
        "- To get odd numbers backward from p :  p[::-2]\n",
        "- To get even numbers forward from p: p[1::2]\n",
        "\n",
        "4. - To locate [[4,5],[14,15]]: w[0:2, 4:]\n",
        "   - To locate  [ 50, 51, 52, 54, 55]:  w[5:, 0:]\n",
        "   or\n",
        " #Uncomment and run to see the results\n",
        "# w[:2, 4:]\n",
        "# w[-1:, ]\n",
        "\n",
        "-->\n"
      ]
    },
    {
      "cell_type": "markdown",
      "metadata": {
        "id": "5Cy1m6nRDMLu",
        "colab_type": "text"
      },
      "source": [
        "# **Exercises**\n",
        "\n",
        "5. Create your own 2-D array named A  and use indexing to assign 45 to the second row and first column i.e. A[1,0]."
      ]
    },
    {
      "cell_type": "markdown",
      "metadata": {
        "id": "I8QiDAUI131r",
        "colab_type": "text"
      },
      "source": [
        "**Double-click __here__ for the Corrections.**\n",
        "\n",
        "<!-- Your answers are below: \n",
        "5. Create your 2-D array A,  use A[1,0]=45 to assign the value.\n",
        "A = np.diag(np.arange(1,10,2)) or any array of your choice\n",
        "print(A)\n",
        "Then print (A)\n",
        "\n",
        "\n",
        "\n",
        "-->"
      ]
    },
    {
      "cell_type": "markdown",
      "metadata": {
        "id": "pNxGkfDrYH1A",
        "colab_type": "text"
      },
      "source": [
        "6. Create a array 1-D of sequence of numbers from 20 to 29 using **np.arange()** then extract the elements starting from 2nd index up to 5th index.\n",
        "\n",
        "7. Create now an arithmetic progression with initial term 20 and common difference 2, upto 30; 30 being excluded."
      ]
    },
    {
      "cell_type": "markdown",
      "metadata": {
        "id": "JtVrbXBp2GRm",
        "colab_type": "text"
      },
      "source": [
        "**Double-click __here__ for the Corrections.**\n",
        "\n",
        "<!-- Your answers are below: \n",
        "\n",
        "6. z = np.arange(start = 20,stop = 30, step = 1)\n",
        "print(z)\n",
        "\n",
        "To Extract from second index to 5th index: z[2:5]\n",
        "\n",
        "7. t= np.arange(start = 20, stop=30, step=2)\n",
        "\n",
        "\n",
        "-->"
      ]
    },
    {
      "cell_type": "markdown",
      "metadata": {
        "id": "v1jEfjZCZzFL",
        "colab_type": "text"
      },
      "source": [
        "8. Create a 1-D array X=np.arange(10). \n",
        "* Find the reverse of this array\n",
        "* Extract the 3rd element\n",
        "* Extract the 3rd  elements starting from 2nd index up to 5th index."
      ]
    },
    {
      "cell_type": "markdown",
      "metadata": {
        "id": "mYlpI7RL2NG5",
        "colab_type": "text"
      },
      "source": [
        "**Double-click __here__ for the Corrections.**\n",
        "\n",
        "<!-- Your answers are below: \n",
        "\n",
        "8. X = np.arange(10)\n",
        "\n",
        "- The reverse of X: X[::-1]\n",
        "- Extract the 3rd element : X[2]\n",
        "- Extract from 2nd index up to 5th : X[2:5]\n",
        "\n",
        "\n",
        "\n",
        "-->"
      ]
    },
    {
      "cell_type": "markdown",
      "metadata": {
        "id": "Mjqxgn2gdRU1",
        "colab_type": "text"
      },
      "source": [
        "9. Create a 2-D array 3x3 full of 3. Please your output should be like this :\n",
        "\n",
        "[[3. 3. 3.]\n",
        " [3. 3. 3.]\n",
        " [3. 3. 3.]]"
      ]
    },
    {
      "cell_type": "markdown",
      "metadata": {
        "id": "YzcOOZYGlMCm",
        "colab_type": "text"
      },
      "source": [
        "**Double-click __here__ for the Corrections.**\n",
        "\n",
        "<!-- Your answers are below: \n",
        "\n",
        "9. y= 3*np.ones((3,3))\n",
        "print(y)\n",
        "\n",
        "-->"
      ]
    },
    {
      "cell_type": "code",
      "metadata": {
        "id": "b6oUwrGvZBBG",
        "colab_type": "code",
        "colab": {}
      },
      "source": [
        ""
      ],
      "execution_count": null,
      "outputs": []
    }
  ]
}