{
  "nbformat": 4,
  "nbformat_minor": 0,
  "metadata": {
    "colab": {
      "name": "Part 05 : Pandas.ipynb",
      "provenance": [],
      "include_colab_link": true
    },
    "kernelspec": {
      "display_name": "Python 3",
      "language": "python",
      "name": "python3"
    },
    "language_info": {
      "codemirror_mode": {
        "name": "ipython",
        "version": 3
      },
      "file_extension": ".py",
      "mimetype": "text/x-python",
      "name": "python",
      "nbconvert_exporter": "python",
      "pygments_lexer": "ipython3",
      "version": "3.7.3"
    }
  },
  "cells": [
    {
      "cell_type": "markdown",
      "metadata": {
        "id": "view-in-github",
        "colab_type": "text"
      },
      "source": [
        "<a href=\"https://colab.research.google.com/github/WPSYG/Python-2-day-workshop/blob/master/Part_05_Pandas.ipynb\" target=\"_parent\"><img src=\"https://colab.research.google.com/assets/colab-badge.svg\" alt=\"Open In Colab\"/></a>"
      ]
    },
    {
      "cell_type": "markdown",
      "metadata": {
        "id": "BQycwi5rtJ19",
        "colab_type": "text"
      },
      "source": [
        "<a href=\"https://colab.research.google.com/github/WPSYG/Python-2-day-workshop/blob/master/Part_05_Pandas.ipynb\" target=\"_parent\"><img src=\"https://colab.research.google.com/assets/colab-badge.svg\" alt=\"Open In Colab\"/></a>"
      ]
    },
    {
      "cell_type": "markdown",
      "metadata": {
        "colab_type": "text",
        "id": "jzwqnLtKvhY6"
      },
      "source": [
        "<img src=\"https://raw.githubusercontent.com/WPSYG/Python-2-day-workshop/master/images/logo_color_v1.jpeg?token=AIW35UC2GIMYQ4MY6FNWFCC7HQ5SQ\">"
      ]
    },
    {
      "cell_type": "markdown",
      "metadata": {
        "colab_type": "text",
        "id": "bjaRD7s0IU5J"
      },
      "source": [
        "# PANDAS"
      ]
    },
    {
      "cell_type": "markdown",
      "metadata": {
        "colab_type": "text",
        "id": "G1UQ_wrDIdrj"
      },
      "source": [
        "Pandas are a high-dimensional data manipulation tool. They are built on the Numpy package implying that much of the numpy structures is replicated in pandas. The basic key sructure of pandas is the dataframe. A dataframe allows store and manipulate tabular data in rows (observations) and columns (variables). \n",
        "\n",
        "Data in pandas is often used to feed statistical analysis in **Scipy**,  plotting functions from **matplotlib** and machine learning algorithms from **sci-learn**. This makes pandas one of the most favourite data science tool for data wrangling and analysis. It is a game changer when it comes to data cleaning, transformation, manipulation and data analysis. \n",
        "\n",
        "To better understand how pandas work, we will cover the following areas;\n",
        "\n",
        "1.   Introduction to pandas\n",
        "2.   Pandas data structures\n",
        "3.   Indexing and selecting data\n",
        "4.   Reading data into pandas\n",
        "5.   Basic operations on data\n",
        "  \n",
        "\n",
        "## Panda data structures\n",
        "\n",
        "\n",
        "\n",
        "\n",
        "\n"
      ]
    },
    {
      "cell_type": "markdown",
      "metadata": {
        "colab_type": "text",
        "id": "v5LIRQixQN7q"
      },
      "source": [
        "Pandas deal with the following data structures\n",
        "\n",
        "\n",
        "1.   **Series** - This is an one dimensional array like structure with homogenous data.\n",
        "\n",
        "\n",
        "2. **Dataframes**- This is a two-dimensional heterogenous tabular data structure with rows and columns.\n",
        "\n",
        "3. **Panel**-   Three dimesional data structure with heterogeneous data \n",
        "\n",
        "\n",
        "\n"
      ]
    },
    {
      "cell_type": "markdown",
      "metadata": {
        "colab_type": "text",
        "id": "Dxc-miOkTHOK"
      },
      "source": [
        "**Creating a series**\n",
        "\n",
        "We can create a series by using a list, array or dictionary. Let get started by creating an empty series."
      ]
    },
    {
      "cell_type": "code",
      "metadata": {
        "colab_type": "code",
        "id": "qyya88abRLbZ",
        "colab": {
          "base_uri": "https://localhost:8080/",
          "height": 89
        },
        "outputId": "a0fb6b63-968f-47f4-aa28-28734e1176cc"
      },
      "source": [
        "#Import pandas library\n",
        "import pandas as pd\n",
        "\n",
        "# Creating empty series  \n",
        "Emptyseries = pd.Series()\n",
        "print(Emptyseries)"
      ],
      "execution_count": null,
      "outputs": [
        {
          "output_type": "stream",
          "text": [
            "Series([], dtype: float64)\n"
          ],
          "name": "stdout"
        },
        {
          "output_type": "stream",
          "text": [
            "/usr/local/lib/python3.6/dist-packages/ipykernel_launcher.py:5: DeprecationWarning: The default dtype for empty Series will be 'object' instead of 'float64' in a future version. Specify a dtype explicitly to silence this warning.\n",
            "  \"\"\"\n"
          ],
          "name": "stderr"
        }
      ]
    },
    {
      "cell_type": "markdown",
      "metadata": {
        "id": "XrJdfSBOd7CZ",
        "colab_type": "text"
      },
      "source": [
        "1. Creating a series using a list"
      ]
    },
    {
      "cell_type": "code",
      "metadata": {
        "id": "OI9LsWoAd5uQ",
        "colab_type": "code",
        "colab": {
          "base_uri": "https://localhost:8080/",
          "height": 121
        },
        "outputId": "5ee13772-48ad-4ead-eac6-3e44942d488b"
      },
      "source": [
        "#create a series using a list  \n",
        "lst =[2,3,5,7,8] \n",
        "    \n",
        "series_list = pd.Series(lst)  \n",
        "print(series_list)"
      ],
      "execution_count": null,
      "outputs": [
        {
          "output_type": "stream",
          "text": [
            "0    2\n",
            "1    3\n",
            "2    5\n",
            "3    7\n",
            "4    8\n",
            "dtype: int64\n"
          ],
          "name": "stdout"
        }
      ]
    },
    {
      "cell_type": "markdown",
      "metadata": {
        "id": "kc3ZfwMxfFTX",
        "colab_type": "text"
      },
      "source": [
        "2. Creating a series using an array"
      ]
    },
    {
      "cell_type": "code",
      "metadata": {
        "colab_type": "code",
        "id": "tF6jbFTrQrY7",
        "colab": {
          "base_uri": "https://localhost:8080/",
          "height": 156
        },
        "outputId": "bff2bcc9-ba5a-4ae0-f2e8-4daa7d320bb4"
      },
      "source": [
        "# simple array  \n",
        "data = np.array(['Women', 'Promoting', 'Science', 'to', 'the','Young','Generation'])  \n",
        "    \n",
        "ser = pd.Series(data)  \n",
        "print(ser) "
      ],
      "execution_count": null,
      "outputs": [
        {
          "output_type": "stream",
          "text": [
            "0         Women\n",
            "1     Promoting\n",
            "2       Science\n",
            "3            to\n",
            "4           the\n",
            "5         Young\n",
            "6    Generation\n",
            "dtype: object\n"
          ],
          "name": "stdout"
        }
      ]
    },
    {
      "cell_type": "markdown",
      "metadata": {
        "id": "5hx-UMK0fV0p",
        "colab_type": "text"
      },
      "source": [
        "3. Using a dictionary\n",
        "\n",
        "We can use the examples above to work out how to use dictionaries to create a series"
      ]
    },
    {
      "cell_type": "markdown",
      "metadata": {
        "colab_type": "text",
        "id": "NBWoLD4PWGc4"
      },
      "source": [
        "## Creating a data frame\n",
        "\n",
        "Dataframes can be created in different ways. As in the case of series, we can use lists, arrays and dictionaries to create dataframes. \n",
        "\n",
        "Let us start by creating an empty dataframe. We use the dataframe constructor **pd.dataframe()** as shown below\n",
        "\n"
      ]
    },
    {
      "cell_type": "code",
      "metadata": {
        "colab_type": "code",
        "id": "_nCvgnXSWnOR",
        "colab": {
          "base_uri": "https://localhost:8080/",
          "height": 69
        },
        "outputId": "da81c737-b98b-49e0-fe0c-377ee35ae83e"
      },
      "source": [
        "#Creating an empty data frame\n",
        "df=pd.DataFrame()\n",
        "print(df)"
      ],
      "execution_count": null,
      "outputs": [
        {
          "output_type": "stream",
          "text": [
            "Empty DataFrame\n",
            "Columns: []\n",
            "Index: []\n"
          ],
          "name": "stdout"
        }
      ]
    },
    {
      "cell_type": "markdown",
      "metadata": {
        "colab_type": "text",
        "id": "GCf17s5zW22G"
      },
      "source": [
        "1. Creating dataframes using lists"
      ]
    },
    {
      "cell_type": "code",
      "metadata": {
        "colab_type": "code",
        "id": "BEGukGwTWwNA",
        "colab": {
          "base_uri": "https://localhost:8080/",
          "height": 121
        },
        "outputId": "a161b02d-6b58-4b19-f79b-0b82f8293442"
      },
      "source": [
        "# creating a list \n",
        "lst = [10, 15,45, 2, 1]  \n",
        "   \n",
        "# Calling DataFrame constructor on list  \n",
        "df = pd.DataFrame(lst)  \n",
        "print(df) "
      ],
      "execution_count": null,
      "outputs": [
        {
          "output_type": "stream",
          "text": [
            "    0\n",
            "0  10\n",
            "1  15\n",
            "2  45\n",
            "3   2\n",
            "4   1\n"
          ],
          "name": "stdout"
        }
      ]
    },
    {
      "cell_type": "markdown",
      "metadata": {
        "id": "2BzHTeevgi1Q",
        "colab_type": "text"
      },
      "source": [
        "We can add a column name to the dataframe by specifying the name inside the dataframe constructor"
      ]
    },
    {
      "cell_type": "code",
      "metadata": {
        "id": "XUZaYwkQgmvx",
        "colab_type": "code",
        "colab": {
          "base_uri": "https://localhost:8080/",
          "height": 206
        },
        "outputId": "61b1064b-7d84-46e6-d4bb-25fc55d180b0"
      },
      "source": [
        "df = pd.DataFrame(lst,columns=[\"Marks\"])  \n",
        "df"
      ],
      "execution_count": null,
      "outputs": [
        {
          "output_type": "execute_result",
          "data": {
            "text/html": [
              "<div>\n",
              "<style scoped>\n",
              "    .dataframe tbody tr th:only-of-type {\n",
              "        vertical-align: middle;\n",
              "    }\n",
              "\n",
              "    .dataframe tbody tr th {\n",
              "        vertical-align: top;\n",
              "    }\n",
              "\n",
              "    .dataframe thead th {\n",
              "        text-align: right;\n",
              "    }\n",
              "</style>\n",
              "<table border=\"1\" class=\"dataframe\">\n",
              "  <thead>\n",
              "    <tr style=\"text-align: right;\">\n",
              "      <th></th>\n",
              "      <th>Marks</th>\n",
              "    </tr>\n",
              "  </thead>\n",
              "  <tbody>\n",
              "    <tr>\n",
              "      <th>0</th>\n",
              "      <td>10</td>\n",
              "    </tr>\n",
              "    <tr>\n",
              "      <th>1</th>\n",
              "      <td>15</td>\n",
              "    </tr>\n",
              "    <tr>\n",
              "      <th>2</th>\n",
              "      <td>45</td>\n",
              "    </tr>\n",
              "    <tr>\n",
              "      <th>3</th>\n",
              "      <td>2</td>\n",
              "    </tr>\n",
              "    <tr>\n",
              "      <th>4</th>\n",
              "      <td>1</td>\n",
              "    </tr>\n",
              "  </tbody>\n",
              "</table>\n",
              "</div>"
            ],
            "text/plain": [
              "   Marks\n",
              "0     10\n",
              "1     15\n",
              "2     45\n",
              "3      2\n",
              "4      1"
            ]
          },
          "metadata": {
            "tags": []
          },
          "execution_count": 6
        }
      ]
    },
    {
      "cell_type": "markdown",
      "metadata": {
        "colab_type": "text",
        "id": "Yjz8Q-ubYTBG"
      },
      "source": [
        "2. Creating a dataframe using dictionaries"
      ]
    },
    {
      "cell_type": "code",
      "metadata": {
        "colab_type": "code",
        "id": "xadILXIsXltU",
        "colab": {
          "base_uri": "https://localhost:8080/",
          "height": 104
        },
        "outputId": "f51ec196-e2a1-4033-f7c4-11f4d8a2d58e"
      },
      "source": [
        "# DataFrame from dict narray\n",
        "\n",
        "# intialise data of lists.\n",
        "data = {'Name':['Mary', 'Susan', 'Sarah', 'Hellen'],\n",
        "        'Age':[20, 21, 19, 18]}\n",
        " \n",
        "# Create DataFrame using the constructo\n",
        "df = pd.DataFrame(data)\n",
        " \n",
        "# Print the dataframe.\n",
        "print(df)"
      ],
      "execution_count": null,
      "outputs": [
        {
          "output_type": "stream",
          "text": [
            "     Name  Age\n",
            "0    Mary   20\n",
            "1   Susan   21\n",
            "2   Sarah   19\n",
            "3  Hellen   18\n"
          ],
          "name": "stdout"
        }
      ]
    },
    {
      "cell_type": "markdown",
      "metadata": {
        "id": "amSYvmK4hGrR",
        "colab_type": "text"
      },
      "source": [
        "We can also try to check out how we can create dataframes using other methods. \n",
        "\n",
        "Now let us see how we can deal with the rows and columns of a dataframe"
      ]
    },
    {
      "cell_type": "markdown",
      "metadata": {
        "colab_type": "text",
        "id": "ZivNd7INYnvK"
      },
      "source": [
        "# Dealing with rows and columns\n",
        "We can perform basic operations on rows/columns like selecting, deleting, adding, and renaming values in the dataframe. Let us create a dataframe to illustrate this.\n",
        "\n"
      ]
    },
    {
      "cell_type": "code",
      "metadata": {
        "id": "qKT0MGthhedy",
        "colab_type": "code",
        "colab": {
          "base_uri": "https://localhost:8080/",
          "height": 175
        },
        "outputId": "e29b60fb-fe6d-4bc6-963a-3076c2ec8b9b"
      },
      "source": [
        "#Import numpy to help create null values\n",
        "import numpy as np\n",
        "# Define a dictionary containing employee data\n",
        "data = {'Name':['Mary', 'Susan', \"Sarah\", 'Hellen'],\n",
        "        'Age':[27, np.NaN, 22, 32],\n",
        "        'Country':['SA', 'KE', 'GH', 'TZ'],\n",
        "        'Qualification':['Msc', 'MA', 'MA', 'Phd']}\n",
        " \n",
        "# Convert the dictionary into DataFrame \n",
        "df = pd.DataFrame(data)\n",
        "#View the entire data frame\n",
        "#print(df)\n",
        "df"
      ],
      "execution_count": null,
      "outputs": [
        {
          "output_type": "execute_result",
          "data": {
            "text/html": [
              "<div>\n",
              "<style scoped>\n",
              "    .dataframe tbody tr th:only-of-type {\n",
              "        vertical-align: middle;\n",
              "    }\n",
              "\n",
              "    .dataframe tbody tr th {\n",
              "        vertical-align: top;\n",
              "    }\n",
              "\n",
              "    .dataframe thead th {\n",
              "        text-align: right;\n",
              "    }\n",
              "</style>\n",
              "<table border=\"1\" class=\"dataframe\">\n",
              "  <thead>\n",
              "    <tr style=\"text-align: right;\">\n",
              "      <th></th>\n",
              "      <th>Name</th>\n",
              "      <th>Age</th>\n",
              "      <th>Country</th>\n",
              "      <th>Qualification</th>\n",
              "    </tr>\n",
              "  </thead>\n",
              "  <tbody>\n",
              "    <tr>\n",
              "      <th>0</th>\n",
              "      <td>Mary</td>\n",
              "      <td>27.0</td>\n",
              "      <td>SA</td>\n",
              "      <td>Msc</td>\n",
              "    </tr>\n",
              "    <tr>\n",
              "      <th>1</th>\n",
              "      <td>Susan</td>\n",
              "      <td>NaN</td>\n",
              "      <td>KE</td>\n",
              "      <td>MA</td>\n",
              "    </tr>\n",
              "    <tr>\n",
              "      <th>2</th>\n",
              "      <td>Sarah</td>\n",
              "      <td>22.0</td>\n",
              "      <td>GH</td>\n",
              "      <td>MA</td>\n",
              "    </tr>\n",
              "    <tr>\n",
              "      <th>3</th>\n",
              "      <td>Hellen</td>\n",
              "      <td>32.0</td>\n",
              "      <td>TZ</td>\n",
              "      <td>Phd</td>\n",
              "    </tr>\n",
              "  </tbody>\n",
              "</table>\n",
              "</div>"
            ],
            "text/plain": [
              "     Name   Age Country Qualification\n",
              "0    Mary  27.0      SA           Msc\n",
              "1   Susan   NaN      KE            MA\n",
              "2   Sarah  22.0      GH            MA\n",
              "3  Hellen  32.0      TZ           Phd"
            ]
          },
          "metadata": {
            "tags": []
          },
          "execution_count": 48
        }
      ]
    },
    {
      "cell_type": "markdown",
      "metadata": {
        "id": "IKDOuzyihyJz",
        "colab_type": "text"
      },
      "source": [
        "### Selecting\n",
        "\n",
        "1. Column Selection: \n",
        "\n",
        "In order to select a column in Pandas DataFrame, we can either access the columns by calling them by their columns name. We simply put the name of the column in-between the brackets"
      ]
    },
    {
      "cell_type": "code",
      "metadata": {
        "id": "QpkAudIfi2qP",
        "colab_type": "code",
        "colab": {
          "base_uri": "https://localhost:8080/",
          "height": 104
        },
        "outputId": "19443550-dc0e-47d9-e4c9-80e5c6898834"
      },
      "source": [
        " # select a single column\n",
        "df[\"Name\"]"
      ],
      "execution_count": null,
      "outputs": [
        {
          "output_type": "execute_result",
          "data": {
            "text/plain": [
              "0      Mary\n",
              "1     Susan\n",
              "2     Sarah\n",
              "3    Hellen\n",
              "Name: Name, dtype: object"
            ]
          },
          "metadata": {
            "tags": []
          },
          "execution_count": 32
        }
      ]
    },
    {
      "cell_type": "markdown",
      "metadata": {
        "id": "nWFm-igri-im",
        "colab_type": "text"
      },
      "source": [
        "To return the column name, using double square brackets"
      ]
    },
    {
      "cell_type": "code",
      "metadata": {
        "id": "U4vhYK6EjC5V",
        "colab_type": "code",
        "colab": {
          "base_uri": "https://localhost:8080/",
          "height": 175
        },
        "outputId": "ccc06b9d-e53c-4dbb-9b1d-e0d3062157f3"
      },
      "source": [
        "df[[\"Name\"]]"
      ],
      "execution_count": null,
      "outputs": [
        {
          "output_type": "execute_result",
          "data": {
            "text/html": [
              "<div>\n",
              "<style scoped>\n",
              "    .dataframe tbody tr th:only-of-type {\n",
              "        vertical-align: middle;\n",
              "    }\n",
              "\n",
              "    .dataframe tbody tr th {\n",
              "        vertical-align: top;\n",
              "    }\n",
              "\n",
              "    .dataframe thead th {\n",
              "        text-align: right;\n",
              "    }\n",
              "</style>\n",
              "<table border=\"1\" class=\"dataframe\">\n",
              "  <thead>\n",
              "    <tr style=\"text-align: right;\">\n",
              "      <th></th>\n",
              "      <th>Name</th>\n",
              "    </tr>\n",
              "  </thead>\n",
              "  <tbody>\n",
              "    <tr>\n",
              "      <th>0</th>\n",
              "      <td>Mary</td>\n",
              "    </tr>\n",
              "    <tr>\n",
              "      <th>1</th>\n",
              "      <td>Susan</td>\n",
              "    </tr>\n",
              "    <tr>\n",
              "      <th>2</th>\n",
              "      <td>Sarah</td>\n",
              "    </tr>\n",
              "    <tr>\n",
              "      <th>3</th>\n",
              "      <td>Hellen</td>\n",
              "    </tr>\n",
              "  </tbody>\n",
              "</table>\n",
              "</div>"
            ],
            "text/plain": [
              "     Name\n",
              "0    Mary\n",
              "1   Susan\n",
              "2   Sarah\n",
              "3  Hellen"
            ]
          },
          "metadata": {
            "tags": []
          },
          "execution_count": 33
        }
      ]
    },
    {
      "cell_type": "markdown",
      "metadata": {
        "id": "i-T0Av3rj66D",
        "colab_type": "text"
      },
      "source": [
        "We can select more than one column"
      ]
    },
    {
      "cell_type": "code",
      "metadata": {
        "colab_type": "code",
        "id": "JiWfx2zhaGbs",
        "colab": {
          "base_uri": "https://localhost:8080/",
          "height": 104
        },
        "outputId": "18e93efc-560c-443d-fa57-74fdf993790b"
      },
      "source": [
        "# select more than one column\n",
        "print(df[['Name', 'Country',\"Qualification\"]])"
      ],
      "execution_count": null,
      "outputs": [
        {
          "output_type": "stream",
          "text": [
            "     Name Country Qualification\n",
            "0    Mary      SA           Msc\n",
            "1   Susan      KE            MA\n",
            "2   Sarah      GH            MA\n",
            "3  Hellen      TZ           Phd\n"
          ],
          "name": "stdout"
        }
      ]
    },
    {
      "cell_type": "markdown",
      "metadata": {
        "colab_type": "text",
        "id": "MMuK4GVpa4rH"
      },
      "source": [
        "2. Row Selection: \n",
        "\n",
        "Pandas provide a unique method to retrieve rows from a data frame.The  **.loc[ ]**  method is used to retrieve rows from Pandas dataframe. This is done passing integer location to the **loc[ ]** function of specifying the column name and specific condition to be met"
      ]
    },
    {
      "cell_type": "code",
      "metadata": {
        "id": "xhfshoPakRco",
        "colab_type": "code",
        "colab": {
          "base_uri": "https://localhost:8080/",
          "height": 81
        },
        "outputId": "4643d60a-a0c9-4651-ac0e-3d145c82fbba"
      },
      "source": [
        "#Specifying the index of the row\n",
        "df.loc[[1]]"
      ],
      "execution_count": null,
      "outputs": [
        {
          "output_type": "execute_result",
          "data": {
            "text/html": [
              "<div>\n",
              "<style scoped>\n",
              "    .dataframe tbody tr th:only-of-type {\n",
              "        vertical-align: middle;\n",
              "    }\n",
              "\n",
              "    .dataframe tbody tr th {\n",
              "        vertical-align: top;\n",
              "    }\n",
              "\n",
              "    .dataframe thead th {\n",
              "        text-align: right;\n",
              "    }\n",
              "</style>\n",
              "<table border=\"1\" class=\"dataframe\">\n",
              "  <thead>\n",
              "    <tr style=\"text-align: right;\">\n",
              "      <th></th>\n",
              "      <th>Name</th>\n",
              "      <th>Age</th>\n",
              "      <th>Country</th>\n",
              "      <th>Qualification</th>\n",
              "    </tr>\n",
              "  </thead>\n",
              "  <tbody>\n",
              "    <tr>\n",
              "      <th>1</th>\n",
              "      <td>Susan</td>\n",
              "      <td>NaN</td>\n",
              "      <td>KE</td>\n",
              "      <td>MA</td>\n",
              "    </tr>\n",
              "  </tbody>\n",
              "</table>\n",
              "</div>"
            ],
            "text/plain": [
              "    Name  Age Country Qualification\n",
              "1  Susan  NaN      KE            MA"
            ]
          },
          "metadata": {
            "tags": []
          },
          "execution_count": 35
        }
      ]
    },
    {
      "cell_type": "code",
      "metadata": {
        "colab_type": "code",
        "id": "fqRcEznibIF1",
        "colab": {
          "base_uri": "https://localhost:8080/",
          "height": 81
        },
        "outputId": "e7720d47-d976-4d79-9e27-65df53caedc3"
      },
      "source": [
        "# retrieving row by loc method using a condition\n",
        "df.loc[df['Name'] == 'Mary']"
      ],
      "execution_count": null,
      "outputs": [
        {
          "output_type": "execute_result",
          "data": {
            "text/html": [
              "<div>\n",
              "<style scoped>\n",
              "    .dataframe tbody tr th:only-of-type {\n",
              "        vertical-align: middle;\n",
              "    }\n",
              "\n",
              "    .dataframe tbody tr th {\n",
              "        vertical-align: top;\n",
              "    }\n",
              "\n",
              "    .dataframe thead th {\n",
              "        text-align: right;\n",
              "    }\n",
              "</style>\n",
              "<table border=\"1\" class=\"dataframe\">\n",
              "  <thead>\n",
              "    <tr style=\"text-align: right;\">\n",
              "      <th></th>\n",
              "      <th>Name</th>\n",
              "      <th>Age</th>\n",
              "      <th>Country</th>\n",
              "      <th>Qualification</th>\n",
              "    </tr>\n",
              "  </thead>\n",
              "  <tbody>\n",
              "    <tr>\n",
              "      <th>0</th>\n",
              "      <td>Mary</td>\n",
              "      <td>27.0</td>\n",
              "      <td>SA</td>\n",
              "      <td>Msc</td>\n",
              "    </tr>\n",
              "  </tbody>\n",
              "</table>\n",
              "</div>"
            ],
            "text/plain": [
              "   Name   Age Country Qualification\n",
              "0  Mary  27.0      SA           Msc"
            ]
          },
          "metadata": {
            "tags": []
          },
          "execution_count": 36
        }
      ]
    },
    {
      "cell_type": "markdown",
      "metadata": {
        "colab_type": "text",
        "id": "SqB5ewdlgEwk"
      },
      "source": [
        "The second logic is to use **.iloc** to select rows and columns by their indexes\n"
      ]
    },
    {
      "cell_type": "code",
      "metadata": {
        "colab_type": "code",
        "id": "v2MgBSNugPmv",
        "colab": {
          "base_uri": "https://localhost:8080/",
          "height": 112
        },
        "outputId": "00f7266a-a6a5-4e91-e683-22e6bdb23fd6"
      },
      "source": [
        "df.iloc[0:2,0:2]"
      ],
      "execution_count": null,
      "outputs": [
        {
          "output_type": "execute_result",
          "data": {
            "text/html": [
              "<div>\n",
              "<style scoped>\n",
              "    .dataframe tbody tr th:only-of-type {\n",
              "        vertical-align: middle;\n",
              "    }\n",
              "\n",
              "    .dataframe tbody tr th {\n",
              "        vertical-align: top;\n",
              "    }\n",
              "\n",
              "    .dataframe thead th {\n",
              "        text-align: right;\n",
              "    }\n",
              "</style>\n",
              "<table border=\"1\" class=\"dataframe\">\n",
              "  <thead>\n",
              "    <tr style=\"text-align: right;\">\n",
              "      <th></th>\n",
              "      <th>Name</th>\n",
              "      <th>Age</th>\n",
              "    </tr>\n",
              "  </thead>\n",
              "  <tbody>\n",
              "    <tr>\n",
              "      <th>0</th>\n",
              "      <td>Mary</td>\n",
              "      <td>27.0</td>\n",
              "    </tr>\n",
              "    <tr>\n",
              "      <th>1</th>\n",
              "      <td>Susan</td>\n",
              "      <td>NaN</td>\n",
              "    </tr>\n",
              "  </tbody>\n",
              "</table>\n",
              "</div>"
            ],
            "text/plain": [
              "    Name   Age\n",
              "0   Mary  27.0\n",
              "1  Susan   NaN"
            ]
          },
          "metadata": {
            "tags": []
          },
          "execution_count": 37
        }
      ]
    },
    {
      "cell_type": "markdown",
      "metadata": {
        "id": "l_IaawUylPB6",
        "colab_type": "text"
      },
      "source": [
        "### Renaming\n",
        "We can rename columns in a dataframe"
      ]
    },
    {
      "cell_type": "code",
      "metadata": {
        "id": "K1WuVP4OlZhB",
        "colab_type": "code",
        "colab": {
          "base_uri": "https://localhost:8080/",
          "height": 175
        },
        "outputId": "6d393395-ef0b-48fb-9ace-3492161943e1"
      },
      "source": [
        "df.rename(columns={'Name':'S'})\n",
        "df"
      ],
      "execution_count": null,
      "outputs": [
        {
          "output_type": "execute_result",
          "data": {
            "text/html": [
              "<div>\n",
              "<style scoped>\n",
              "    .dataframe tbody tr th:only-of-type {\n",
              "        vertical-align: middle;\n",
              "    }\n",
              "\n",
              "    .dataframe tbody tr th {\n",
              "        vertical-align: top;\n",
              "    }\n",
              "\n",
              "    .dataframe thead th {\n",
              "        text-align: right;\n",
              "    }\n",
              "</style>\n",
              "<table border=\"1\" class=\"dataframe\">\n",
              "  <thead>\n",
              "    <tr style=\"text-align: right;\">\n",
              "      <th></th>\n",
              "      <th>Name</th>\n",
              "      <th>Age</th>\n",
              "      <th>Country</th>\n",
              "      <th>Qualification</th>\n",
              "    </tr>\n",
              "  </thead>\n",
              "  <tbody>\n",
              "    <tr>\n",
              "      <th>0</th>\n",
              "      <td>Mary</td>\n",
              "      <td>27.0</td>\n",
              "      <td>SA</td>\n",
              "      <td>Msc</td>\n",
              "    </tr>\n",
              "    <tr>\n",
              "      <th>1</th>\n",
              "      <td>Susan</td>\n",
              "      <td>NaN</td>\n",
              "      <td>KE</td>\n",
              "      <td>MA</td>\n",
              "    </tr>\n",
              "    <tr>\n",
              "      <th>2</th>\n",
              "      <td>Sarah</td>\n",
              "      <td>22.0</td>\n",
              "      <td>GH</td>\n",
              "      <td>MA</td>\n",
              "    </tr>\n",
              "    <tr>\n",
              "      <th>3</th>\n",
              "      <td>Hellen</td>\n",
              "      <td>32.0</td>\n",
              "      <td>TZ</td>\n",
              "      <td>Phd</td>\n",
              "    </tr>\n",
              "  </tbody>\n",
              "</table>\n",
              "</div>"
            ],
            "text/plain": [
              "     Name   Age Country Qualification\n",
              "0    Mary  27.0      SA           Msc\n",
              "1   Susan   NaN      KE            MA\n",
              "2   Sarah  22.0      GH            MA\n",
              "3  Hellen  32.0      TZ           Phd"
            ]
          },
          "metadata": {
            "tags": []
          },
          "execution_count": 40
        }
      ]
    },
    {
      "cell_type": "code",
      "metadata": {
        "id": "q6u-3_QklyKW",
        "colab_type": "code",
        "colab": {
          "base_uri": "https://localhost:8080/",
          "height": 175
        },
        "outputId": "7180bc3a-ab15-484e-c1df-7a49638fedad"
      },
      "source": [
        "#Renaming all columns\n",
        "df.columns=[\"Names\",\"Old\",\"Origin\",\"Qual\"]\n",
        "df"
      ],
      "execution_count": null,
      "outputs": [
        {
          "output_type": "execute_result",
          "data": {
            "text/html": [
              "<div>\n",
              "<style scoped>\n",
              "    .dataframe tbody tr th:only-of-type {\n",
              "        vertical-align: middle;\n",
              "    }\n",
              "\n",
              "    .dataframe tbody tr th {\n",
              "        vertical-align: top;\n",
              "    }\n",
              "\n",
              "    .dataframe thead th {\n",
              "        text-align: right;\n",
              "    }\n",
              "</style>\n",
              "<table border=\"1\" class=\"dataframe\">\n",
              "  <thead>\n",
              "    <tr style=\"text-align: right;\">\n",
              "      <th></th>\n",
              "      <th>Names</th>\n",
              "      <th>Old</th>\n",
              "      <th>Origin</th>\n",
              "      <th>Qual</th>\n",
              "    </tr>\n",
              "  </thead>\n",
              "  <tbody>\n",
              "    <tr>\n",
              "      <th>0</th>\n",
              "      <td>Mary</td>\n",
              "      <td>27.0</td>\n",
              "      <td>SA</td>\n",
              "      <td>Msc</td>\n",
              "    </tr>\n",
              "    <tr>\n",
              "      <th>1</th>\n",
              "      <td>Susan</td>\n",
              "      <td>NaN</td>\n",
              "      <td>KE</td>\n",
              "      <td>MA</td>\n",
              "    </tr>\n",
              "    <tr>\n",
              "      <th>2</th>\n",
              "      <td>Sarah</td>\n",
              "      <td>22.0</td>\n",
              "      <td>GH</td>\n",
              "      <td>MA</td>\n",
              "    </tr>\n",
              "    <tr>\n",
              "      <th>3</th>\n",
              "      <td>Hellen</td>\n",
              "      <td>32.0</td>\n",
              "      <td>TZ</td>\n",
              "      <td>Phd</td>\n",
              "    </tr>\n",
              "  </tbody>\n",
              "</table>\n",
              "</div>"
            ],
            "text/plain": [
              "    Names   Old Origin Qual\n",
              "0    Mary  27.0     SA  Msc\n",
              "1   Susan   NaN     KE   MA\n",
              "2   Sarah  22.0     GH   MA\n",
              "3  Hellen  32.0     TZ  Phd"
            ]
          },
          "metadata": {
            "tags": []
          },
          "execution_count": 41
        }
      ]
    },
    {
      "cell_type": "markdown",
      "metadata": {
        "id": "IqY_0f-2mAsY",
        "colab_type": "text"
      },
      "source": [
        "# Missing Values\n",
        "To check for missing values in the dataframe, we use the using **isnull()** function"
      ]
    },
    {
      "cell_type": "code",
      "metadata": {
        "id": "W1PnFp1VmD4a",
        "colab_type": "code",
        "colab": {
          "base_uri": "https://localhost:8080/",
          "height": 175
        },
        "outputId": "d3c6b657-04e2-4526-af23-2f81ad601dc6"
      },
      "source": [
        "df.isnull()"
      ],
      "execution_count": null,
      "outputs": [
        {
          "output_type": "execute_result",
          "data": {
            "text/html": [
              "<div>\n",
              "<style scoped>\n",
              "    .dataframe tbody tr th:only-of-type {\n",
              "        vertical-align: middle;\n",
              "    }\n",
              "\n",
              "    .dataframe tbody tr th {\n",
              "        vertical-align: top;\n",
              "    }\n",
              "\n",
              "    .dataframe thead th {\n",
              "        text-align: right;\n",
              "    }\n",
              "</style>\n",
              "<table border=\"1\" class=\"dataframe\">\n",
              "  <thead>\n",
              "    <tr style=\"text-align: right;\">\n",
              "      <th></th>\n",
              "      <th>Names</th>\n",
              "      <th>Old</th>\n",
              "      <th>Origin</th>\n",
              "      <th>Qual</th>\n",
              "    </tr>\n",
              "  </thead>\n",
              "  <tbody>\n",
              "    <tr>\n",
              "      <th>0</th>\n",
              "      <td>False</td>\n",
              "      <td>False</td>\n",
              "      <td>False</td>\n",
              "      <td>False</td>\n",
              "    </tr>\n",
              "    <tr>\n",
              "      <th>1</th>\n",
              "      <td>False</td>\n",
              "      <td>True</td>\n",
              "      <td>False</td>\n",
              "      <td>False</td>\n",
              "    </tr>\n",
              "    <tr>\n",
              "      <th>2</th>\n",
              "      <td>False</td>\n",
              "      <td>False</td>\n",
              "      <td>False</td>\n",
              "      <td>False</td>\n",
              "    </tr>\n",
              "    <tr>\n",
              "      <th>3</th>\n",
              "      <td>False</td>\n",
              "      <td>False</td>\n",
              "      <td>False</td>\n",
              "      <td>False</td>\n",
              "    </tr>\n",
              "  </tbody>\n",
              "</table>\n",
              "</div>"
            ],
            "text/plain": [
              "   Names    Old  Origin   Qual\n",
              "0  False  False   False  False\n",
              "1  False   True   False  False\n",
              "2  False  False   False  False\n",
              "3  False  False   False  False"
            ]
          },
          "metadata": {
            "tags": []
          },
          "execution_count": 42
        }
      ]
    },
    {
      "cell_type": "markdown",
      "metadata": {
        "id": "KVetx8vMnZOY",
        "colab_type": "text"
      },
      "source": [
        "We can check the total number of missing values in the dataframe by summing all the missing values"
      ]
    },
    {
      "cell_type": "code",
      "metadata": {
        "id": "fUpubfGwna-S",
        "colab_type": "code",
        "colab": {
          "base_uri": "https://localhost:8080/",
          "height": 104
        },
        "outputId": "30945ba2-f8e9-4571-d23a-c308e24759cb"
      },
      "source": [
        "df.isnull().sum()"
      ],
      "execution_count": null,
      "outputs": [
        {
          "output_type": "execute_result",
          "data": {
            "text/plain": [
              "Name             0\n",
              "Age              1\n",
              "Country          0\n",
              "Qualification    0\n",
              "dtype: int64"
            ]
          },
          "metadata": {
            "tags": []
          },
          "execution_count": 49
        }
      ]
    },
    {
      "cell_type": "markdown",
      "metadata": {
        "id": "DrZJOG9knjp7",
        "colab_type": "text"
      },
      "source": [
        "We can replace the missing values with a different value using using **fillna( )**"
      ]
    },
    {
      "cell_type": "code",
      "metadata": {
        "id": "TZ5zYgfxnpCp",
        "colab_type": "code",
        "colab": {
          "base_uri": "https://localhost:8080/",
          "height": 175
        },
        "outputId": "e049b794-9d34-4cfd-9dac-6d6cc9f3db63"
      },
      "source": [
        "completedf=df.fillna(0)\n",
        "completedf\n"
      ],
      "execution_count": null,
      "outputs": [
        {
          "output_type": "execute_result",
          "data": {
            "text/html": [
              "<div>\n",
              "<style scoped>\n",
              "    .dataframe tbody tr th:only-of-type {\n",
              "        vertical-align: middle;\n",
              "    }\n",
              "\n",
              "    .dataframe tbody tr th {\n",
              "        vertical-align: top;\n",
              "    }\n",
              "\n",
              "    .dataframe thead th {\n",
              "        text-align: right;\n",
              "    }\n",
              "</style>\n",
              "<table border=\"1\" class=\"dataframe\">\n",
              "  <thead>\n",
              "    <tr style=\"text-align: right;\">\n",
              "      <th></th>\n",
              "      <th>Name</th>\n",
              "      <th>Age</th>\n",
              "      <th>Country</th>\n",
              "      <th>Qualification</th>\n",
              "    </tr>\n",
              "  </thead>\n",
              "  <tbody>\n",
              "    <tr>\n",
              "      <th>0</th>\n",
              "      <td>Mary</td>\n",
              "      <td>27.0</td>\n",
              "      <td>SA</td>\n",
              "      <td>Msc</td>\n",
              "    </tr>\n",
              "    <tr>\n",
              "      <th>1</th>\n",
              "      <td>Susan</td>\n",
              "      <td>0.0</td>\n",
              "      <td>KE</td>\n",
              "      <td>MA</td>\n",
              "    </tr>\n",
              "    <tr>\n",
              "      <th>2</th>\n",
              "      <td>Sarah</td>\n",
              "      <td>22.0</td>\n",
              "      <td>GH</td>\n",
              "      <td>MA</td>\n",
              "    </tr>\n",
              "    <tr>\n",
              "      <th>3</th>\n",
              "      <td>Hellen</td>\n",
              "      <td>32.0</td>\n",
              "      <td>TZ</td>\n",
              "      <td>Phd</td>\n",
              "    </tr>\n",
              "  </tbody>\n",
              "</table>\n",
              "</div>"
            ],
            "text/plain": [
              "     Name   Age Country Qualification\n",
              "0    Mary  27.0      SA           Msc\n",
              "1   Susan   0.0      KE            MA\n",
              "2   Sarah  22.0      GH            MA\n",
              "3  Hellen  32.0      TZ           Phd"
            ]
          },
          "metadata": {
            "tags": []
          },
          "execution_count": 53
        }
      ]
    },
    {
      "cell_type": "code",
      "metadata": {
        "id": "DsWeSf5Un7vL",
        "colab_type": "code",
        "colab": {
          "base_uri": "https://localhost:8080/",
          "height": 104
        },
        "outputId": "9cc9e997-480e-449c-86ca-89cddb36a34d"
      },
      "source": [
        "#Check whether it has replaced\n",
        "completedf.isnull().sum()"
      ],
      "execution_count": null,
      "outputs": [
        {
          "output_type": "execute_result",
          "data": {
            "text/plain": [
              "Name             0\n",
              "Age              0\n",
              "Country          0\n",
              "Qualification    0\n",
              "dtype: int64"
            ]
          },
          "metadata": {
            "tags": []
          },
          "execution_count": 54
        }
      ]
    },
    {
      "cell_type": "markdown",
      "metadata": {
        "id": "lTV6vjKWoHtp",
        "colab_type": "text"
      },
      "source": [
        "We can also drop the columns or rows that has missing values. We specify axis(0) for rows and axis(1) for columns"
      ]
    },
    {
      "cell_type": "code",
      "metadata": {
        "id": "zfpxjWTSoO70",
        "colab_type": "code",
        "colab": {
          "base_uri": "https://localhost:8080/",
          "height": 143
        },
        "outputId": "81c76795-fcbf-4896-f27f-5fffad452f98"
      },
      "source": [
        "df.dropna(axis=0)"
      ],
      "execution_count": null,
      "outputs": [
        {
          "output_type": "execute_result",
          "data": {
            "text/html": [
              "<div>\n",
              "<style scoped>\n",
              "    .dataframe tbody tr th:only-of-type {\n",
              "        vertical-align: middle;\n",
              "    }\n",
              "\n",
              "    .dataframe tbody tr th {\n",
              "        vertical-align: top;\n",
              "    }\n",
              "\n",
              "    .dataframe thead th {\n",
              "        text-align: right;\n",
              "    }\n",
              "</style>\n",
              "<table border=\"1\" class=\"dataframe\">\n",
              "  <thead>\n",
              "    <tr style=\"text-align: right;\">\n",
              "      <th></th>\n",
              "      <th>Name</th>\n",
              "      <th>Age</th>\n",
              "      <th>Country</th>\n",
              "      <th>Qualification</th>\n",
              "    </tr>\n",
              "  </thead>\n",
              "  <tbody>\n",
              "    <tr>\n",
              "      <th>0</th>\n",
              "      <td>Mary</td>\n",
              "      <td>27.0</td>\n",
              "      <td>SA</td>\n",
              "      <td>Msc</td>\n",
              "    </tr>\n",
              "    <tr>\n",
              "      <th>2</th>\n",
              "      <td>Sarah</td>\n",
              "      <td>22.0</td>\n",
              "      <td>GH</td>\n",
              "      <td>MA</td>\n",
              "    </tr>\n",
              "    <tr>\n",
              "      <th>3</th>\n",
              "      <td>Hellen</td>\n",
              "      <td>32.0</td>\n",
              "      <td>TZ</td>\n",
              "      <td>Phd</td>\n",
              "    </tr>\n",
              "  </tbody>\n",
              "</table>\n",
              "</div>"
            ],
            "text/plain": [
              "     Name   Age Country Qualification\n",
              "0    Mary  27.0      SA           Msc\n",
              "2   Sarah  22.0      GH            MA\n",
              "3  Hellen  32.0      TZ           Phd"
            ]
          },
          "metadata": {
            "tags": []
          },
          "execution_count": 55
        }
      ]
    },
    {
      "cell_type": "code",
      "metadata": {
        "id": "jeIYvksaozow",
        "colab_type": "code",
        "colab": {
          "base_uri": "https://localhost:8080/",
          "height": 175
        },
        "outputId": "f4fa9551-7382-4263-87de-8ea6038716fa"
      },
      "source": [
        "#Drop column with na\n",
        "df.dropna(axis=1)"
      ],
      "execution_count": null,
      "outputs": [
        {
          "output_type": "execute_result",
          "data": {
            "text/html": [
              "<div>\n",
              "<style scoped>\n",
              "    .dataframe tbody tr th:only-of-type {\n",
              "        vertical-align: middle;\n",
              "    }\n",
              "\n",
              "    .dataframe tbody tr th {\n",
              "        vertical-align: top;\n",
              "    }\n",
              "\n",
              "    .dataframe thead th {\n",
              "        text-align: right;\n",
              "    }\n",
              "</style>\n",
              "<table border=\"1\" class=\"dataframe\">\n",
              "  <thead>\n",
              "    <tr style=\"text-align: right;\">\n",
              "      <th></th>\n",
              "      <th>Name</th>\n",
              "      <th>Country</th>\n",
              "      <th>Qualification</th>\n",
              "    </tr>\n",
              "  </thead>\n",
              "  <tbody>\n",
              "    <tr>\n",
              "      <th>0</th>\n",
              "      <td>Mary</td>\n",
              "      <td>SA</td>\n",
              "      <td>Msc</td>\n",
              "    </tr>\n",
              "    <tr>\n",
              "      <th>1</th>\n",
              "      <td>Susan</td>\n",
              "      <td>KE</td>\n",
              "      <td>MA</td>\n",
              "    </tr>\n",
              "    <tr>\n",
              "      <th>2</th>\n",
              "      <td>Sarah</td>\n",
              "      <td>GH</td>\n",
              "      <td>MA</td>\n",
              "    </tr>\n",
              "    <tr>\n",
              "      <th>3</th>\n",
              "      <td>Hellen</td>\n",
              "      <td>TZ</td>\n",
              "      <td>Phd</td>\n",
              "    </tr>\n",
              "  </tbody>\n",
              "</table>\n",
              "</div>"
            ],
            "text/plain": [
              "     Name Country Qualification\n",
              "0    Mary      SA           Msc\n",
              "1   Susan      KE            MA\n",
              "2   Sarah      GH            MA\n",
              "3  Hellen      TZ           Phd"
            ]
          },
          "metadata": {
            "tags": []
          },
          "execution_count": 57
        }
      ]
    },
    {
      "cell_type": "markdown",
      "metadata": {
        "colab_type": "text",
        "id": "Ju2v1oFRdEmi"
      },
      "source": [
        "#Reading data into pandas\n",
        "\n",
        "There are various file formats that pandas can read.  In this tutorial we will focus on csv file format. We will look at the various operations using sample dataset that will provided.\n",
        "\n",
        "We can import data using the read command as follows"
      ]
    },
    {
      "cell_type": "code",
      "metadata": {
        "id": "RzQflMwMvFOg",
        "colab_type": "code",
        "colab": {}
      },
      "source": [
        "# Load the Pandas libraries with alias 'pd' \n",
        "import pandas as pd\n",
        "# Read data from file 'filename.csv' depending on the file extension \n",
        "dataset = pd.read_csv(\"https://raw.githubusercontent.com/WPSYG/Python-2-day-workshop/master/data/sales.csv\")\n",
        "#dataset #displays the whole dataset"
      ],
      "execution_count": 4,
      "outputs": []
    },
    {
      "cell_type": "markdown",
      "metadata": {
        "id": "tP_Fsa1ipoE8",
        "colab_type": "text"
      },
      "source": [
        "We can decide to view the first few rows of the data or the last few rows using the head or tail command"
      ]
    },
    {
      "cell_type": "code",
      "metadata": {
        "id": "Cb-64-XepnWT",
        "colab_type": "code",
        "colab": {
          "base_uri": "https://localhost:8080/",
          "height": 293
        },
        "outputId": "3992230b-8091-4c06-9fb3-71f456b6b996"
      },
      "source": [
        "# Preview the first 5 lines of the loaded data \n",
        "dataset.head()"
      ],
      "execution_count": 3,
      "outputs": [
        {
          "output_type": "execute_result",
          "data": {
            "text/html": [
              "<div>\n",
              "<style scoped>\n",
              "    .dataframe tbody tr th:only-of-type {\n",
              "        vertical-align: middle;\n",
              "    }\n",
              "\n",
              "    .dataframe tbody tr th {\n",
              "        vertical-align: top;\n",
              "    }\n",
              "\n",
              "    .dataframe thead th {\n",
              "        text-align: right;\n",
              "    }\n",
              "</style>\n",
              "<table border=\"1\" class=\"dataframe\">\n",
              "  <thead>\n",
              "    <tr style=\"text-align: right;\">\n",
              "      <th></th>\n",
              "      <th>Transaction_date</th>\n",
              "      <th>Product</th>\n",
              "      <th>Price</th>\n",
              "      <th>Payment_Type</th>\n",
              "      <th>Name</th>\n",
              "      <th>City</th>\n",
              "      <th>State</th>\n",
              "      <th>Country</th>\n",
              "      <th>Account_Created</th>\n",
              "      <th>Last_Login</th>\n",
              "      <th>Latitude</th>\n",
              "      <th>Longitude</th>\n",
              "    </tr>\n",
              "  </thead>\n",
              "  <tbody>\n",
              "    <tr>\n",
              "      <th>0</th>\n",
              "      <td>1/2/09 6:17</td>\n",
              "      <td>Product1</td>\n",
              "      <td>1200</td>\n",
              "      <td>Mastercard</td>\n",
              "      <td>carolina</td>\n",
              "      <td>Basildon</td>\n",
              "      <td>England</td>\n",
              "      <td>United Kingdom</td>\n",
              "      <td>1/2/09 6:00</td>\n",
              "      <td>1/2/09 6:08</td>\n",
              "      <td>51.500000</td>\n",
              "      <td>-1.116667</td>\n",
              "    </tr>\n",
              "    <tr>\n",
              "      <th>1</th>\n",
              "      <td>1/2/09 4:53</td>\n",
              "      <td>Product1</td>\n",
              "      <td>1200</td>\n",
              "      <td>Visa</td>\n",
              "      <td>Betina</td>\n",
              "      <td>Parkville</td>\n",
              "      <td>MO</td>\n",
              "      <td>United States</td>\n",
              "      <td>1/2/09 4:42</td>\n",
              "      <td>1/2/09 7:49</td>\n",
              "      <td>39.195000</td>\n",
              "      <td>-94.681940</td>\n",
              "    </tr>\n",
              "    <tr>\n",
              "      <th>2</th>\n",
              "      <td>1/2/09 13:08</td>\n",
              "      <td>Product1</td>\n",
              "      <td>1200</td>\n",
              "      <td>Mastercard</td>\n",
              "      <td>Federica e Andrea</td>\n",
              "      <td>Astoria</td>\n",
              "      <td>OR</td>\n",
              "      <td>United States</td>\n",
              "      <td>1/1/09 16:21</td>\n",
              "      <td>1/3/09 12:32</td>\n",
              "      <td>46.188060</td>\n",
              "      <td>-123.830000</td>\n",
              "    </tr>\n",
              "    <tr>\n",
              "      <th>3</th>\n",
              "      <td>1/3/09 14:44</td>\n",
              "      <td>Product1</td>\n",
              "      <td>1200</td>\n",
              "      <td>Visa</td>\n",
              "      <td>Gouya</td>\n",
              "      <td>Echuca</td>\n",
              "      <td>Victoria</td>\n",
              "      <td>Australia</td>\n",
              "      <td>9/25/05 21:13</td>\n",
              "      <td>1/3/09 14:22</td>\n",
              "      <td>-36.133333</td>\n",
              "      <td>144.750000</td>\n",
              "    </tr>\n",
              "    <tr>\n",
              "      <th>4</th>\n",
              "      <td>1/4/09 12:56</td>\n",
              "      <td>Product2</td>\n",
              "      <td>3600</td>\n",
              "      <td>Visa</td>\n",
              "      <td>Gerd W</td>\n",
              "      <td>Cahaba Heights</td>\n",
              "      <td>AL</td>\n",
              "      <td>United States</td>\n",
              "      <td>11/15/08 15:47</td>\n",
              "      <td>1/4/09 12:45</td>\n",
              "      <td>33.520560</td>\n",
              "      <td>-86.802500</td>\n",
              "    </tr>\n",
              "  </tbody>\n",
              "</table>\n",
              "</div>"
            ],
            "text/plain": [
              "  Transaction_date   Product Price  ...    Last_Login   Latitude   Longitude\n",
              "0      1/2/09 6:17  Product1  1200  ...   1/2/09 6:08  51.500000   -1.116667\n",
              "1      1/2/09 4:53  Product1  1200  ...   1/2/09 7:49  39.195000  -94.681940\n",
              "2     1/2/09 13:08  Product1  1200  ...  1/3/09 12:32  46.188060 -123.830000\n",
              "3     1/3/09 14:44  Product1  1200  ...  1/3/09 14:22 -36.133333  144.750000\n",
              "4     1/4/09 12:56  Product2  3600  ...  1/4/09 12:45  33.520560  -86.802500\n",
              "\n",
              "[5 rows x 12 columns]"
            ]
          },
          "metadata": {
            "tags": []
          },
          "execution_count": 3
        }
      ]
    },
    {
      "cell_type": "code",
      "metadata": {
        "id": "DJRjDzOmpsgj",
        "colab_type": "code",
        "colab": {}
      },
      "source": [
        "# Preview the first 5 lines of the loaded data \n",
        "#dataset.tail()"
      ],
      "execution_count": null,
      "outputs": []
    },
    {
      "cell_type": "code",
      "metadata": {
        "id": "pqZVNkk0pyEN",
        "colab_type": "code",
        "colab": {
          "base_uri": "https://localhost:8080/",
          "height": 112
        },
        "outputId": "2a06a1d0-b01b-46b8-a38d-3796aa37dd8a"
      },
      "source": [
        "#We specify the number of rows we need to display\n",
        "dataset.head(2)"
      ],
      "execution_count": 5,
      "outputs": [
        {
          "output_type": "execute_result",
          "data": {
            "text/html": [
              "<div>\n",
              "<style scoped>\n",
              "    .dataframe tbody tr th:only-of-type {\n",
              "        vertical-align: middle;\n",
              "    }\n",
              "\n",
              "    .dataframe tbody tr th {\n",
              "        vertical-align: top;\n",
              "    }\n",
              "\n",
              "    .dataframe thead th {\n",
              "        text-align: right;\n",
              "    }\n",
              "</style>\n",
              "<table border=\"1\" class=\"dataframe\">\n",
              "  <thead>\n",
              "    <tr style=\"text-align: right;\">\n",
              "      <th></th>\n",
              "      <th>Transaction_date</th>\n",
              "      <th>Product</th>\n",
              "      <th>Price</th>\n",
              "      <th>Payment_Type</th>\n",
              "      <th>Name</th>\n",
              "      <th>City</th>\n",
              "      <th>State</th>\n",
              "      <th>Country</th>\n",
              "      <th>Account_Created</th>\n",
              "      <th>Last_Login</th>\n",
              "      <th>Latitude</th>\n",
              "      <th>Longitude</th>\n",
              "    </tr>\n",
              "  </thead>\n",
              "  <tbody>\n",
              "    <tr>\n",
              "      <th>0</th>\n",
              "      <td>1/2/09 6:17</td>\n",
              "      <td>Product1</td>\n",
              "      <td>1200</td>\n",
              "      <td>Mastercard</td>\n",
              "      <td>carolina</td>\n",
              "      <td>Basildon</td>\n",
              "      <td>England</td>\n",
              "      <td>United Kingdom</td>\n",
              "      <td>1/2/09 6:00</td>\n",
              "      <td>1/2/09 6:08</td>\n",
              "      <td>51.500</td>\n",
              "      <td>-1.116667</td>\n",
              "    </tr>\n",
              "    <tr>\n",
              "      <th>1</th>\n",
              "      <td>1/2/09 4:53</td>\n",
              "      <td>Product1</td>\n",
              "      <td>1200</td>\n",
              "      <td>Visa</td>\n",
              "      <td>Betina</td>\n",
              "      <td>Parkville</td>\n",
              "      <td>MO</td>\n",
              "      <td>United States</td>\n",
              "      <td>1/2/09 4:42</td>\n",
              "      <td>1/2/09 7:49</td>\n",
              "      <td>39.195</td>\n",
              "      <td>-94.681940</td>\n",
              "    </tr>\n",
              "  </tbody>\n",
              "</table>\n",
              "</div>"
            ],
            "text/plain": [
              "  Transaction_date   Product Price  ...   Last_Login Latitude  Longitude\n",
              "0      1/2/09 6:17  Product1  1200  ...  1/2/09 6:08   51.500  -1.116667\n",
              "1      1/2/09 4:53  Product1  1200  ...  1/2/09 7:49   39.195 -94.681940\n",
              "\n",
              "[2 rows x 12 columns]"
            ]
          },
          "metadata": {
            "tags": []
          },
          "execution_count": 5
        }
      ]
    },
    {
      "cell_type": "markdown",
      "metadata": {
        "id": "g2wM9tbsp6mj",
        "colab_type": "text"
      },
      "source": [
        "**Checking the shape, size and dimension of the data**"
      ]
    },
    {
      "cell_type": "code",
      "metadata": {
        "id": "CNoJzTZmp8yH",
        "colab_type": "code",
        "colab": {
          "base_uri": "https://localhost:8080/",
          "height": 34
        },
        "outputId": "572328f2-201e-46cc-decb-05277757103e"
      },
      "source": [
        "#Shape of the data-gives total rows and columns\n",
        "dataset.shape"
      ],
      "execution_count": 6,
      "outputs": [
        {
          "output_type": "execute_result",
          "data": {
            "text/plain": [
              "(998, 12)"
            ]
          },
          "metadata": {
            "tags": []
          },
          "execution_count": 6
        }
      ]
    },
    {
      "cell_type": "code",
      "metadata": {
        "id": "2Bx6rNo5p83q",
        "colab_type": "code",
        "colab": {
          "base_uri": "https://localhost:8080/",
          "height": 34
        },
        "outputId": "c18dd092-6cfd-4906-9548-0f7c1b739d7e"
      },
      "source": [
        "#The total number of elements in the dataset-gives rows x columns\n",
        "dataset.size"
      ],
      "execution_count": 7,
      "outputs": [
        {
          "output_type": "execute_result",
          "data": {
            "text/plain": [
              "11976"
            ]
          },
          "metadata": {
            "tags": []
          },
          "execution_count": 7
        }
      ]
    },
    {
      "cell_type": "code",
      "metadata": {
        "id": "7Wc7K81QqChZ",
        "colab_type": "code",
        "colab": {
          "base_uri": "https://localhost:8080/",
          "height": 34
        },
        "outputId": "900c21b3-b7f9-43f2-956c-66c9103bf1df"
      },
      "source": [
        "#Dimension\n",
        "dataset.ndim"
      ],
      "execution_count": 8,
      "outputs": [
        {
          "output_type": "execute_result",
          "data": {
            "text/plain": [
              "2"
            ]
          },
          "metadata": {
            "tags": []
          },
          "execution_count": 8
        }
      ]
    },
    {
      "cell_type": "code",
      "metadata": {
        "id": "9p6K5jihqNXy",
        "colab_type": "code",
        "colab": {
          "base_uri": "https://localhost:8080/",
          "height": 208
        },
        "outputId": "b08e2174-bfc7-4bbe-b174-3d4d31189a8b"
      },
      "source": [
        "###  unique values in categorical variables\n",
        "unique = dataset.select_dtypes('object').apply(pd.Series.nunique, axis = 0)\n",
        "unique"
      ],
      "execution_count": 9,
      "outputs": [
        {
          "output_type": "execute_result",
          "data": {
            "text/plain": [
              "Transaction_date    987\n",
              "Product               4\n",
              "Price                 9\n",
              "Payment_Type          4\n",
              "Name                765\n",
              "City                759\n",
              "State               204\n",
              "Country              56\n",
              "Account_Created     976\n",
              "Last_Login          977\n",
              "dtype: int64"
            ]
          },
          "metadata": {
            "tags": []
          },
          "execution_count": 9
        }
      ]
    },
    {
      "cell_type": "markdown",
      "metadata": {
        "id": "DC-6oqDCqYtD",
        "colab_type": "text"
      },
      "source": [
        "# Indexing and subsetting\n",
        "\n",
        "1. Using loc function. \n",
        "\n",
        "The loc indexer is used with the same syntax as iloc: data.loc[row selection, column selection]. It can be done in two ways\n",
        "\n",
        "         a.) Selecting rows by label/index"
      ]
    },
    {
      "cell_type": "code",
      "metadata": {
        "id": "tZLfGlzPqbWL",
        "colab_type": "code",
        "colab": {
          "base_uri": "https://localhost:8080/",
          "height": 244
        },
        "outputId": "a0783f3c-56a1-498a-f28f-fc6d7c011921"
      },
      "source": [
        "#Set an index for the data\n",
        "dataset.set_index(\"Transaction_date\", inplace=False)\n",
        "#Specify the rows you want to return by their indexes\n",
        "dataset.loc[0:3]"
      ],
      "execution_count": 10,
      "outputs": [
        {
          "output_type": "execute_result",
          "data": {
            "text/html": [
              "<div>\n",
              "<style scoped>\n",
              "    .dataframe tbody tr th:only-of-type {\n",
              "        vertical-align: middle;\n",
              "    }\n",
              "\n",
              "    .dataframe tbody tr th {\n",
              "        vertical-align: top;\n",
              "    }\n",
              "\n",
              "    .dataframe thead th {\n",
              "        text-align: right;\n",
              "    }\n",
              "</style>\n",
              "<table border=\"1\" class=\"dataframe\">\n",
              "  <thead>\n",
              "    <tr style=\"text-align: right;\">\n",
              "      <th></th>\n",
              "      <th>Transaction_date</th>\n",
              "      <th>Product</th>\n",
              "      <th>Price</th>\n",
              "      <th>Payment_Type</th>\n",
              "      <th>Name</th>\n",
              "      <th>City</th>\n",
              "      <th>State</th>\n",
              "      <th>Country</th>\n",
              "      <th>Account_Created</th>\n",
              "      <th>Last_Login</th>\n",
              "      <th>Latitude</th>\n",
              "      <th>Longitude</th>\n",
              "    </tr>\n",
              "  </thead>\n",
              "  <tbody>\n",
              "    <tr>\n",
              "      <th>0</th>\n",
              "      <td>1/2/09 6:17</td>\n",
              "      <td>Product1</td>\n",
              "      <td>1200</td>\n",
              "      <td>Mastercard</td>\n",
              "      <td>carolina</td>\n",
              "      <td>Basildon</td>\n",
              "      <td>England</td>\n",
              "      <td>United Kingdom</td>\n",
              "      <td>1/2/09 6:00</td>\n",
              "      <td>1/2/09 6:08</td>\n",
              "      <td>51.500000</td>\n",
              "      <td>-1.116667</td>\n",
              "    </tr>\n",
              "    <tr>\n",
              "      <th>1</th>\n",
              "      <td>1/2/09 4:53</td>\n",
              "      <td>Product1</td>\n",
              "      <td>1200</td>\n",
              "      <td>Visa</td>\n",
              "      <td>Betina</td>\n",
              "      <td>Parkville</td>\n",
              "      <td>MO</td>\n",
              "      <td>United States</td>\n",
              "      <td>1/2/09 4:42</td>\n",
              "      <td>1/2/09 7:49</td>\n",
              "      <td>39.195000</td>\n",
              "      <td>-94.681940</td>\n",
              "    </tr>\n",
              "    <tr>\n",
              "      <th>2</th>\n",
              "      <td>1/2/09 13:08</td>\n",
              "      <td>Product1</td>\n",
              "      <td>1200</td>\n",
              "      <td>Mastercard</td>\n",
              "      <td>Federica e Andrea</td>\n",
              "      <td>Astoria</td>\n",
              "      <td>OR</td>\n",
              "      <td>United States</td>\n",
              "      <td>1/1/09 16:21</td>\n",
              "      <td>1/3/09 12:32</td>\n",
              "      <td>46.188060</td>\n",
              "      <td>-123.830000</td>\n",
              "    </tr>\n",
              "    <tr>\n",
              "      <th>3</th>\n",
              "      <td>1/3/09 14:44</td>\n",
              "      <td>Product1</td>\n",
              "      <td>1200</td>\n",
              "      <td>Visa</td>\n",
              "      <td>Gouya</td>\n",
              "      <td>Echuca</td>\n",
              "      <td>Victoria</td>\n",
              "      <td>Australia</td>\n",
              "      <td>9/25/05 21:13</td>\n",
              "      <td>1/3/09 14:22</td>\n",
              "      <td>-36.133333</td>\n",
              "      <td>144.750000</td>\n",
              "    </tr>\n",
              "  </tbody>\n",
              "</table>\n",
              "</div>"
            ],
            "text/plain": [
              "  Transaction_date   Product Price  ...    Last_Login   Latitude   Longitude\n",
              "0      1/2/09 6:17  Product1  1200  ...   1/2/09 6:08  51.500000   -1.116667\n",
              "1      1/2/09 4:53  Product1  1200  ...   1/2/09 7:49  39.195000  -94.681940\n",
              "2     1/2/09 13:08  Product1  1200  ...  1/3/09 12:32  46.188060 -123.830000\n",
              "3     1/3/09 14:44  Product1  1200  ...  1/3/09 14:22 -36.133333  144.750000\n",
              "\n",
              "[4 rows x 12 columns]"
            ]
          },
          "metadata": {
            "tags": []
          },
          "execution_count": 10
        }
      ]
    },
    {
      "cell_type": "markdown",
      "metadata": {
        "id": "coZ3pe_Jq5k2",
        "colab_type": "text"
      },
      "source": [
        "2.  Using iloc function\n",
        "\n",
        "The iloc indexer syntax is data.iloc[row selection, column selection]. **“iloc”** in pandas is used to select rows and columns by number, in the order that they appear in the data frame. "
      ]
    },
    {
      "cell_type": "code",
      "metadata": {
        "id": "spQ90a0_q8Jm",
        "colab_type": "code",
        "colab": {
          "base_uri": "https://localhost:8080/",
          "height": 112
        },
        "outputId": "96356a7d-3be3-4abd-c309-32c743341883"
      },
      "source": [
        "dataset.iloc[0:2,1:3]"
      ],
      "execution_count": 11,
      "outputs": [
        {
          "output_type": "execute_result",
          "data": {
            "text/html": [
              "<div>\n",
              "<style scoped>\n",
              "    .dataframe tbody tr th:only-of-type {\n",
              "        vertical-align: middle;\n",
              "    }\n",
              "\n",
              "    .dataframe tbody tr th {\n",
              "        vertical-align: top;\n",
              "    }\n",
              "\n",
              "    .dataframe thead th {\n",
              "        text-align: right;\n",
              "    }\n",
              "</style>\n",
              "<table border=\"1\" class=\"dataframe\">\n",
              "  <thead>\n",
              "    <tr style=\"text-align: right;\">\n",
              "      <th></th>\n",
              "      <th>Product</th>\n",
              "      <th>Price</th>\n",
              "    </tr>\n",
              "  </thead>\n",
              "  <tbody>\n",
              "    <tr>\n",
              "      <th>0</th>\n",
              "      <td>Product1</td>\n",
              "      <td>1200</td>\n",
              "    </tr>\n",
              "    <tr>\n",
              "      <th>1</th>\n",
              "      <td>Product1</td>\n",
              "      <td>1200</td>\n",
              "    </tr>\n",
              "  </tbody>\n",
              "</table>\n",
              "</div>"
            ],
            "text/plain": [
              "    Product Price\n",
              "0  Product1  1200\n",
              "1  Product1  1200"
            ]
          },
          "metadata": {
            "tags": []
          },
          "execution_count": 11
        }
      ]
    },
    {
      "cell_type": "markdown",
      "metadata": {
        "id": "y7mixguPrEeB",
        "colab_type": "text"
      },
      "source": [
        "3. Using ix and iloc function. \n",
        "\n",
        "The ix\\[ \\] indexer is a hybrid of **.loc** and **.iloc.**  Find time and check out this type of indexing. "
      ]
    },
    {
      "cell_type": "markdown",
      "metadata": {
        "id": "NjCN2snSrLsj",
        "colab_type": "text"
      },
      "source": [
        "**Checking for missing values in our dataset**"
      ]
    },
    {
      "cell_type": "code",
      "metadata": {
        "id": "PcYohJBWrGeN",
        "colab_type": "code",
        "colab": {
          "base_uri": "https://localhost:8080/",
          "height": 243
        },
        "outputId": "12f6193c-0406-42ce-af2a-21e9e645df18"
      },
      "source": [
        "#Checking the total number of missing values \n",
        "dataset.isna().sum()"
      ],
      "execution_count": 12,
      "outputs": [
        {
          "output_type": "execute_result",
          "data": {
            "text/plain": [
              "Transaction_date    0\n",
              "Product             0\n",
              "Price               0\n",
              "Payment_Type        0\n",
              "Name                0\n",
              "City                0\n",
              "State               1\n",
              "Country             0\n",
              "Account_Created     0\n",
              "Last_Login          0\n",
              "Latitude            0\n",
              "Longitude           0\n",
              "dtype: int64"
            ]
          },
          "metadata": {
            "tags": []
          },
          "execution_count": 12
        }
      ]
    },
    {
      "cell_type": "markdown",
      "metadata": {
        "id": "_d_51nOCrWcI",
        "colab_type": "text"
      },
      "source": [
        "Filling in the missing values in the dataset"
      ]
    },
    {
      "cell_type": "code",
      "metadata": {
        "id": "K3Q3ArZ7rR0N",
        "colab_type": "code",
        "colab": {
          "base_uri": "https://localhost:8080/",
          "height": 243
        },
        "outputId": "66d1a35f-b712-4997-8717-a0a0bb1538e7"
      },
      "source": [
        "#Fill missing values using the forward method\n",
        "new_data=dataset.fillna(axis=1, method=\"ffill\")\n",
        "#new_data\n",
        "#We can now check whether we have missing values\n",
        "new_data.isnull().sum()"
      ],
      "execution_count": 13,
      "outputs": [
        {
          "output_type": "execute_result",
          "data": {
            "text/plain": [
              "Transaction_date    0\n",
              "Product             0\n",
              "Price               0\n",
              "Payment_Type        0\n",
              "Name                0\n",
              "City                0\n",
              "State               0\n",
              "Country             0\n",
              "Account_Created     0\n",
              "Last_Login          0\n",
              "Latitude            0\n",
              "Longitude           0\n",
              "dtype: int64"
            ]
          },
          "metadata": {
            "tags": []
          },
          "execution_count": 13
        }
      ]
    },
    {
      "cell_type": "markdown",
      "metadata": {
        "id": "Oka8PNzErmsB",
        "colab_type": "text"
      },
      "source": [
        "Get an overview of the data using the **describe** function"
      ]
    },
    {
      "cell_type": "code",
      "metadata": {
        "id": "hMOHTQ9_ruqn",
        "colab_type": "code",
        "colab": {
          "base_uri": "https://localhost:8080/",
          "height": 175
        },
        "outputId": "1c782717-8447-423d-bc57-771d42702c43"
      },
      "source": [
        "new_data.describe(include=\"all\")"
      ],
      "execution_count": 14,
      "outputs": [
        {
          "output_type": "execute_result",
          "data": {
            "text/html": [
              "<div>\n",
              "<style scoped>\n",
              "    .dataframe tbody tr th:only-of-type {\n",
              "        vertical-align: middle;\n",
              "    }\n",
              "\n",
              "    .dataframe tbody tr th {\n",
              "        vertical-align: top;\n",
              "    }\n",
              "\n",
              "    .dataframe thead th {\n",
              "        text-align: right;\n",
              "    }\n",
              "</style>\n",
              "<table border=\"1\" class=\"dataframe\">\n",
              "  <thead>\n",
              "    <tr style=\"text-align: right;\">\n",
              "      <th></th>\n",
              "      <th>Transaction_date</th>\n",
              "      <th>Product</th>\n",
              "      <th>Price</th>\n",
              "      <th>Payment_Type</th>\n",
              "      <th>Name</th>\n",
              "      <th>City</th>\n",
              "      <th>State</th>\n",
              "      <th>Country</th>\n",
              "      <th>Account_Created</th>\n",
              "      <th>Last_Login</th>\n",
              "      <th>Latitude</th>\n",
              "      <th>Longitude</th>\n",
              "    </tr>\n",
              "  </thead>\n",
              "  <tbody>\n",
              "    <tr>\n",
              "      <th>count</th>\n",
              "      <td>998</td>\n",
              "      <td>998</td>\n",
              "      <td>998</td>\n",
              "      <td>998</td>\n",
              "      <td>998</td>\n",
              "      <td>998</td>\n",
              "      <td>998</td>\n",
              "      <td>998</td>\n",
              "      <td>998</td>\n",
              "      <td>998</td>\n",
              "      <td>998.00000</td>\n",
              "      <td>998.00000</td>\n",
              "    </tr>\n",
              "    <tr>\n",
              "      <th>unique</th>\n",
              "      <td>987</td>\n",
              "      <td>4</td>\n",
              "      <td>9</td>\n",
              "      <td>4</td>\n",
              "      <td>765</td>\n",
              "      <td>759</td>\n",
              "      <td>205</td>\n",
              "      <td>56</td>\n",
              "      <td>976</td>\n",
              "      <td>977</td>\n",
              "      <td>706.00000</td>\n",
              "      <td>723.00000</td>\n",
              "    </tr>\n",
              "    <tr>\n",
              "      <th>top</th>\n",
              "      <td>1/7/09 13:28</td>\n",
              "      <td>Product1</td>\n",
              "      <td>1200</td>\n",
              "      <td>Visa</td>\n",
              "      <td>Sarah</td>\n",
              "      <td>London</td>\n",
              "      <td>England</td>\n",
              "      <td>United States</td>\n",
              "      <td>1/18/09 0:00</td>\n",
              "      <td>2/26/09 7:32</td>\n",
              "      <td>51.52721</td>\n",
              "      <td>0.14559</td>\n",
              "    </tr>\n",
              "    <tr>\n",
              "      <th>freq</th>\n",
              "      <td>2</td>\n",
              "      <td>847</td>\n",
              "      <td>841</td>\n",
              "      <td>522</td>\n",
              "      <td>11</td>\n",
              "      <td>19</td>\n",
              "      <td>86</td>\n",
              "      <td>463</td>\n",
              "      <td>3</td>\n",
              "      <td>3</td>\n",
              "      <td>14.00000</td>\n",
              "      <td>14.00000</td>\n",
              "    </tr>\n",
              "  </tbody>\n",
              "</table>\n",
              "</div>"
            ],
            "text/plain": [
              "       Transaction_date   Product Price  ...    Last_Login   Latitude  Longitude\n",
              "count               998       998   998  ...           998  998.00000  998.00000\n",
              "unique              987         4     9  ...           977  706.00000  723.00000\n",
              "top        1/7/09 13:28  Product1  1200  ...  2/26/09 7:32   51.52721    0.14559\n",
              "freq                  2       847   841  ...             3   14.00000   14.00000\n",
              "\n",
              "[4 rows x 12 columns]"
            ]
          },
          "metadata": {
            "tags": []
          },
          "execution_count": 14
        }
      ]
    },
    {
      "cell_type": "markdown",
      "metadata": {
        "id": "EW40tm_IuGPf",
        "colab_type": "text"
      },
      "source": [
        "Get the number of data types you are using"
      ]
    },
    {
      "cell_type": "code",
      "metadata": {
        "id": "5ZCbx9CxuI1m",
        "colab_type": "code",
        "colab": {
          "base_uri": "https://localhost:8080/",
          "height": 69
        },
        "outputId": "b3eac4e1-a3f2-4253-8d29-cc87fb529eb3"
      },
      "source": [
        "dataset.dtypes.value_counts()\n"
      ],
      "execution_count": 15,
      "outputs": [
        {
          "output_type": "execute_result",
          "data": {
            "text/plain": [
              "object     10\n",
              "float64     2\n",
              "dtype: int64"
            ]
          },
          "metadata": {
            "tags": []
          },
          "execution_count": 15
        }
      ]
    },
    {
      "cell_type": "markdown",
      "metadata": {
        "id": "8lxUrUG-unJo",
        "colab_type": "text"
      },
      "source": [
        "Get the list of the columns in the dataset"
      ]
    },
    {
      "cell_type": "code",
      "metadata": {
        "id": "vc8bxL4Zun3a",
        "colab_type": "code",
        "colab": {
          "base_uri": "https://localhost:8080/",
          "height": 225
        },
        "outputId": "7b6abc5e-c104-49d0-f975-fad62c343481"
      },
      "source": [
        "dataset.columns.tolist()"
      ],
      "execution_count": 16,
      "outputs": [
        {
          "output_type": "execute_result",
          "data": {
            "text/plain": [
              "['Transaction_date',\n",
              " 'Product',\n",
              " 'Price',\n",
              " 'Payment_Type',\n",
              " 'Name',\n",
              " 'City',\n",
              " 'State',\n",
              " 'Country',\n",
              " 'Account_Created',\n",
              " 'Last_Login',\n",
              " 'Latitude',\n",
              " 'Longitude']"
            ]
          },
          "metadata": {
            "tags": []
          },
          "execution_count": 16
        }
      ]
    },
    {
      "cell_type": "markdown",
      "metadata": {
        "id": "r1ILL4Wzr3CK",
        "colab_type": "text"
      },
      "source": [
        "# Exercise\n",
        "1. Create a dataframe with the following exam details: \n",
        "\n",
        "exam_data = {'name': ['Mary', 'Tim', 'Kate', 'James', 'Emily', 'Michael', 'Matthew', 'Laura', 'Susan', 'Jonas'],\n",
        "\n",
        "'score': [12.5, 9, 16.5, np.nan, 9, 20, 14.5, np.nan, 8, 19],\n",
        "\n",
        "'attempts': [1, 3, 2, 3, 2, 3, 1, 1, 2, 1],\n",
        "\n",
        "'qualify': ['yes', 'no', 'yes', 'no', 'no', 'yes', 'yes', 'no', 'no', 'yes']}\n",
        "\n",
        "labels = ['1', '2', '3', '4', '5', '6', '7', '8', '9', '10']\n",
        "\n",
        "**Questions**\n",
        "1. Create a dataframe from the above given data"
      ]
    },
    {
      "cell_type": "code",
      "metadata": {
        "id": "LwSC6lxsoiew",
        "colab_type": "code",
        "colab": {}
      },
      "source": [
        "# Write your solution here :)\n"
      ],
      "execution_count": null,
      "outputs": []
    },
    {
      "cell_type": "markdown",
      "metadata": {
        "id": "MkRJbOi6oJUg",
        "colab_type": "text"
      },
      "source": [
        "Double-click _here_ for the solution.\n",
        "\n",
        "<!-- Your answer is below:\n",
        "import pandas as pd\n",
        "import numpy as np\n",
        "\n",
        "exam_data  = {'Name': ['Mary', 'Tim', 'Kate', 'James', 'Emily', 'Michael', 'Matthew', 'Laura', 'Susan', 'Jonas'],\n",
        "        'Score': [12.5, 9, 16.5, np.nan, 9, 20, 14.5, np.nan, 8, 19],\n",
        "        'Attempts': [1, 3, 2, 3, 2, 3, 1, 1, 2, 1],\n",
        "        'Qualified': ['yes', 'no', 'yes', 'no', 'no', 'yes', 'yes', 'no', 'no', 'yes']}\n",
        "labels = ['1', '2', '3', '4', '5', '6', '7', '8', '9', '10']\n",
        "\n",
        "Data_Ex = pd.DataFrame(exam_data , index=labels)\n",
        "print(Data_Ex)\n",
        "-->"
      ]
    },
    {
      "cell_type": "markdown",
      "metadata": {
        "id": "gkZM1wJ8r_Gv",
        "colab_type": "text"
      },
      "source": [
        "2. Find the summary scores of the students"
      ]
    },
    {
      "cell_type": "code",
      "metadata": {
        "id": "MDbD-lidr_Tu",
        "colab_type": "code",
        "colab": {}
      },
      "source": [
        "# Write your solution here :)"
      ],
      "execution_count": null,
      "outputs": []
    },
    {
      "cell_type": "markdown",
      "metadata": {
        "id": "b1J-jyiMq0jR",
        "colab_type": "text"
      },
      "source": [
        "Double-click _here_ for the solution.\n",
        "\n",
        "<!-- Your answer is below:\n",
        "Data_Ex[\"Score\"].describe()\n",
        "-->"
      ]
    },
    {
      "cell_type": "markdown",
      "metadata": {
        "id": "Arg7v5n_r_hI",
        "colab_type": "text"
      },
      "source": [
        "3. How many missing values are there in the dataframe? Which variables have missing values?"
      ]
    },
    {
      "cell_type": "code",
      "metadata": {
        "id": "ZpWLyKNrrApi",
        "colab_type": "code",
        "colab": {}
      },
      "source": [
        "# Write your solution here :)"
      ],
      "execution_count": null,
      "outputs": []
    },
    {
      "cell_type": "markdown",
      "metadata": {
        "id": "QlXbJ3KqrS-B",
        "colab_type": "text"
      },
      "source": [
        "Double-click _here_ for the solution.\n",
        "\n",
        "<!-- Your answer is below:\n",
        "Data_Ex.isna().sum()\n",
        "-->"
      ]
    },
    {
      "cell_type": "markdown",
      "metadata": {
        "id": "l5M10e5dr_6i",
        "colab_type": "text"
      },
      "source": [
        "4. Replace the missing values with the mean"
      ]
    },
    {
      "cell_type": "code",
      "metadata": {
        "id": "zbA1jDnqrBrQ",
        "colab_type": "code",
        "colab": {}
      },
      "source": [
        "# Write your solution here :)"
      ],
      "execution_count": null,
      "outputs": []
    },
    {
      "cell_type": "markdown",
      "metadata": {
        "id": "vlxcYzHnrary",
        "colab_type": "text"
      },
      "source": [
        "Double-click _here_ for the solution.\n",
        "\n",
        "<!-- Your answer is below:\n",
        "Data_Ex1=Data_Ex.fillna(np.mean(Data_Ex[\"Score\"]))\n",
        "Data_Ex1\n",
        "-->"
      ]
    },
    {
      "cell_type": "markdown",
      "metadata": {
        "id": "OE6LwCkxsa29",
        "colab_type": "text"
      },
      "source": [
        "5. Give a list of the students who Qualified "
      ]
    },
    {
      "cell_type": "code",
      "metadata": {
        "id": "eO-5p0lzrEBp",
        "colab_type": "code",
        "colab": {}
      },
      "source": [
        "# Write your solution here :)"
      ],
      "execution_count": null,
      "outputs": []
    },
    {
      "cell_type": "markdown",
      "metadata": {
        "id": "2s9vpb92rgNX",
        "colab_type": "text"
      },
      "source": [
        "Double-click _here_ for the solution.\n",
        "\n",
        "<!-- Your answer is below:\n",
        "Qualified=Data_Ex[Data_Ex[\"Qualified\"]=='yes']\n",
        "Qualified\n",
        "-->"
      ]
    },
    {
      "cell_type": "markdown",
      "metadata": {
        "id": "CA6LMIzNskcY",
        "colab_type": "text"
      },
      "source": [
        "6. Rank the students from the one with the highest to the lowest score"
      ]
    },
    {
      "cell_type": "code",
      "metadata": {
        "id": "xkqFEoIDrJd6",
        "colab_type": "code",
        "colab": {}
      },
      "source": [
        "# Write your solution here :)"
      ],
      "execution_count": null,
      "outputs": []
    },
    {
      "cell_type": "markdown",
      "metadata": {
        "id": "hukt9yzJrhjg",
        "colab_type": "text"
      },
      "source": [
        "Double-click _here_ for the solution.\n",
        "\n",
        "<!-- Your answer is below:\n",
        "Data_Ex1[\"Rank\"]=Data_Ex1[\"Score\"].rank()\n",
        "Data_Ex1\n",
        "-->"
      ]
    },
    {
      "cell_type": "markdown",
      "metadata": {
        "colab_type": "text",
        "id": "xN0t5MYCvrGy"
      },
      "source": [
        "___\n",
        "**Course Content Creators**: [Sokhar Samb](https://twitter.com/SambSokhar), [Foutse Yuehgoh](https://twitter.com/yuehgoh), [Deborah D Kanubala](https://www.linkedin.com/in/ddk2018/), Faith Benson, Salomey Osei, Yolande Ngueabou, Deo Byabazaire, Bernard Osei, [Elkanah Nyabuto](https://www.linkedin.com/in/elkanahnyabuto/).\n",
        "\n",
        "\n",
        "\n",
        "\n",
        "**Course Reviewer:** [Salomon Kabongo](https://twitter.com/SalomonKabongo1)"
      ]
    }
  ]
}