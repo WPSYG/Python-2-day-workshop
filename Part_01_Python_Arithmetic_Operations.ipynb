{
  "nbformat": 4,
  "nbformat_minor": 0,
  "metadata": {
    "colab": {
      "name": "Part 01 : Python Arithmetic Operations.ipynb",
      "provenance": []
    },
    "kernelspec": {
      "display_name": "Python 3",
      "language": "python",
      "name": "python3"
    },
    "language_info": {
      "codemirror_mode": {
        "name": "ipython",
        "version": 3
      },
      "file_extension": ".py",
      "mimetype": "text/x-python",
      "name": "python",
      "nbconvert_exporter": "python",
      "pygments_lexer": "ipython3",
      "version": "3.7.4"
    }
  },
  "cells": [
    {
      "cell_type": "markdown",
      "metadata": {
        "id": "3GmDIYJAyTCf",
        "colab_type": "text"
      },
      "source": [
        "<a href=\"https://colab.research.google.com/github/WPSYG/Python-2-day-workshop/blob/master/Part_01_Python_Arithmetic_Operations.ipynb\" target=\"_parent\"><img src=\"https://colab.research.google.com/assets/colab-badge.svg\" alt=\"Open In Colab\"/></a>"
      ]
    },
    {
      "cell_type": "markdown",
      "metadata": {
        "colab_type": "text",
        "id": "APTmxes6rkjl"
      },
      "source": [
        "<img src=\"https://raw.githubusercontent.com/WPSYG/Python-2-day-workshop/master/images/logo_color_v1.jpeg?token=AIW35UAKBBELC5SYDUECSYC7HQ4FW\">"
      ]
    },
    {
      "cell_type": "markdown",
      "metadata": {
        "colab_type": "text",
        "id": "zEUs9ZqL2YwY"
      },
      "source": [
        "# Python Arithmetic Operations\n",
        "This section would focus on introducing you to simple arithmetic operations using python. You would use python to perform operations such as addition, substraction, multiplication and division."
      ]
    },
    {
      "cell_type": "markdown",
      "metadata": {
        "id": "AahE4rnQyTCj",
        "colab_type": "text"
      },
      "source": [
        "<img src=\"https://raw.githubusercontent.com/WPSYG/Python-2-day-workshop/master/images/Arithmetic.png?token=AIW35UBQXZTNMD4GC662SPS7HQ4KY\">"
      ]
    },
    {
      "cell_type": "markdown",
      "metadata": {
        "colab_type": "text",
        "id": "8QytlG-muIpS"
      },
      "source": [
        "**Examples : Arithmetic operators in Python**\n"
      ]
    },
    {
      "cell_type": "code",
      "metadata": {
        "colab_type": "code",
        "id": "BccLYrIxuFWY",
        "colab": {}
      },
      "source": [
        "# Addition (+)\n",
        "x = 4\n",
        "y = 6\n",
        "\n",
        "print('x+y = ', x+y) # I suggest you have a variable z that is x+y, same follow for the next examples as well"
      ],
      "execution_count": null,
      "outputs": []
    },
    {
      "cell_type": "markdown",
      "metadata": {
        "id": "r9xMN5L9yTCt",
        "colab_type": "text"
      },
      "source": [
        "- **x, y** are called **variables** and they store objects such as numbers and strings\n",
        "- The **print** function displays the answer in the format specified. More on it later.\n",
        "- The **equals operator \"=\"** is used to assign the values to the variable. There is a comparison operator \"==\" similar to this which you will meet later."
      ]
    },
    {
      "cell_type": "code",
      "metadata": {
        "colab_type": "code",
        "id": "GwQexzawuF6G",
        "colab": {}
      },
      "source": [
        "# Subtraction (-)\n",
        "x = 10\n",
        "y = 5\n",
        "\n",
        "print('x-y = ', x-y)"
      ],
      "execution_count": null,
      "outputs": []
    },
    {
      "cell_type": "code",
      "metadata": {
        "colab_type": "code",
        "id": "2B6FEE9IuF3o",
        "colab": {}
      },
      "source": [
        "# Multiplication (*)\n",
        "x = 2\n",
        "y = 9\n",
        "\n",
        "print('x*y = ', x*y)"
      ],
      "execution_count": null,
      "outputs": []
    },
    {
      "cell_type": "code",
      "metadata": {
        "colab_type": "code",
        "id": "fzGTbD35uF1W",
        "colab": {}
      },
      "source": [
        "# Division (/)\n",
        "x = 7\n",
        "y = 4\n",
        "\n",
        "a = 20\n",
        "b = 4\n",
        "\n",
        "print('x/y = ', x/y)\n",
        "print('a/b = ', a/b)"
      ],
      "execution_count": null,
      "outputs": []
    },
    {
      "cell_type": "code",
      "metadata": {
        "colab_type": "code",
        "id": "xfT6FHlGuFyp",
        "colab": {}
      },
      "source": [
        "# Modulo (%)\n",
        "x = 5\n",
        "y = 4\n",
        "\n",
        "print('x%y = ', x%y)"
      ],
      "execution_count": null,
      "outputs": []
    },
    {
      "cell_type": "code",
      "metadata": {
        "colab_type": "code",
        "id": "LwCXs1bnuffr",
        "colab": {}
      },
      "source": [
        "# Floor division or Integer Division (//)\n",
        "\n",
        "x = 7\n",
        "y = 4\n",
        "\n",
        "a = 20\n",
        "b = 4\n",
        "\n",
        "print('x//y = ', x//y)\n",
        "print('a//b = ', a//b)"
      ],
      "execution_count": null,
      "outputs": []
    },
    {
      "cell_type": "code",
      "metadata": {
        "colab_type": "code",
        "id": "IREiQ8bgufdb",
        "colab": {}
      },
      "source": [
        "# Exponent (**)\n",
        "x = 3\n",
        "y = 2\n",
        "\n",
        "print('x**y = ', x**y)"
      ],
      "execution_count": null,
      "outputs": []
    },
    {
      "cell_type": "code",
      "metadata": {
        "colab_type": "code",
        "id": "lrj_RNygufa3",
        "colab": {}
      },
      "source": [
        "# Multiple arithmetic operators\n",
        "x = 9\n",
        "y = 2\n",
        "\n",
        "print('x + y - x * y / x = ', x + y - x * y / x )"
      ],
      "execution_count": null,
      "outputs": []
    },
    {
      "cell_type": "markdown",
      "metadata": {
        "colab_type": "text",
        "id": "QbHx7XZfvOQg"
      },
      "source": [
        "**Arithmetic operator precedence in Python**\n",
        "\n",
        "- With arithmetic operator predence we understand which among the given operators should be computed first."
      ]
    },
    {
      "cell_type": "markdown",
      "metadata": {
        "id": "wZiXdpXkyTDP",
        "colab_type": "text"
      },
      "source": [
        "There is also a **math library** in python for advanced arithmetic computations such as combination, factorial, logarithm, exponential."
      ]
    },
    {
      "cell_type": "code",
      "metadata": {
        "id": "MJWvdO9QyTDQ",
        "colab_type": "code",
        "colab": {}
      },
      "source": [
        "# Tell python that you want to make use of the functions in the math library\n",
        "import math"
      ],
      "execution_count": null,
      "outputs": []
    },
    {
      "cell_type": "code",
      "metadata": {
        "id": "gCi9nLpbyTDW",
        "colab_type": "code",
        "colab": {}
      },
      "source": [
        "# compute the square-root of a number \n",
        "math.sqrt(25)"
      ],
      "execution_count": null,
      "outputs": []
    },
    {
      "cell_type": "code",
      "metadata": {
        "id": "S3jCfjZQyTDb",
        "colab_type": "code",
        "colab": {}
      },
      "source": [
        "# compute the factorial of a number\n",
        "math.factorial(5) #5*4*3*2*1"
      ],
      "execution_count": null,
      "outputs": []
    },
    {
      "cell_type": "markdown",
      "metadata": {
        "id": "2I-_hD3IDeqc",
        "colab_type": "text"
      },
      "source": [
        "#**Exercices**\n",
        "\n",
        "Given x = 9, y = 2\n",
        "\n",
        "### What will be the answers to the following?\n"
      ]
    },
    {
      "cell_type": "markdown",
      "metadata": {
        "id": "xSO7H1IDD3UA",
        "colab_type": "text"
      },
      "source": [
        "1. x+y*x-y"
      ]
    },
    {
      "cell_type": "markdown",
      "metadata": {
        "id": "_51NZe9fFCIg",
        "colab_type": "text"
      },
      "source": [
        " **Double-click _here_ for the solution.**\n",
        "\n",
        "<!-- Your answer is below:\n",
        "x+y*x-y\n",
        "\n",
        "-->"
      ]
    },
    {
      "cell_type": "markdown",
      "metadata": {
        "id": "uD20JwovEorA",
        "colab_type": "text"
      },
      "source": [
        "2. x**2"
      ]
    },
    {
      "cell_type": "markdown",
      "metadata": {
        "id": "xocavQ1rFHPG",
        "colab_type": "text"
      },
      "source": [
        "**Double-click _here_ for the solution.**\n",
        "\n",
        "<!-- Your answer is below:\n",
        "\n",
        "x**2\n",
        "-->"
      ]
    },
    {
      "cell_type": "markdown",
      "metadata": {
        "id": "QYYFShvAEq2C",
        "colab_type": "text"
      },
      "source": [
        "3. x ** y * y//2"
      ]
    },
    {
      "cell_type": "markdown",
      "metadata": {
        "id": "8ems_cmQDwNd",
        "colab_type": "text"
      },
      "source": [
        "**Double-click _here_ for the solution.**\n",
        "\n",
        "<!-- Your answer is below:\n",
        "x**y*y//2\n",
        "\n",
        "-->"
      ]
    },
    {
      "cell_type": "markdown",
      "metadata": {
        "id": "d0OMDZoCIGwn",
        "colab_type": "text"
      },
      "source": [
        "4.Using $\\pi=3.14$, r=4, l=12, b=10, h=2, calculate the following:\n",
        "\n",
        "1. A_circle=$\\pi r^2$\n",
        "2. A_rectangle=lb\n",
        "3. A_triangle= 1/2bh"
      ]
    },
    {
      "cell_type": "markdown",
      "metadata": {
        "id": "-WvZLqbsLG0G",
        "colab_type": "text"
      },
      "source": [
        "**Double-click _here_ for the solution.**\n",
        "\n",
        "<!-- Your answer is below:\n",
        "pi=3.14\n",
        "r=4\n",
        "l=12\n",
        "b=10\n",
        "h=2\n",
        "\n",
        "A_circle= pi *r**2\n",
        "\n",
        "A_circle= l*b\n",
        "\n",
        "A_triangle= 1/2*b*h\n",
        "-->"
      ]
    },
    {
      "cell_type": "markdown",
      "metadata": {
        "id": "V4Ds5Iu8Knas",
        "colab_type": "text"
      },
      "source": [
        "5.Recalculate 4.1, 4.2, 4.3 using the following values\n",
        "\n",
        "$\\pi=3.14$, r=6, l=16, b=14, h=3\n"
      ]
    },
    {
      "cell_type": "markdown",
      "metadata": {
        "id": "1k98bOw2Msra",
        "colab_type": "text"
      },
      "source": [
        "**Double-click _here_ for the solution.**\n",
        "\n",
        "<!-- Your answer is below:\n",
        "pi=3.14\n",
        "r=6\n",
        "l=16\n",
        "b=14\n",
        "h=3\n",
        "\n",
        "A_circle= pi *r**2\n",
        "\n",
        "A_circle= l*b\n",
        "\n",
        "A_triangle= 1/2*b*h\n",
        "-->"
      ]
    },
    {
      "cell_type": "markdown",
      "metadata": {
        "id": "3Ulv1bXzNros",
        "colab_type": "text"
      },
      "source": [
        " Calculate  the solution of $ 2x^2 - 3x + 12$\n",
        " where a=6,b=2, c=4\n",
        " $$x=\\frac{-b{\\pm \\sqrt {b^2 - 4ac} }}{{2a}}$$"
      ]
    },
    {
      "cell_type": "markdown",
      "metadata": {
        "id": "GEzbneWyP1h6",
        "colab_type": "text"
      },
      "source": [
        "**Double-click _here_ for the solution.**\n",
        "\n",
        "<!-- Your answer is below:\n",
        "a=2\n",
        "b=-3\n",
        "c=-12\n",
        "x1=(-b+math.sqrt(b**2 - 4*a*c))/2*a\n",
        "x1\n",
        "-->"
      ]
    },
    {
      "cell_type": "markdown",
      "metadata": {
        "colab_type": "text",
        "id": "0D6jRQfsrzfr"
      },
      "source": [
        "\n",
        "**Course Content Creators**: Sokhar Samb, [Foutse Yuehgoh](https://twitter.com/yuehgoh),  [Deborah D Kanubala](https://www.linkedin.com/in/ddk2018/), Faith Benson, Salomey Osei, [Yolande Ngueabou](https://www.linkedin.com/in/yolande-ngueabou-1826a6132/), Deo Byabazaire, Bernard Osei, Elkanah Nyabuto.\n",
        "\n",
        "\n",
        "\n",
        "\n",
        "**Course Reviewer:** [Salomon Kabongo](https://twitter.com/SalomonKabongo1), [Sewade Ogun](https://twitter.com/SewadeOgun)"
      ]
    },
    {
      "cell_type": "code",
      "metadata": {
        "id": "_8OcWnJbyTD0",
        "colab_type": "code",
        "colab": {}
      },
      "source": [
        ""
      ],
      "execution_count": null,
      "outputs": []
    }
  ]
}