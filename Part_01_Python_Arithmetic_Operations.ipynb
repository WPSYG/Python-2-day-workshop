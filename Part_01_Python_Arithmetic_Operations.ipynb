{
  "nbformat": 4,
  "nbformat_minor": 0,
  "metadata": {
    "colab": {
      "name": "Part 01 : Python Arithmetic Operations.ipynb",
      "provenance": []
    },
    "kernelspec": {
      "display_name": "Python 3",
      "language": "python",
      "name": "python3"
    },
    "language_info": {
      "codemirror_mode": {
        "name": "ipython",
        "version": 3
      },
      "file_extension": ".py",
      "mimetype": "text/x-python",
      "name": "python",
      "nbconvert_exporter": "python",
      "pygments_lexer": "ipython3",
      "version": "3.7.4"
    }
  },
  "cells": [
    {
      "cell_type": "markdown",
      "metadata": {
        "id": "3GmDIYJAyTCf",
        "colab_type": "text"
      },
      "source": [
        "<a href=\"https://colab.research.google.com/github/WPSYG/Python-2-day-workshop/blob/master/Part_01_Python_Arithmetic_Operations.ipynb\" target=\"_parent\"><img src=\"https://colab.research.google.com/assets/colab-badge.svg\" alt=\"Open In Colab\"/></a>"
      ]
    },
    {
      "cell_type": "markdown",
      "metadata": {
        "colab_type": "text",
        "id": "APTmxes6rkjl"
      },
      "source": [
        "<img src=\"https://raw.githubusercontent.com/WPSYG/Python-2-day-workshop/master/images/logo_color_v1.jpeg?token=AIW35UAKBBELC5SYDUECSYC7HQ4FW\">"
      ]
    },
    {
      "cell_type": "markdown",
      "metadata": {
        "colab_type": "text",
        "id": "zEUs9ZqL2YwY"
      },
      "source": [
        "# Python Arithmetic Operations\n",
        "This section would focus on introducing you to simple arithmetic operations using python. You would use python to perform operations such as addition, substraction, multiplication and division."
      ]
    },
    {
      "cell_type": "markdown",
      "metadata": {
        "id": "AahE4rnQyTCj",
        "colab_type": "text"
      },
      "source": [
        "<img src=\"https://raw.githubusercontent.com/WPSYG/Python-2-day-workshop/master/images/Arithmetic.png?token=AIW35UBQXZTNMD4GC662SPS7HQ4KY\">"
      ]
    },
    {
      "cell_type": "markdown",
      "metadata": {
        "colab_type": "text",
        "id": "8QytlG-muIpS"
      },
      "source": [
        "**Examples : Arithmetic operators in Python**\n"
      ]
    },
    {
      "cell_type": "code",
      "metadata": {
        "colab_type": "code",
        "id": "BccLYrIxuFWY",
        "colab": {}
      },
      "source": [
        "# Addition (+)\n",
        "x = 4\n",
        "y = 6\n",
        "\n",
        "print('x+y = ', x+y) # I suggest you have a variable z that is x+y, same follow for the next examples as well"
      ],
      "execution_count": null,
      "outputs": []
    },
    {
      "cell_type": "markdown",
      "metadata": {
        "id": "r9xMN5L9yTCt",
        "colab_type": "text"
      },
      "source": [
        "- **x, y** are called **variables** and they store objects such as numbers and strings\n",
        "- The **print** function displays the answer in the format specified. More on it later.\n",
        "- The **equals operator \"=\"** is used to assign the values to the variable. There is a comparison operator \"==\" similar to this which you will meet later."
      ]
    },
    {
      "cell_type": "code",
      "metadata": {
        "colab_type": "code",
        "id": "GwQexzawuF6G",
        "colab": {}
      },
      "source": [
        "# Subtraction (-)\n",
        "x = 10\n",
        "y = 5\n",
        "\n",
        "print('x-y = ', x-y)"
      ],
      "execution_count": null,
      "outputs": []
    },
    {
      "cell_type": "code",
      "metadata": {
        "colab_type": "code",
        "id": "2B6FEE9IuF3o",
        "colab": {}
      },
      "source": [
        "# Multiplication (*)\n",
        "x = 2\n",
        "y = 9\n",
        "\n",
        "print('x*y = ', x*y)"
      ],
      "execution_count": null,
      "outputs": []
    },
    {
      "cell_type": "code",
      "metadata": {
        "colab_type": "code",
        "id": "fzGTbD35uF1W",
        "colab": {}
      },
      "source": [
        "# Division (/)\n",
        "x = 7\n",
        "y = 4\n",
        "\n",
        "a = 20\n",
        "b = 4\n",
        "\n",
        "print('x/y = ', x/y)\n",
        "print('a/b = ', a/b)"
      ],
      "execution_count": null,
      "outputs": []
    },
    {
      "cell_type": "code",
      "metadata": {
        "colab_type": "code",
        "id": "xfT6FHlGuFyp",
        "colab": {}
      },
      "source": [
        "# Modulo (%)\n",
        "x = 5\n",
        "y = 4\n",
        "\n",
        "print('x%y = ', x%y)"
      ],
      "execution_count": null,
      "outputs": []
    },
    {
      "cell_type": "code",
      "metadata": {
        "colab_type": "code",
        "id": "LwCXs1bnuffr",
        "colab": {}
      },
      "source": [
        "# Floor division or Integer Division (//)\n",
        "\n",
        "x = 7\n",
        "y = 4\n",
        "\n",
        "a = 20\n",
        "b = 4\n",
        "\n",
        "print('x//y = ', x//y)\n",
        "print('a//b = ', a//b)"
      ],
      "execution_count": null,
      "outputs": []
    },
    {
      "cell_type": "code",
      "metadata": {
        "colab_type": "code",
        "id": "IREiQ8bgufdb",
        "colab": {}
      },
      "source": [
        "# Exponent (**)\n",
        "x = 3\n",
        "y = 2\n",
        "\n",
        "print('x**y = ', x**y)"
      ],
      "execution_count": null,
      "outputs": []
    },
    {
      "cell_type": "code",
      "metadata": {
        "colab_type": "code",
        "id": "lrj_RNygufa3",
        "colab": {}
      },
      "source": [
        "# Multiple arithmetic operators\n",
        "x = 9\n",
        "y = 2\n",
        "\n",
        "print('x + y - x * y / x = ', x + y - x * y / x )"
      ],
      "execution_count": null,
      "outputs": []
    },
    {
      "cell_type": "markdown",
      "metadata": {
        "colab_type": "text",
        "id": "QbHx7XZfvOQg"
      },
      "source": [
        "**Arithmetic operator precedence in Python**\n",
        "\n",
        "- With arithmetic operator predence we understand which among the given operators should be computed first."
      ]
    },
    {
      "cell_type": "markdown",
      "metadata": {
        "id": "bHr7_UZJyTDP",
        "colab_type": "text"
      },
      "source": [
        "### What will be the answers to the following?\n",
        "- Given x = 9, y = 2\n",
        "Find;\n",
        "- ```x+y*x-y```\n",
        "- ```x**2```\n",
        "- ```x**y*y//2```"
      ]
    },
    {
      "cell_type": "markdown",
      "metadata": {
        "id": "wZiXdpXkyTDP",
        "colab_type": "text"
      },
      "source": [
        "There is also a **math library** in python for advanced arithmetic computations such as combination, factorial, logarithm, exponential."
      ]
    },
    {
      "cell_type": "code",
      "metadata": {
        "id": "MJWvdO9QyTDQ",
        "colab_type": "code",
        "colab": {}
      },
      "source": [
        "# Tell python that you want to make use of the functions in the math library\n",
        "import math"
      ],
      "execution_count": null,
      "outputs": []
    },
    {
      "cell_type": "code",
      "metadata": {
        "id": "gCi9nLpbyTDW",
        "colab_type": "code",
        "colab": {}
      },
      "source": [
        "# compute the square-root of a number \n",
        "math.sqrt(25)"
      ],
      "execution_count": null,
      "outputs": []
    },
    {
      "cell_type": "code",
      "metadata": {
        "id": "S3jCfjZQyTDb",
        "colab_type": "code",
        "colab": {}
      },
      "source": [
        "# compute the factorial of a number\n",
        "math.factorial(5) #5*4*3*2*1"
      ],
      "execution_count": null,
      "outputs": []
    },
    {
      "cell_type": "code",
      "metadata": {
        "id": "2u_dNnIXyTDf",
        "colab_type": "code",
        "colab": {}
      },
      "source": [
        ""
      ],
      "execution_count": null,
      "outputs": []
    },
    {
      "cell_type": "code",
      "metadata": {
        "colab_type": "code",
        "id": "UgOJ5_vRufYN",
        "colab": {}
      },
      "source": [
        "<img src=\"https://raw.githubusercontent.com/WPSYG/Python-2-day-workshop/master/images/preced.png?token=AIW35UDJKQZFXBUWF5AVTLK7HQ4N2\">"
      ],
      "execution_count": null,
      "outputs": []
    },
    {
      "cell_type": "code",
      "metadata": {
        "id": "6JriYUK4yTDn",
        "colab_type": "code",
        "colab": {}
      },
      "source": [
        ""
      ],
      "execution_count": null,
      "outputs": []
    },
    {
      "cell_type": "code",
      "metadata": {
        "colab_type": "code",
        "id": "FXI4gwZYrvFp",
        "colab": {}
      },
      "source": [
        "> Can you add as well bit operations 1^2 ? ... do you think this will be relevant to the course ?\n",
        "Andd give some exercise that the student can try to solve before providing the solution"
      ],
      "execution_count": null,
      "outputs": []
    },
    {
      "cell_type": "code",
      "metadata": {
        "id": "OXWe8ZtpyTDv",
        "colab_type": "code",
        "colab": {}
      },
      "source": [
        ""
      ],
      "execution_count": null,
      "outputs": []
    },
    {
      "cell_type": "markdown",
      "metadata": {
        "colab_type": "text",
        "id": "0D6jRQfsrzfr"
      },
      "source": [
        "\n",
        "**Course Content Creators**: Sokhar Samb, [Foutse Yuehgoh](https://twitter.com/yuehgoh),  [Deborah D Kanubala](https://www.linkedin.com/in/ddk2018/), Faith Benson, Salomey Osei, [Yolande Ngueabou](https://www.linkedin.com/in/yolande-ngueabou-1826a6132/), Deo Byabazaire, Bernard Osei, Elkanah Nyabuto.\n",
        "\n",
        "\n",
        "\n",
        "\n",
        "**Course Reviewer:** [Salomon Kabongo](https://twitter.com/SalomonKabongo1), [Sewade Ogun](https://twitter.com/SewadeOgun)"
      ]
    },
    {
      "cell_type": "code",
      "metadata": {
        "id": "_8OcWnJbyTD0",
        "colab_type": "code",
        "colab": {}
      },
      "source": [
        ""
      ],
      "execution_count": null,
      "outputs": []
    }
  ]
}