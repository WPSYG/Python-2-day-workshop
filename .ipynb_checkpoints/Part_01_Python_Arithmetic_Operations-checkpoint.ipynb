{
 "cells": [
  {
   "cell_type": "markdown",
   "metadata": {
    "colab_type": "text",
    "id": "APTmxes6rkjl"
   },
   "source": [
    "<img src=\"https://raw.githubusercontent.com/WPSYG/Python-2-day-workshop/master/images/logo_color_v1.jpeg?token=AIW35UAKBBELC5SYDUECSYC7HQ4FW\">"
   ]
  },
  {
   "cell_type": "markdown",
   "metadata": {
    "colab_type": "text",
    "id": "zEUs9ZqL2YwY"
   },
   "source": [
    "# Python Arithmetic operations\n",
    "This section would focus on introducing you to simple arithmetic operations using python. You would use python to perform operations such as additions, substraction, multiplication and division."
   ]
  },
  {
   "cell_type": "markdown",
   "metadata": {},
   "source": [
    "<img src=\"https://raw.githubusercontent.com/WPSYG/Python-2-day-workshop/master/images/Arithmetic.png?token=AIW35UBQXZTNMD4GC662SPS7HQ4KY\">"
   ]
  },
  {
   "cell_type": "markdown",
   "metadata": {
    "colab_type": "text",
    "id": "8QytlG-muIpS"
   },
   "source": [
    "**Examples : Arithmetic operators in Python**\n"
   ]
  },
  {
   "cell_type": "code",
   "execution_count": null,
   "metadata": {
    "colab": {},
    "colab_type": "code",
    "id": "BccLYrIxuFWY"
   },
   "outputs": [],
   "source": [
    "# Addition (+)\n",
    "x = 4\n",
    "y = 6\n",
    "\n",
    "print('x+y = ', x+y) # I suggest you have a variable z that is x+y, same follow for the next examples as well"
   ]
  },
  {
   "cell_type": "code",
   "execution_count": null,
   "metadata": {
    "colab": {},
    "colab_type": "code",
    "id": "GwQexzawuF6G"
   },
   "outputs": [],
   "source": [
    "# Subtraction (-)\n",
    "x = 10\n",
    "y = 5\n",
    "\n",
    "print('x-y = ', x-y)"
   ]
  },
  {
   "cell_type": "code",
   "execution_count": null,
   "metadata": {
    "colab": {},
    "colab_type": "code",
    "id": "2B6FEE9IuF3o"
   },
   "outputs": [],
   "source": [
    "# Multiplication (*)\n",
    "x = 2\n",
    "y = 9\n",
    "\n",
    "print('x*y = ', x*y)"
   ]
  },
  {
   "cell_type": "code",
   "execution_count": null,
   "metadata": {
    "colab": {},
    "colab_type": "code",
    "id": "fzGTbD35uF1W"
   },
   "outputs": [],
   "source": [
    "# Division (/)\n",
    "x = 7\n",
    "y = 4\n",
    "\n",
    "a = 20\n",
    "b = 4\n",
    "\n",
    "print('x/y = ', x/y)\n",
    "print('a/b = ', a/b)"
   ]
  },
  {
   "cell_type": "code",
   "execution_count": null,
   "metadata": {
    "colab": {},
    "colab_type": "code",
    "id": "xfT6FHlGuFyp"
   },
   "outputs": [],
   "source": [
    "# Modulo (%)\n",
    "x = 5\n",
    "y = 4\n",
    "\n",
    "print('x%y = ', x%y)"
   ]
  },
  {
   "cell_type": "code",
   "execution_count": null,
   "metadata": {
    "colab": {},
    "colab_type": "code",
    "id": "LwCXs1bnuffr"
   },
   "outputs": [],
   "source": [
    "# Floor division (//)\n",
    "\n",
    "x = 7\n",
    "y = 4\n",
    "\n",
    "a = 20\n",
    "b = 4\n",
    "\n",
    "print('x//y = ', x//y)\n",
    "print('a//b = ', a//b)"
   ]
  },
  {
   "cell_type": "code",
   "execution_count": null,
   "metadata": {
    "colab": {},
    "colab_type": "code",
    "id": "IREiQ8bgufdb"
   },
   "outputs": [],
   "source": [
    "# Exponent (**)\n",
    "x = 3\n",
    "y = 2\n",
    "\n",
    "print('x**y = ', x**y)"
   ]
  },
  {
   "cell_type": "code",
   "execution_count": null,
   "metadata": {
    "colab": {},
    "colab_type": "code",
    "id": "lrj_RNygufa3"
   },
   "outputs": [],
   "source": [
    "# Multiple arithmetic operators\n",
    "x = 9\n",
    "y = 2\n",
    "\n",
    "print('x + y - x * y / x = ', x + y - x * y / x )"
   ]
  },
  {
   "cell_type": "markdown",
   "metadata": {
    "colab_type": "text",
    "id": "QbHx7XZfvOQg"
   },
   "source": [
    "**Arithmetic operator precedence in Python**\n",
    "\n",
    "- With arithmetic operator predence we understand which among the given operators should be computed first."
   ]
  },
  {
   "cell_type": "markdown",
   "metadata": {
    "colab": {},
    "colab_type": "code",
    "id": "UgOJ5_vRufYN"
   },
   "source": [
    "<img src=\"https://raw.githubusercontent.com/WPSYG/Python-2-day-workshop/master/images/preced.png?token=AIW35UDJKQZFXBUWF5AVTLK7HQ4N2\">"
   ]
  },
  {
   "cell_type": "markdown",
   "metadata": {
    "colab": {},
    "colab_type": "code",
    "id": "FXI4gwZYrvFp"
   },
   "source": [
    "> Can you add as well bit operations 1^2 ? ... do you think this will be relevant to the course ?\n",
    "Andd give some exercise that the student can try to solve before providing the solution"
   ]
  },
  {
   "cell_type": "code",
   "execution_count": null,
   "metadata": {},
   "outputs": [],
   "source": []
  },
  {
   "cell_type": "markdown",
   "metadata": {
    "colab_type": "text",
    "id": "0D6jRQfsrzfr"
   },
   "source": [
    "___\n",
    "**Course Content Creators**: Sokhar Samb, Foutse, Deborah D Kanubala, Faith Benson, Salomey Osei, Yolande Ngueabou, Deo Byabazaire, Bernard Osei, Elkanah Nyabuto.\n",
    "\n",
    "\n",
    "\n",
    "\n",
    "**Course Reviewer:** [Salomon Kabongo](https://twitter.com/SalomonKabongo1)"
   ]
  }
 ],
 "metadata": {
  "colab": {
   "name": "Part 01 : Python Arithmetic Operations.ipynb",
   "provenance": []
  },
  "kernelspec": {
   "display_name": "Python 3",
   "language": "python",
   "name": "python3"
  },
  "language_info": {
   "codemirror_mode": {
    "name": "ipython",
    "version": 3
   },
   "file_extension": ".py",
   "mimetype": "text/x-python",
   "name": "python",
   "nbconvert_exporter": "python",
   "pygments_lexer": "ipython3",
   "version": "3.6.10"
  }
 },
 "nbformat": 4,
 "nbformat_minor": 4
}
