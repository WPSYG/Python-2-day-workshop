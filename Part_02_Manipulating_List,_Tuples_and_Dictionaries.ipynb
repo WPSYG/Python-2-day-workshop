{
  "nbformat": 4,
  "nbformat_minor": 0,
  "metadata": {
    "colab": {
      "name": "Part 02: Manipulating List, Tuples and Dictionaries.ipynb",
      "provenance": []
    },
    "kernelspec": {
      "display_name": "Python 3",
      "language": "python",
      "name": "python3"
    },
    "language_info": {
      "codemirror_mode": {
        "name": "ipython",
        "version": 3
      },
      "file_extension": ".py",
      "mimetype": "text/x-python",
      "name": "python",
      "nbconvert_exporter": "python",
      "pygments_lexer": "ipython3",
      "version": "3.7.3"
    }
  },
  "cells": [
    {
      "cell_type": "markdown",
      "metadata": {
        "id": "LkpR68Pux98a",
        "colab_type": "text"
      },
      "source": [
        "<a href=\"https://colab.research.google.com/github/WPSYG/Python-2-day-workshop/blob/master/Part_02_Manipulating_List,_Tuples_and_Dictionaries.ipynb\" target=\"_parent\"><img src=\"https://colab.research.google.com/assets/colab-badge.svg\" alt=\"Open In Colab\"/></a>"
      ]
    },
    {
      "cell_type": "markdown",
      "metadata": {
        "colab_type": "text",
        "id": "Y7isDkFOtG8W"
      },
      "source": [
        "<img src=\"https://raw.githubusercontent.com/WPSYG/Python-2-day-workshop/master/images/logo_color_v1.jpeg?token=AIW35UAKBBELC5SYDUECSYC7HQ4FW\">"
      ]
    },
    {
      "cell_type": "markdown",
      "metadata": {
        "colab_type": "text",
        "id": "RM3zqGNz5Jbh"
      },
      "source": [
        "# Manipulating List, Tuples and Dictionaries"
      ]
    },
    {
      "cell_type": "markdown",
      "metadata": {
        "colab_type": "text",
        "id": "WXoP8aVSRneb"
      },
      "source": [
        "This part of the tutorial cover basic object in python such as lists, tuples and dictionaries. You will learn to define and manupilate data structures/objects in Python. This can improve how you store information for your own analysis."
      ]
    },
    {
      "cell_type": "markdown",
      "metadata": {
        "colab_type": "text",
        "id": "94XgYxv-Szoo"
      },
      "source": [
        "### Lists\n",
        "> A list is an ordered collection of arbitrary objects between the square brackets i.e [].\n",
        "We can define a list of strings, a list of numbers, a list having both names and numbers or containing other lists in it."
      ]
    },
    {
      "cell_type": "markdown",
      "metadata": {
        "colab_type": "text",
        "id": "ztBj1pgPCs32"
      },
      "source": [
        "**Creating a list**"
      ]
    },
    {
      "cell_type": "code",
      "metadata": {
        "colab_type": "code",
        "id": "XNYdBl1iCpMA",
        "colab": {}
      },
      "source": [
        "#list of strings\n",
        "\n",
        "list_of_names=[\"Deo\",\"Moses\",\"Deb\",\"Bernard\",\"Theo\",\"Matthias\"]\n",
        "\n",
        "print(\"Names:\",type(list_of_names),\"\\n\")\n",
        "\n",
        "print(list_of_names)"
      ],
      "execution_count": null,
      "outputs": []
    },
    {
      "cell_type": "markdown",
      "metadata": {
        "id": "54LFDh6nx98l",
        "colab_type": "text"
      },
      "source": [
        "- type() is a function that displays the type of object/data structure. In this example, the type of object is a **list**"
      ]
    },
    {
      "cell_type": "code",
      "metadata": {
        "colab_type": "code",
        "id": "n9FkzbH1CpRQ",
        "colab": {}
      },
      "source": [
        "# list of numbers\n",
        "\n",
        "list_of_numbers=[2,5,7,11,13,17,19,23]\n",
        "\n",
        "print(\"list_of_numbers:\", type(list_of_numbers),\"\\n\")\n",
        "\n",
        "print(list_of_numbers)"
      ],
      "execution_count": null,
      "outputs": []
    },
    {
      "cell_type": "markdown",
      "metadata": {
        "id": "HFH7lLmyx98q",
        "colab_type": "text"
      },
      "source": [
        "- List can store numbers, strings, and even other objects such as lists"
      ]
    },
    {
      "cell_type": "markdown",
      "metadata": {
        "colab_type": "text",
        "id": "gftwpyoEKHON"
      },
      "source": [
        "Important thing about a list is that items in a list need not be of the same type."
      ]
    },
    {
      "cell_type": "code",
      "metadata": {
        "colab_type": "code",
        "id": "1BFfh4s2CpZm",
        "colab": {}
      },
      "source": [
        "#list of both numbers and strings\n",
        "\n",
        "list_of_mixture=[1,3,5,\"Dog\",\"Pig\",list_of_names,list_of_numbers]\n",
        "\n",
        "print(\"list_of_mixture:\",type(list_of_mixture),\"\\n\")\n",
        "\n",
        "print(list_of_mixture)"
      ],
      "execution_count": null,
      "outputs": []
    },
    {
      "cell_type": "markdown",
      "metadata": {
        "colab_type": "text",
        "id": "9LKKe9izDxOs"
      },
      "source": [
        "**List indexing or access**\n",
        "\n",
        "You can get an item by referring to its position in the list, a number called the index. The first index is zero, the second index is one, and so forth."
      ]
    },
    {
      "cell_type": "code",
      "metadata": {
        "colab_type": "code",
        "id": "-3ebS0MACpW9",
        "colab": {}
      },
      "source": [
        "#Getting the first item in the list\n",
        "print(list_of_names[0],\"\\n\")\n",
        "\n",
        "print(list_of_numbers[0],\"\\n\")\n",
        "\n",
        "print(list_of_mixture[0],\"\\n\")"
      ],
      "execution_count": null,
      "outputs": []
    },
    {
      "cell_type": "code",
      "metadata": {
        "colab_type": "code",
        "id": "ZjR_oIDlCpUp",
        "colab": {}
      },
      "source": [
        "#Getting the last item \n",
        "print(list_of_names[-1],\"\\n\")\n",
        "\n",
        "print(list_of_numbers[-1],\"\\n\")\n",
        "\n",
        "print(list_of_mixture[-1],\"\\n\")"
      ],
      "execution_count": null,
      "outputs": []
    },
    {
      "cell_type": "code",
      "metadata": {
        "colab_type": "code",
        "id": "5jJFjVesCpPa",
        "colab": {}
      },
      "source": [
        "#Getting an item in a list inside a list\n",
        "print(list_of_mixture[5][3])"
      ],
      "execution_count": null,
      "outputs": []
    },
    {
      "cell_type": "markdown",
      "metadata": {
        "colab_type": "text",
        "id": "nk97FEq_OXeL"
      },
      "source": [
        "**Slicing**\n",
        "\n",
        "As we show, indexing *allows* you to access, change, delete only a single cell of a list. What if we want to get a sublist of the list. Or we want to update a bunch of cells at once? Or we want to go on a frenzy and extend a list with an arbitrary number of new cells in any position?"
      ]
    },
    {
      "cell_type": "code",
      "metadata": {
        "colab_type": "code",
        "id": "U3iUNnJzOT-B",
        "colab": {}
      },
      "source": [
        "# elements 3rd to 5th\n",
        "print(list_of_numbers[2:5])\n",
        "\n",
        "# elements beginning to 4th\n",
        "print(list_of_numbers[:-5])\n",
        "\n",
        "# elements 6th to end\n",
        "print(list_of_numbers[5:])\n",
        "\n",
        "# elements beginning to end\n",
        "print(list_of_numbers[:])"
      ],
      "execution_count": null,
      "outputs": []
    },
    {
      "cell_type": "markdown",
      "metadata": {
        "colab_type": "text",
        "id": "zaudgmhLFRFR"
      },
      "source": [
        "A list can be modified i.e adding items, removing items, inserting items etc. We use concepts like append, remove, insert etc to modify the list.\n"
      ]
    },
    {
      "cell_type": "markdown",
      "metadata": {
        "colab_type": "text",
        "id": "3B-OcNpVHenM"
      },
      "source": [
        "**Appending items**\n",
        "\n",
        "You can add an item to the end of the list with append()"
      ]
    },
    {
      "cell_type": "code",
      "metadata": {
        "colab_type": "code",
        "id": "de_VmhocFKwr",
        "colab": {}
      },
      "source": [
        "#Adding more items in the list\n",
        "\n",
        "print(\"list_of_names before:\",list_of_names, \"\\n\")\n",
        "\n",
        "list_of_names.append(\"Sokhar\")\n",
        "\n",
        "print(\"list_of_names after:\",list_of_names, \"\\n\")\n",
        "\n",
        "\n",
        "print(\"list_of_numbers before:\",list_of_numbers, \"\\n\")\n",
        "\n",
        "list_of_numbers.append(27)\n",
        "\n",
        "print(\"list_of_numbers after:\",list_of_numbers, \"\\n\")\n",
        "\n"
      ],
      "execution_count": null,
      "outputs": []
    },
    {
      "cell_type": "markdown",
      "metadata": {
        "colab_type": "text",
        "id": "T1neaQ2RJLIm"
      },
      "source": [
        "**Inserting an item in a list**\n",
        "\n",
        "insert() is an inbuilt function in Python that inserts a given element at a given index in a list."
      ]
    },
    {
      "cell_type": "code",
      "metadata": {
        "colab_type": "code",
        "id": "Ezoec9cCJHzD",
        "colab": {}
      },
      "source": [
        "print(\"list_of_names before:\",list_of_names, \"\\n\")\n",
        "\n",
        "#append an item\n",
        "list_of_names.insert(1,\"Sokhar\")\n",
        "\n",
        "print(\"list_of_names after:\",list_of_names, \"\\n\")\n"
      ],
      "execution_count": null,
      "outputs": []
    },
    {
      "cell_type": "markdown",
      "metadata": {
        "colab_type": "text",
        "id": "X3cbDICJMWr8"
      },
      "source": [
        "**Replacing items in the list**\n",
        "\n"
      ]
    },
    {
      "cell_type": "code",
      "metadata": {
        "colab_type": "code",
        "id": "k3WTUoLPMab2",
        "colab": {}
      },
      "source": [
        "list_of_names=[\"Deo\",\"Moses\",\"Deb\",\"Bernard\",\"Theo\",\"Matthias\"]\n",
        "\n",
        "print(\"list_of_names before:\",list_of_names, \"\\n\")\n",
        "\n",
        "list_of_names[2] = \"Deborah\"\n",
        "\n",
        "print(\"list_of_names after:\",list_of_names, \"\\n\")"
      ],
      "execution_count": null,
      "outputs": []
    },
    {
      "cell_type": "markdown",
      "metadata": {
        "colab_type": "text",
        "id": "k2OGSQD2UGi_"
      },
      "source": [
        "## Tuples\n",
        "\n",
        "> A tuple is a collection of objects which are ordered and immutable. Tuples are sequences, just like lists. The differences between tuples and lists are, the tuples cannot be changed unlike lists and tuples use parentheses (), whereas lists use square brackets"
      ]
    },
    {
      "cell_type": "markdown",
      "metadata": {
        "colab_type": "text",
        "id": "9KWMhX2pTVMR"
      },
      "source": [
        "**Creating a tuple**\n",
        "\n",
        "> Creating a tuple is as simple as putting different comma-separated values. Optionally you can put these comma-separated values between parentheses also. For example −"
      ]
    },
    {
      "cell_type": "code",
      "metadata": {
        "colab_type": "code",
        "id": "CJzHcDrzTbvc",
        "colab": {
          "base_uri": "https://localhost:8080/",
          "height": 119
        },
        "outputId": "9ec880bb-054d-41d6-974a-5b9063085111"
      },
      "source": [
        "#Tuple of strings\n",
        "\n",
        "tuple_of_string=(\"Deo\",\"Moses\",\"Deb\",\"Bernard\",\"Theo\",\"Matthias\")\n",
        "\n",
        "tuple_of_numbers=[2,5,7,11,13,17,19,23]\n",
        "\n",
        "\n",
        "print(\"type:\",type(tuple_of_string),\"\\n\")\n",
        "\n",
        "print(\"tuple_of_numbers:\",tuple_of_string,\"\\n\")\n",
        "print(\"tuple_of_numbers:\",tuple_of_numbers,\"\\n\")\n",
        "\n"
      ],
      "execution_count": null,
      "outputs": [
        {
          "output_type": "stream",
          "text": [
            "type: <class 'tuple'> \n",
            "\n",
            "tuple_of_numbers: ('Deo', 'Moses', 'Deb', 'Bernard', 'Theo', 'Matthias') \n",
            "\n",
            "tuple_of_numbers: [2, 5, 7, 11, 13, 17, 19, 23] \n",
            "\n"
          ],
          "name": "stdout"
        }
      ]
    },
    {
      "cell_type": "markdown",
      "metadata": {
        "colab_type": "text",
        "id": "XHSKWfh9Vkar"
      },
      "source": [
        "Tuples are immutable which means you cannot update or change the values of tuple elements. You are able to take portions of existing tuples to create new tuples as the following example demonstrates "
      ]
    },
    {
      "cell_type": "code",
      "metadata": {
        "colab_type": "code",
        "id": "EjMXJ_TuVoJ1",
        "colab": {}
      },
      "source": [
        "print(\"tuple_of_string:\",tuple_of_string,\"\\n\")\n",
        "\n",
        "print(\"tuple_of_numbers:\",tuple_of_numbers[0],\"\\n\")\n",
        "\n",
        "# Following action is not valid for tuples\n",
        "tuple_of_names[0] = \"Faith\""
      ],
      "execution_count": null,
      "outputs": []
    },
    {
      "cell_type": "markdown",
      "metadata": {
        "colab_type": "text",
        "id": "0tpZ0KnUULbw"
      },
      "source": [
        "## Dictionaries\n",
        "\n",
        "\n",
        "Dictionaries are also what they sound like - a list of definitions that correspond to unique terms.\n",
        "\n",
        "Dictionaries are unordered\n",
        "\n",
        "Dictionary values are accessed by keys\n",
        "\n",
        "Keys and values are to a dictionary what words and their definitions are to an English dictionary. \n",
        "\n",
        "Each entry in a dictionary is called a key-value pair. \n",
        "\n",
        "Dictionaries and lists share the following characteristics:\n",
        "\n",
        "Both are mutable.\n",
        "\n",
        "\n",
        "\n",
        "\n",
        "* Both are dynamic. They can grow and shrink as needed.\n",
        "* Both can be nested. \n",
        "* A list can contain another list. A dictionary can contain another dictionary. \n",
        "* A dictionary can also contain a list, and vice versa.\n",
        "\n",
        "Dictionaries differ from lists primarily in how elements are accessed:\n",
        "\n",
        "List elements are accessed by their position in the list, via indexing, dictionary elements are accessed via keys.\n",
        "\n",
        "**To create a dictionary, use curly braces, a colon (:) separates each key from its associated value**\n",
        "\n",
        "\n",
        "**Note** Dictionary keys are case sensitive, same name but different cases of Key will be treated distinctly.\n"
      ]
    },
    {
      "cell_type": "code",
      "metadata": {
        "colab_type": "code",
        "id": "LnTmxDAeXaH2",
        "colab": {},
        "outputId": "cb6fa0bb-abc2-463b-e75c-5d3f467d6a81"
      },
      "source": [
        "country_population = {\n",
        "    'Ghana': 31072940,\n",
        "    'Senegal': 16743927,\n",
        "    'Cameroon': 26545863,\n",
        "    'Kenya': 53771296,\n",
        "    \n",
        "}\n",
        "print(\"keys of the dictionary :\", country_population.items()) \n",
        "\n",
        "print(\"keys of the dictionary :\", country_population.keys()) \n"
      ],
      "execution_count": null,
      "outputs": [
        {
          "output_type": "stream",
          "text": [
            "keys of the dictionary : dict_keys(['Ghana', 'Senegal', 'Cameroon', 'Kenya'])\n",
            "keys of the dictionary : dict_items([('Ghana', 31072940), ('Senegal', 16743927), ('Cameroon', 26545863), ('Kenya', 53771296)])\n"
          ],
          "name": "stdout"
        }
      ]
    },
    {
      "cell_type": "markdown",
      "metadata": {
        "colab_type": "text",
        "id": "-zBxxwpNyF9c"
      },
      "source": [
        "Dictionary can also be created by the built-in function dict(). An empty dictionary can be created by just placing to curly braces{}."
      ]
    },
    {
      "cell_type": "code",
      "metadata": {
        "colab_type": "code",
        "id": "O-pzi-Q2yIdJ",
        "colab": {}
      },
      "source": [
        "Dict = dict({'Ghana': 31072940, \n",
        "             'Senegal':16743927, \n",
        "             'Cameroon':26545863, \n",
        "             'Kenya':53771296\n",
        "             }) \n",
        "print(\"\\nDictionary with the use of dict(): \") \n",
        "print(Dict) \n",
        "  "
      ],
      "execution_count": null,
      "outputs": []
    },
    {
      "cell_type": "markdown",
      "metadata": {
        "colab_type": "text",
        "id": "E1znKq1bXmqf"
      },
      "source": [
        "**Accessing elements of a Dictionary**\n",
        "\n",
        "Say you want to know the population of Ghana. Similarly to a list, you can use brackets to access the value, but this time with the key (instead of the index):\n",
        "\n"
      ]
    },
    {
      "cell_type": "code",
      "metadata": {
        "colab_type": "code",
        "id": "u5SyYRPMXaMN",
        "colab": {}
      },
      "source": [
        "country_population['Ghana']"
      ],
      "execution_count": null,
      "outputs": []
    },
    {
      "cell_type": "markdown",
      "metadata": {
        "colab_type": "text",
        "id": "hWLiixeGecAM"
      },
      "source": [
        "In dictionaries, keys are unique. This means that there can only be one \"Kenya\" in the city_population dictionary, just as there can only be one Supercalifragilisticexpialidocious entry in the English dictionary.\n",
        "\n",
        "Let's add another big city to the dictionary. To do this, you'll need to assign a value to a key that doesn't yet exist:"
      ]
    },
    {
      "cell_type": "code",
      "metadata": {
        "colab_type": "code",
        "id": "roY-eUk3XaKl",
        "colab": {}
      },
      "source": [
        "country_population['Rwanda'] = 12985066\n",
        "\n"
      ],
      "execution_count": null,
      "outputs": []
    },
    {
      "cell_type": "markdown",
      "metadata": {
        "colab_type": "text",
        "id": "mOKKd5lNUp3p"
      },
      "source": [
        "### Removing Elements from Dictionary\n",
        "In Python Dictionary, deletion of keys can be done by using the del keyword. Using del keyword, specific values from a dictionary as well as whole dictionary can be deleted. Items in a Nested dictionary can also be deleted by using del keyword and providing specific nested key and particular key to be deleted from that nested Dictionary.\n",
        "\n",
        "Note- del Dict will delete the entire dictionary and hence printing it after deletion will raise an Error.\n"
      ]
    },
    {
      "cell_type": "code",
      "metadata": {
        "colab_type": "code",
        "id": "DJgo4IUCUo0F",
        "colab": {}
      },
      "source": [
        "Dict = { 5 : 'Welcome', 6 : 'To', 7 : 'python', \n",
        "        'A' : {1 : 'python', 2 : 'For', 3 : 'python'}, \n",
        "        'B' : {1 : 'python', 2 : 'coding'}} \n",
        "print(\"Initial Dictionary: \") \n",
        "print(Dict) \n",
        "  \n",
        "del Dict[6]\n",
        "print(\"\\nDeleting a specific key: \") \n",
        "print(Dict) \n",
        "  \n",
        "\n",
        "del Dict['A'][2] \n",
        "print(\"\\nDeleting a key from Nested Dictionary: \") \n",
        "print(Dict) "
      ],
      "execution_count": null,
      "outputs": []
    },
    {
      "cell_type": "code",
      "metadata": {
        "id": "B3XljpwIx99x",
        "colab_type": "code",
        "colab": {}
      },
      "source": [
        ""
      ],
      "execution_count": null,
      "outputs": []
    },
    {
      "cell_type": "markdown",
      "metadata": {
        "id": "XMK1eiX6x99z",
        "colab_type": "text"
      },
      "source": [
        "## Exercice1\n",
        "* create a list name students [\"Saffia\", \"Olivia\",\"\tIsabella\",\"James\",\"\tWilliam\"]\n",
        "* how many student are in the list?\n",
        "* print the name of the first student \n",
        "* print the name of the 3 first student\n",
        "* print the name of the last student\n",
        "* relace the name of the third student by \"Eva\""
      ]
    },
    {
      "cell_type": "code",
      "metadata": {
        "id": "Nm8MAW6zx990",
        "colab_type": "code",
        "colab": {}
      },
      "source": [
        "#write your code here\n",
        "def print_first_student():\n",
        "    #FILL here (1 line)\n",
        "\n"
      ],
      "execution_count": null,
      "outputs": []
    },
    {
      "cell_type": "code",
      "metadata": {
        "id": "SR3g8H8Xx994",
        "colab_type": "code",
        "colab": {},
        "outputId": "8e474a04-222c-4c9d-d2fe-1f1d07c3e007"
      },
      "source": [
        "print(\"print_first_student() function is Correct\") if print_first_student() == \"Saffia\" else 'Something Wrong'"
      ],
      "execution_count": null,
      "outputs": [
        {
          "output_type": "stream",
          "text": [
            "print_first_student() function is Correct\n"
          ],
          "name": "stdout"
        }
      ]
    },
    {
      "cell_type": "markdown",
      "metadata": {
        "id": "kRfnEo9Hx997",
        "colab_type": "text"
      },
      "source": [
        "### Exercice2\n",
        "In this exercice we will transform the list created in exercice1 in to a dictionary where the keys are the names of the students and the associated values are the marks of the students in a python quiz.\n",
        "* create a ditionary called python_quiz with the keys: \"Saffia\", \"Olivia\",\" Isabella\",\"James\",\" William\" and the marks are 12,15,16,9,19 respectively\n",
        "* What is Safiia's mark for the python quiz?\n",
        "After feeling all the marks for all the students, we realized that there is a mistake, Olivia has 16 instead of 15.\n",
        "* change the mark of Olivia to 16\n",
        "Now let's do some calculation on our dictionary\n",
        "* Calculate the mean of the class\n",
        "\n"
      ]
    },
    {
      "cell_type": "code",
      "metadata": {
        "id": "e4R4GzfKx998",
        "colab_type": "code",
        "colab": {}
      },
      "source": [
        ""
      ],
      "execution_count": null,
      "outputs": []
    },
    {
      "cell_type": "markdown",
      "metadata": {
        "colab_type": "text",
        "id": "_4Kb9Ld0tNYI"
      },
      "source": [
        "___\n",
        "**Course Content Creators**: [Sokhar Samb](https://twitter.com/SambSokhar), [Foutse Yuehgoh](https://twitter.com/yuehgoh), [Deborah D Kanubala](https://www.linkedin.com/in/ddk2018/), Faith Benson, Salomey Osei, Yolande Ngueabou, [Deo Byabazaire](https://www.linkedin.com/feed/), Bernard Osei, Elkanah Nyabuto.\n",
        "\n",
        "\n",
        "\n",
        "\n",
        "\n",
        "**Course Reviewer:** [Salomon Kabongo](https://twitter.com/SalomonKabongo1)"
      ]
    },
    {
      "cell_type": "code",
      "metadata": {
        "id": "0AlGMdtvx9-A",
        "colab_type": "code",
        "colab": {}
      },
      "source": [
        ""
      ],
      "execution_count": null,
      "outputs": []
    }
  ]
}