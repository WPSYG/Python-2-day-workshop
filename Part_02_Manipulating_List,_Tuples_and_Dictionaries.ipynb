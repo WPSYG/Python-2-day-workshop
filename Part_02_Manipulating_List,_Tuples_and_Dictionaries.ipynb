{
  "nbformat": 4,
  "nbformat_minor": 0,
  "metadata": {
    "colab": {
      "name": "Part 02: Manipulating List, Tuples and Dictionaries.ipynb",
      "provenance": []
    },
    "kernelspec": {
      "display_name": "Python 3",
      "language": "python",
      "name": "python3"
    },
    "language_info": {
      "codemirror_mode": {
        "name": "ipython",
        "version": 3
      },
      "file_extension": ".py",
      "mimetype": "text/x-python",
      "name": "python",
      "nbconvert_exporter": "python",
      "pygments_lexer": "ipython3",
      "version": "3.7.3"
    }
  },
  "cells": [
    {
      "cell_type": "markdown",
      "metadata": {
        "id": "m1eHQCm9nytR",
        "colab_type": "text"
      },
      "source": [
        "<a href=\"https://colab.research.google.com/github/WPSYG/Python-2-day-workshop/blob/master/Part_02_Manipulating_List,_Tuples_and_Dictionaries.ipynb\" target=\"_parent\"><img src=\"https://colab.research.google.com/assets/colab-badge.svg\" alt=\"Open In Colab\"/></a>"
      ]
    },
    {
      "cell_type": "markdown",
      "metadata": {
        "colab_type": "text",
        "id": "Y7isDkFOtG8W"
      },
      "source": [
        "<img src=\"https://raw.githubusercontent.com/WPSYG/Python-2-day-workshop/master/images/logo_color_v1.jpeg?token=AIW35UAKBBELC5SYDUECSYC7HQ4FW\">"
      ]
    },
    {
      "cell_type": "markdown",
      "metadata": {
        "colab_type": "text",
        "id": "RM3zqGNz5Jbh"
      },
      "source": [
        "# Manipulating List, Tuples and Dictionaries"
      ]
    },
    {
      "cell_type": "markdown",
      "metadata": {
        "colab_type": "text",
        "id": "WXoP8aVSRneb"
      },
      "source": [
        "This part of the tutorial cover basic object in python such as lists, tuples and dictionaries. You will learn to define and manupilate data structures/objects in Python. This can improve how you store information for your own analysis."
      ]
    },
    {
      "cell_type": "markdown",
      "metadata": {
        "colab_type": "text",
        "id": "94XgYxv-Szoo"
      },
      "source": [
        "### Lists\n",
        "> A list is an ordered collection of arbitrary objects between the square brackets i.e [].\n",
        "We can define a list of strings, a list of numbers, a list having both names and numbers or containing other lists in it."
      ]
    },
    {
      "cell_type": "markdown",
      "metadata": {
        "colab_type": "text",
        "id": "ztBj1pgPCs32"
      },
      "source": [
        "**Creating a list**"
      ]
    },
    {
      "cell_type": "code",
      "metadata": {
        "colab_type": "code",
        "id": "XNYdBl1iCpMA",
        "colab": {}
      },
      "source": [
        "#list of strings\n",
        "\n",
        "list_of_names=[\"Deo\",\"Moses\",\"Deb\",\"Bernard\",\"Theo\",\"Matthias\"]\n",
        "\n",
        "print(\"Names:\",type(list_of_names),\"\\n\")\n",
        "\n",
        "print(list_of_names)"
      ],
      "execution_count": null,
      "outputs": []
    },
    {
      "cell_type": "markdown",
      "metadata": {
        "id": "d1VjXQ8mnytm",
        "colab_type": "text"
      },
      "source": [
        "- type() is a function that displays the type of object/data structure. In this example, the type of object is a **list**"
      ]
    },
    {
      "cell_type": "code",
      "metadata": {
        "colab_type": "code",
        "id": "n9FkzbH1CpRQ",
        "colab": {}
      },
      "source": [
        "# list of numbers\n",
        "\n",
        "list_of_numbers=[2,5,7,11,13,17,19,23]\n",
        "\n",
        "print(\"list_of_numbers:\", type(list_of_numbers),\"\\n\")\n",
        "\n",
        "print(list_of_numbers)"
      ],
      "execution_count": null,
      "outputs": []
    },
    {
      "cell_type": "markdown",
      "metadata": {
        "id": "SDchpQ-Pnytu",
        "colab_type": "text"
      },
      "source": [
        "- List can store numbers, strings, and even other objects such as lists"
      ]
    },
    {
      "cell_type": "markdown",
      "metadata": {
        "colab_type": "text",
        "id": "gftwpyoEKHON"
      },
      "source": [
        "Important thing about a list is that items in a list need not be of the same type."
      ]
    },
    {
      "cell_type": "code",
      "metadata": {
        "colab_type": "code",
        "id": "1BFfh4s2CpZm",
        "colab": {}
      },
      "source": [
        "#list of both numbers and strings\n",
        "\n",
        "list_of_mixture=[1,3,5,\"Dog\",\"Pig\",list_of_names,list_of_numbers]\n",
        "\n",
        "print(\"list_of_mixture:\",type(list_of_mixture),\"\\n\")\n",
        "\n",
        "print(list_of_mixture)"
      ],
      "execution_count": null,
      "outputs": []
    },
    {
      "cell_type": "markdown",
      "metadata": {
        "colab_type": "text",
        "id": "9LKKe9izDxOs"
      },
      "source": [
        "**List indexing or access**\n",
        "\n",
        "You can get an item by referring to its position in the list, a number called the index. The first index is zero, the second index is one, and so forth."
      ]
    },
    {
      "cell_type": "code",
      "metadata": {
        "colab_type": "code",
        "id": "-3ebS0MACpW9",
        "colab": {}
      },
      "source": [
        "#Getting the first item in the list\n",
        "list_of_numbers=[2,5,7,11,13,17,19,23]\n",
        "print(list_of_numbers[0],\"\\n\")\n",
        "\n",
        "list_of_names=[\"Deo\",\"Moses\",\"Deb\",\"Bernard\",\"Theo\",\"Matthias\"]\n",
        "print(list_of_names[0],\"\\n\")\n",
        "\n",
        "list_of_mixture=[1,3,5,\"Dog\",\"Pig\",list_of_names,list_of_numbers]\n",
        "print(list_of_mixture[0],\"\\n\")"
      ],
      "execution_count": null,
      "outputs": []
    },
    {
      "cell_type": "code",
      "metadata": {
        "colab_type": "code",
        "id": "ZjR_oIDlCpUp",
        "colab": {}
      },
      "source": [
        "#Getting the last item \n",
        "list_of_names=[\"Deo\",\"Moses\",\"Deb\",\"Bernard\",\"Theo\",\"Matthias\"]\n",
        "print(list_of_names[-1],\"\\n\")\n",
        "\n",
        "list_of_numbers=[2,5,7,11,13,17,19,23]\n",
        "print(list_of_numbers[-1],\"\\n\")\n",
        "\n",
        "list_of_mixture=[1,3,5,\"Dog\",\"Pig\",list_of_names,list_of_numbers]\n",
        "print(list_of_mixture[-1],\"\\n\")"
      ],
      "execution_count": null,
      "outputs": []
    },
    {
      "cell_type": "code",
      "metadata": {
        "colab_type": "code",
        "id": "5jJFjVesCpPa",
        "colab": {}
      },
      "source": [
        "#Getting an item in a list inside a list\n",
        "list_of_mixture=[1,3,5,\"Dog\",\"Pig\",list_of_names,list_of_numbers]\n",
        "\n",
        "print(list_of_mixture)\n",
        "print(list_of_mixture[5][3])"
      ],
      "execution_count": null,
      "outputs": []
    },
    {
      "cell_type": "markdown",
      "metadata": {
        "colab_type": "text",
        "id": "nk97FEq_OXeL"
      },
      "source": [
        "**Slicing**\n",
        "\n",
        "As we show, indexing *allows* you to access, change, delete only a single cell of a list. What if we want to get a sublist of the list. Or we want to update a bunch of cells at once? Or we want to go on a frenzy and extend a list with an arbitrary number of new cells in any position?"
      ]
    },
    {
      "cell_type": "code",
      "metadata": {
        "colab_type": "code",
        "id": "U3iUNnJzOT-B",
        "colab": {}
      },
      "source": [
        "# elements 3rd to 5th\n",
        "list_of_numbers=[2,5,7,11,13,17,19,23]\n",
        "\n",
        "print(list_of_numbers[2:5])\n",
        "\n",
        "# elements beginning to 4th\n",
        "print(list_of_numbers[:-5])\n",
        "\n",
        "# elements 6th to end\n",
        "print(list_of_numbers[5:])\n",
        "\n",
        "# elements beginning to end\n",
        "print(list_of_numbers[:])"
      ],
      "execution_count": null,
      "outputs": []
    },
    {
      "cell_type": "markdown",
      "metadata": {
        "colab_type": "text",
        "id": "zaudgmhLFRFR"
      },
      "source": [
        "A list can be modified i.e adding items, removing items, inserting items etc. We use concepts like append, remove, insert etc to modify the list.\n"
      ]
    },
    {
      "cell_type": "markdown",
      "metadata": {
        "colab_type": "text",
        "id": "3B-OcNpVHenM"
      },
      "source": [
        "**Appending items**\n",
        "\n",
        "You can add an item to the end of the list with append()"
      ]
    },
    {
      "cell_type": "code",
      "metadata": {
        "colab_type": "code",
        "id": "de_VmhocFKwr",
        "colab": {}
      },
      "source": [
        "#Adding more items in the list\n",
        "list_of_numbers=[2,5,7,11,13,17,19,23]\n",
        "list_of_names=[\"Deo\",\"Moses\",\"Deb\",\"Bernard\",\"Theo\",\"Matthias\"]\n",
        "\n",
        "\n",
        "print(\"list_of_names before:\",list_of_names, \"\\n\")\n",
        "\n",
        "list_of_names.append(\"Sokhar\")\n",
        "\n",
        "print(\"list_of_names after:\",list_of_names, \"\\n\")\n",
        "\n",
        "\n",
        "print(\"list_of_numbers before:\",list_of_numbers, \"\\n\")\n",
        "\n",
        "list_of_numbers.append(27)\n",
        "\n",
        "print(\"list_of_numbers after:\",list_of_numbers, \"\\n\")\n",
        "\n"
      ],
      "execution_count": null,
      "outputs": []
    },
    {
      "cell_type": "markdown",
      "metadata": {
        "colab_type": "text",
        "id": "T1neaQ2RJLIm"
      },
      "source": [
        "**Inserting an item in a list**\n",
        "\n",
        "insert() is an inbuilt function in Python that inserts a given element at a given index in a list."
      ]
    },
    {
      "cell_type": "code",
      "metadata": {
        "colab_type": "code",
        "id": "Ezoec9cCJHzD",
        "colab": {}
      },
      "source": [
        "\n",
        "list_of_names=[\"Deo\",\"Moses\",\"Deb\",\"Bernard\",\"Theo\",\"Matthias\"]\n",
        "\n",
        "print(\"list_of_names before:\",list_of_names, \"\\n\")\n",
        "\n",
        "#append an item\n",
        "list_of_names.insert(1,\"Sokhar\")\n",
        "\n",
        "print(\"list_of_names after:\",list_of_names, \"\\n\")\n"
      ],
      "execution_count": null,
      "outputs": []
    },
    {
      "cell_type": "markdown",
      "metadata": {
        "colab_type": "text",
        "id": "X3cbDICJMWr8"
      },
      "source": [
        "**Replacing items in the list**\n",
        "\n"
      ]
    },
    {
      "cell_type": "code",
      "metadata": {
        "colab_type": "code",
        "id": "k3WTUoLPMab2",
        "colab": {}
      },
      "source": [
        "list_of_names=[\"Deo\",\"Moses\",\"Deb\",\"Bernard\",\"Theo\",\"Matthias\"]\n",
        "\n",
        "print(\"list_of_names before:\",list_of_names, \"\\n\")\n",
        "\n",
        "list_of_names[2] = \"Deborah\"\n",
        "\n",
        "print(\"list_of_names after:\",list_of_names, \"\\n\")"
      ],
      "execution_count": null,
      "outputs": []
    },
    {
      "cell_type": "markdown",
      "metadata": {
        "colab_type": "text",
        "id": "k2OGSQD2UGi_"
      },
      "source": [
        "## Tuples\n",
        "\n",
        "> A tuple is a collection of objects which are ordered and immutable. Tuples are sequences, just like lists. The differences between tuples and lists are, the tuples cannot be changed unlike lists and tuples use parentheses (), whereas lists use square brackets"
      ]
    },
    {
      "cell_type": "markdown",
      "metadata": {
        "colab_type": "text",
        "id": "9KWMhX2pTVMR"
      },
      "source": [
        "**Creating a tuple**\n",
        "\n",
        "> Creating a tuple is as simple as putting different comma-separated values. Optionally you can put these comma-separated values between parentheses also. For example −"
      ]
    },
    {
      "cell_type": "code",
      "metadata": {
        "colab_type": "code",
        "id": "CJzHcDrzTbvc",
        "colab": {
          "base_uri": "https://localhost:8080/",
          "height": 119
        },
        "outputId": "9ec880bb-054d-41d6-974a-5b9063085111"
      },
      "source": [
        "#Tuple of strings\n",
        "\n",
        "tuple_of_string=(\"Deo\",\"Moses\",\"Deb\",\"Bernard\",\"Theo\",\"Matthias\")\n",
        "\n",
        "tuple_of_numbers=[2,5,7,11,13,17,19,23]\n",
        "\n",
        "\n",
        "print(\"type:\",type(tuple_of_string),\"\\n\")\n",
        "\n",
        "print(\"tuple_of_numbers:\",tuple_of_string,\"\\n\")\n",
        "print(\"tuple_of_numbers:\",tuple_of_numbers,\"\\n\")\n",
        "\n"
      ],
      "execution_count": null,
      "outputs": [
        {
          "output_type": "stream",
          "text": [
            "type: <class 'tuple'> \n",
            "\n",
            "tuple_of_numbers: ('Deo', 'Moses', 'Deb', 'Bernard', 'Theo', 'Matthias') \n",
            "\n",
            "tuple_of_numbers: [2, 5, 7, 11, 13, 17, 19, 23] \n",
            "\n"
          ],
          "name": "stdout"
        }
      ]
    },
    {
      "cell_type": "markdown",
      "metadata": {
        "colab_type": "text",
        "id": "XHSKWfh9Vkar"
      },
      "source": [
        "Tuples are immutable which means you cannot update or change the values of tuple elements. You are able to take portions of existing tuples to create new tuples as the following example demonstrates "
      ]
    },
    {
      "cell_type": "code",
      "metadata": {
        "colab_type": "code",
        "id": "EjMXJ_TuVoJ1",
        "colab": {}
      },
      "source": [
        "print(\"tuple_of_string:\",tuple_of_string,\"\\n\")\n",
        "\n",
        "print(\"tuple_of_numbers:\",tuple_of_numbers[0],\"\\n\")\n",
        "\n",
        "# Following action is not valid for tuples\n",
        "tuple_of_names[0] = \"Faith\""
      ],
      "execution_count": null,
      "outputs": []
    },
    {
      "cell_type": "markdown",
      "metadata": {
        "colab_type": "text",
        "id": "0tpZ0KnUULbw"
      },
      "source": [
        "## Dictionaries\n",
        "\n",
        "\n",
        "Dictionaries are also what they sound like - a list of definitions that correspond to unique terms.\n",
        "\n",
        "Dictionaries are unordered\n",
        "\n",
        "Dictionary values are accessed by keys\n",
        "\n",
        "Keys and values are to a dictionary what words and their definitions are to an English dictionary. \n",
        "\n",
        "Each entry in a dictionary is called a key-value pair. \n",
        "\n",
        "Dictionaries and lists share the following characteristics:\n",
        "\n",
        "Both are mutable.\n",
        "\n",
        "\n",
        "\n",
        "\n",
        "* Both are dynamic. They can grow and shrink as needed.\n",
        "* Both can be nested. \n",
        "* A list can contain another list. A dictionary can contain another dictionary. \n",
        "* A dictionary can also contain a list, and vice versa.\n",
        "\n",
        "Dictionaries differ from lists primarily in how elements are accessed:\n",
        "\n",
        "List elements are accessed by their position in the list, via indexing, dictionary elements are accessed via keys.\n",
        "\n",
        "**To create a dictionary, use curly braces, a colon (:) separates each key from its associated value**\n",
        "\n",
        "\n",
        "**Note** Dictionary keys are case sensitive, same name but different cases of Key will be treated distinctly.\n"
      ]
    },
    {
      "cell_type": "code",
      "metadata": {
        "colab_type": "code",
        "id": "LnTmxDAeXaH2",
        "colab": {},
        "outputId": "c7173ae4-7923-4158-f580-570ea1119291"
      },
      "source": [
        "country_population = {\n",
        "    'Ghana': 31072940,\n",
        "    'Senegal': 16743927,\n",
        "    'Cameroon': 26545863,\n",
        "    'Kenya': 53771296,\n",
        "    \n",
        "}\n",
        "print(\"keys of the dictionary :\", country_population.items()) \n",
        "\n",
        "print(\"keys of the dictionary :\", country_population.keys()) \n"
      ],
      "execution_count": null,
      "outputs": [
        {
          "output_type": "stream",
          "text": [
            "keys of the dictionary : dict_keys(['Ghana', 'Senegal', 'Cameroon', 'Kenya'])\n",
            "keys of the dictionary : dict_items([('Ghana', 31072940), ('Senegal', 16743927), ('Cameroon', 26545863), ('Kenya', 53771296)])\n"
          ],
          "name": "stdout"
        }
      ]
    },
    {
      "cell_type": "markdown",
      "metadata": {
        "colab_type": "text",
        "id": "-zBxxwpNyF9c"
      },
      "source": [
        "Dictionary can also be created by the built-in function dict(). An empty dictionary can be created by just placing to curly braces{}."
      ]
    },
    {
      "cell_type": "code",
      "metadata": {
        "colab_type": "code",
        "id": "O-pzi-Q2yIdJ",
        "colab": {}
      },
      "source": [
        "Dict = dict({'Ghana': 31072940, \n",
        "             'Senegal':16743927, \n",
        "             'Cameroon':26545863, \n",
        "             'Kenya':53771296\n",
        "             }) \n",
        "print(\"\\nDictionary with the use of dict(): \") \n",
        "print(Dict) \n",
        "  "
      ],
      "execution_count": null,
      "outputs": []
    },
    {
      "cell_type": "markdown",
      "metadata": {
        "colab_type": "text",
        "id": "E1znKq1bXmqf"
      },
      "source": [
        "**Accessing elements of a Dictionary**\n",
        "\n",
        "Say you want to know the population of Ghana. Similarly to a list, you can use brackets to access the value, but this time with the key (instead of the index):\n",
        "\n"
      ]
    },
    {
      "cell_type": "code",
      "metadata": {
        "colab_type": "code",
        "id": "u5SyYRPMXaMN",
        "colab": {}
      },
      "source": [
        "country_population['Ghana']"
      ],
      "execution_count": null,
      "outputs": []
    },
    {
      "cell_type": "markdown",
      "metadata": {
        "colab_type": "text",
        "id": "hWLiixeGecAM"
      },
      "source": [
        "In dictionaries, keys are unique. This means that there can only be one \"Kenya\" in the city_population dictionary, just as there can only be one Supercalifragilisticexpialidocious entry in the English dictionary.\n",
        "\n",
        "Let's add another big city to the dictionary. To do this, you'll need to assign a value to a key that doesn't yet exist:"
      ]
    },
    {
      "cell_type": "code",
      "metadata": {
        "colab_type": "code",
        "id": "roY-eUk3XaKl",
        "colab": {}
      },
      "source": [
        "country_population['Rwanda'] = 12985066\n",
        "\n"
      ],
      "execution_count": null,
      "outputs": []
    },
    {
      "cell_type": "markdown",
      "metadata": {
        "colab_type": "text",
        "id": "mOKKd5lNUp3p"
      },
      "source": [
        "### Removing Elements from Dictionary\n",
        "In Python Dictionary, deletion of keys can be done by using the del keyword. Using del keyword, specific values from a dictionary as well as whole dictionary can be deleted. Items in a Nested dictionary can also be deleted by using del keyword and providing specific nested key and particular key to be deleted from that nested Dictionary.\n",
        "\n",
        "Note- del Dict will delete the entire dictionary and hence printing it after deletion will raise an Error.\n"
      ]
    },
    {
      "cell_type": "code",
      "metadata": {
        "colab_type": "code",
        "id": "DJgo4IUCUo0F",
        "colab": {}
      },
      "source": [
        "Dict = { 5 : 'Welcome', 6 : 'To', 7 : 'python', \n",
        "        'A' : {1 : 'python', 2 : 'For', 3 : 'python'}, \n",
        "        'B' : {1 : 'python', 2 : 'coding'}} \n",
        "print(\"Initial Dictionary: \") \n",
        "print(Dict) \n",
        "  \n",
        "del Dict[6]\n",
        "print(\"\\nDeleting a specific key: \") \n",
        "print(Dict) \n",
        "  \n",
        "\n",
        "del Dict['A'][2] \n",
        "print(\"\\nDeleting a key from Nested Dictionary: \") \n",
        "print(Dict) "
      ],
      "execution_count": null,
      "outputs": []
    },
    {
      "cell_type": "code",
      "metadata": {
        "id": "JZ-FXnYbnyvn",
        "colab_type": "code",
        "colab": {}
      },
      "source": [
        ""
      ],
      "execution_count": null,
      "outputs": []
    },
    {
      "cell_type": "markdown",
      "metadata": {
        "id": "UUgiLC6cnyvs",
        "colab_type": "text"
      },
      "source": [
        "## Exercice1\n",
        "* create a list name students [\"Saffia\", \"Olivia\",\"\tIsabella\",\"James\",\"\tWilliam\"]\n",
        "* how many student are in the list?\n",
        "* print the name of the first student \n",
        "* print the name of the 3 first student\n",
        "* print the name of the last student\n",
        "* relace the name of the third student by \"Eva\""
      ]
    },
    {
      "cell_type": "code",
      "metadata": {
        "id": "8ChbcBVsnyvs",
        "colab_type": "code",
        "colab": {}
      },
      "source": [
        "#write your code here\n"
      ],
      "execution_count": null,
      "outputs": []
    },
    {
      "cell_type": "markdown",
      "metadata": {
        "id": "SVP-5jTBnyvy",
        "colab_type": "text"
      },
      "source": [
        "Double-click _here_ for the solution.\n",
        "\n",
        "<!-- Your answer is below:\n",
        "    \n",
        "students=[\"Safiia\", \"Olivia\",\" Isabella\",\"James\",\" William\"]\n",
        "\n",
        "num_students=len(students)\n",
        "print(\"the number of students is :\", num_students)\n",
        "\n",
        "name_first_student=students[0]\n",
        "print(\"Name of the first student in the list is:\", name_first_student)\n",
        "\n",
        "three_first_students=students[:3]\n",
        "print(\"Name of the three first students in the list are:\", three_first_students)\n",
        "\n",
        "name_last_student=students[-1]\n",
        "print(\"Name of the last student in the list is:\", name_last_student)\n",
        "\n",
        "\n",
        "students[2]=\"Eva\"\n",
        "print(students[2])\n",
        "\n",
        "-->\n",
        "\n",
        "\n"
      ]
    },
    {
      "cell_type": "markdown",
      "metadata": {
        "id": "jhAHiXJSomXV",
        "colab_type": "text"
      },
      "source": [
        "## Exercise 2\n",
        "\n",
        "*   Create a tuple of odd numbers less than 13\n",
        "*   Print out the 4th element \n",
        "*   Print out from the 2nd element to the 5th element\n",
        "*   Change the 3rd element to 20\n",
        "\n",
        "\n",
        "\n"
      ]
    },
    {
      "cell_type": "code",
      "metadata": {
        "id": "8Q4f2fP8r9Ug",
        "colab_type": "code",
        "colab": {}
      },
      "source": [
        "#write your code here"
      ],
      "execution_count": null,
      "outputs": []
    },
    {
      "cell_type": "markdown",
      "metadata": {
        "id": "p80MaL5wr2u-",
        "colab_type": "text"
      },
      "source": [
        "Double-click _here_ for the solution.\n",
        "\n",
        "<!-- Your answer is below:\n",
        "\n",
        "tuple_of_odd_number = (1,3,5,7,9,11)\n",
        "\n",
        "fourth_element = tuple_of_odd_number[3]\n",
        "print(\"The 4th element is:\", fourth_element)\n",
        "\n",
        "second_fifth_elem = tuple_of_odd_number[1:5]\n",
        "print(\"From the 2nd element to 5th element:\", second_fifth_elem)\n",
        "\n",
        "tuple_of_odd_number[2] = 20\n",
        "\n",
        "\n",
        "\n",
        "\n",
        "\n",
        "-->"
      ]
    },
    {
      "cell_type": "markdown",
      "metadata": {
        "id": "rzuAGA89nyvz",
        "colab_type": "text"
      },
      "source": [
        "\n",
        "\n",
        "### Exercice 3\n",
        "In this exercice we will transform the list created in exercice1 in to a dictionary where the keys are the names of the students and the associated values are the marks of the students in a python quiz.\n",
        "\n",
        "* create a ditionary called python_quiz with the keys: \"Saffia\", \"Olivia\",\" Isabella\",\"James\",\" William\" and the marks are 12,15,16,9,19 respectively\n",
        "\n",
        "* What is Safiia's mark for the python quiz?\n",
        "\n",
        "After feeling all the marks for all the students, we realize that there is a mistake, Olivia has 16 instead of 15.\n",
        "* change the mark of Olivia to 16\n",
        "\n",
        "Now let's do some calculation on our dictionary\n",
        "\n",
        "* Calculate the mean of the class\n",
        "\n"
      ]
    },
    {
      "cell_type": "markdown",
      "metadata": {
        "id": "cXAt08JSrJYJ",
        "colab_type": "text"
      },
      "source": [
        ""
      ]
    },
    {
      "cell_type": "code",
      "metadata": {
        "id": "i3nrr13Fnyv2",
        "colab_type": "code",
        "colab": {}
      },
      "source": [
        "# write your code here"
      ],
      "execution_count": null,
      "outputs": []
    },
    {
      "cell_type": "markdown",
      "metadata": {
        "id": "22htqqYcnyv-",
        "colab_type": "text"
      },
      "source": [
        "Double-click _here_ for the solution.\n",
        "\n",
        "<!-- Your answer is below:\n",
        "    \n",
        "python_quiz={\"Safiia\":12,\n",
        "             \"Olivia\":15,\n",
        "             \" Isabella\":16,\n",
        "             \"James\":9,\n",
        "             \" William\":19\n",
        "             }\n",
        "print(\"Safiia's mark is: \",python_quiz[\"Safiia\"])\n",
        "python_quiz[\"Olivia\"]=16\n",
        "print(\"after corecting the error Ovia's mark is :\",python_quiz[\"Olivia\"])\n",
        "sum=0\n",
        "for item in python_quiz.keys():\n",
        "    sum=sum+python_quiz[item]\n",
        "    \n",
        "mean_class=sum/len(python_quiz)\n",
        "print(\"the mean of the class is: \", mean_class)\n",
        "\n",
        "-->\n"
      ]
    },
    {
      "cell_type": "markdown",
      "metadata": {
        "colab_type": "text",
        "id": "_4Kb9Ld0tNYI"
      },
      "source": [
        "___\n",
        "**Course Content Creators**: [Sokhar Samb](https://twitter.com/SambSokhar), Foutse, [Deborah D Kanubala](https://www.linkedin.com/in/ddk2018/), Faith Benson, Salomey Osei, Yolande Ngueabou, [Deo Byabazaire](https://www.linkedin.com/feed/), Bernard Osei, Elkanah Nyabuto.\n",
        "\n",
        "\n",
        "\n",
        "\n",
        "\n",
        "**Course Reviewer:** [Salomon Kabongo](https://twitter.com/SalomonKabongo1)"
      ]
    },
    {
      "cell_type": "code",
      "metadata": {
        "id": "AFxV1HzenywA",
        "colab_type": "code",
        "colab": {}
      },
      "source": [
        ""
      ],
      "execution_count": null,
      "outputs": []
    }
  ]
}