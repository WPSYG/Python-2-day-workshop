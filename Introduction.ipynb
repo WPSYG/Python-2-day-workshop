{
 "cells": [
  {
   "cell_type": "markdown",
   "metadata": {},
   "source": [
    "<img src=\"https://raw.githubusercontent.com/WPSYG/Python-2-day-workshop/master/images/logo_color_v1.jpeg?token=AIW35UCYTBEXID5PFNGZWD27HQ2MC\">"
   ]
  },
  {
   "cell_type": "markdown",
   "metadata": {
    "colab_type": "text",
    "id": "8b_Xr9p-tJhC"
   },
   "source": [
    "# **Welcome to Python Crash Course**\n",
    "\n",
    "\n",
    "<img src=\"https://raw.githubusercontent.com/WPSYG/Python-2-day-workshop/master/images/Flyier_2_day_pythin.jpeg?token=AIW35UHAZGUHPH2URJJOXTK7HQ2UU\">\n",
    "\n",
    "**Course Content Creators**: Sokhar Samb, Foutse, Deborah D Kanubala, Faith Benson, Salomey Osei, Yolande Ngueabou, Deo Byabazaire, Bernard Osei, Elkanah Nyabuto.\n",
    "\n",
    "\n",
    "\n",
    "\n",
    "**Course Reviewer:** [Salomon Kabongo](https://twitter.com/SalomonKabongo1)\n",
    "\n"
   ]
  },
  {
   "cell_type": "markdown",
   "metadata": {
    "colab_type": "text",
    "id": "vx8Z1ck13bVf"
   },
   "source": [
    "## Tutorial Objectives:\n",
    "\n",
    "For this course, you will be introduced to the Python programming language and we will be walking through different tutorials in a step-by-step fashion. There will be break-out sessions where you can get comfortable with what you have learnt. This will ensure you fully understand the various aspects of the tutorial and you will be able to ask your questions in those rooms. In this course, you will perform arithmetic operations on numbers, import python packages for solving different programming problems and also get creative in solving some specific tasks. "
   ]
  },
  {
   "cell_type": "markdown",
   "metadata": {},
   "source": [
    "This will be a 2 day course. Today's tutorial would focus on:\n",
    "\n",
    "### Day 1\n",
    "> Need to change the  link above with colab link to specific part of the course \n",
    "1. [Python Arithmetic operations]()\n",
    "\n",
    "2. [Manipulating lists, tuples and dictionaries]()\n",
    "\n",
    "3. [Writing Functions and loops]()\n",
    "\n",
    "### Day 2\n",
    "4. [Numpy]()\n",
    "\n",
    "5. [Pandas]()\n",
    "\n",
    "6. [Matplotlib]()"
   ]
  },
  {
   "cell_type": "markdown",
   "metadata": {
    "colab": {},
    "colab_type": "code",
    "id": "fu1G7XxxxNbS"
   },
   "source": [
    "> this part can include some introduction to the organization, the workshop as well as the profile of those givin the course. You can decide to have a brief introduction to what python is as well. "
   ]
  }
 ],
 "metadata": {
  "colab": {
   "collapsed_sections": [],
   "name": "Introduction.ipynb",
   "provenance": []
  },
  "kernelspec": {
   "display_name": "Python 3",
   "language": "python",
   "name": "python3"
  },
  "language_info": {
   "codemirror_mode": {
    "name": "ipython",
    "version": 3
   },
   "file_extension": ".py",
   "mimetype": "text/x-python",
   "name": "python",
   "nbconvert_exporter": "python",
   "pygments_lexer": "ipython3",
   "version": "3.8.5"
  }
 },
 "nbformat": 4,
 "nbformat_minor": 4
}
