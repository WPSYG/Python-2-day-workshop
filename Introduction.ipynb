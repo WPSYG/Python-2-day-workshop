{
  "nbformat": 4,
  "nbformat_minor": 0,
  "metadata": {
    "colab": {
      "name": "Introduction.ipynb",
      "provenance": [],
      "collapsed_sections": []
    },
    "kernelspec": {
      "display_name": "Python 3",
      "language": "python",
      "name": "python3"
    },
    "language_info": {
      "codemirror_mode": {
        "name": "ipython",
        "version": 3
      },
      "file_extension": ".py",
      "mimetype": "text/x-python",
      "name": "python",
      "nbconvert_exporter": "python",
      "pygments_lexer": "ipython3",
      "version": "3.7.3"
    }
  },
  "cells": [
    {
      "cell_type": "markdown",
      "metadata": {
        "id": "_suz8lABypLS",
        "colab_type": "text"
      },
      "source": [
        "<a href=\"https://colab.research.google.com/github/WPSYG/Python-2-day-workshop/blob/master/Introduction.ipynb\" target=\"_parent\"><img src=\"https://colab.research.google.com/assets/colab-badge.svg\" alt=\"Open In Colab\"/></a>"
      ]
    },
    {
      "cell_type": "markdown",
      "metadata": {
        "id": "tdcAT1ANypLT",
        "colab_type": "text"
      },
      "source": [
        "<img src=\"https://raw.githubusercontent.com/WPSYG/Python-2-day-workshop/master/images/logo_color_v1.jpeg?token=AIW35UCYTBEXID5PFNGZWD27HQ2MC\">"
      ]
    },
    {
      "cell_type": "markdown",
      "metadata": {
        "colab_type": "text",
        "id": "8b_Xr9p-tJhC"
      },
      "source": [
        "# **Welcome to Python Crash Course**\n",
        "[Organized by Women Promoting Science to the Younger Generation (WPSYG](https://twitter.com/wpsyg)\n",
        "\n",
        "Organized by Women Promoting Science to the Younger Generation\n",
        "\n",
        "**Course Content Creators**: [Sokhar Samb](https://twitter.com/SambSokhar), [Foutse Yuehgoh](https://twitter.com/yuehgoh), [Deborah D Kanubala](https://www.linkedin.com/in/ddk2018/), Faith Benson, Salomey Osei, [Yolande Ngueabou](https://www.linkedin.com/in/yolande-ngueabou-1826a6132/), Deo Byabazaire, Bernard Osei, Elkanah Nyabuto.\n",
        "\n",
        "\n",
        "\n",
        "\n",
        "**Course Reviewer:** [Salomon Kabongo](https://twitter.com/SalomonKabongo1), [Sewade Ogun](https://twitter.com/SewadeOgun)\n",
        "\n"
      ]
    },
    {
      "cell_type": "markdown",
      "metadata": {
        "id": "4bJTf5f_ypLV",
        "colab_type": "text"
      },
      "source": [
        "# What is WPSYG?\n",
        "WPSYG is an association that is focused on igniting and sustaining the interest of the youth in general and girls in particular in mathematics and science with the aim of getting them to develop careers in this field to enable them compete globally and solve the local development challenges in their communities."
      ]
    },
    {
      "cell_type": "markdown",
      "metadata": {
        "id": "487P1OSrypLW",
        "colab_type": "text"
      },
      "source": [
        "The goal of AIMS-WPSYG is to build and sustain the interest of the youth and females in particular in Africa in mathematics and science with the sole aim of getting them to pursue careers in this field for the overall development of the African continent. "
      ]
    },
    {
      "cell_type": "markdown",
      "metadata": {
        "id": "DOoJ-VxOypLW",
        "colab_type": "text"
      },
      "source": [
        "# How to become member of WPSYG?\n",
        "\n",
        "*  Fill the [Google Form](https://docs.google.com/forms/d/e/1FAIpQLSc_IVVi1oZ5TZpUJOPwYH3a5kNEuFEPXuFmjot2Z44V4n6Nlg/viewform)\n",
        "\n",
        "Follow us on:\n",
        "\n",
        "\n",
        "\n",
        "*   [Twitter](https://twitter.com/wpsyg)\n",
        "*   [Linkedin](https://www.linkedin.com/in/women-promoting-science-to-the-younger-association-661a5317b/)\n",
        "\n",
        "*   [Facebook](https://www.facebook.com/WPSYG-297667807564380)\n",
        "\n",
        "*   [Instagram](https://www.instagram.com/wpsygassociation/)\n"
      ]
    },
    {
      "cell_type": "markdown",
      "metadata": {
        "colab_type": "text",
        "id": "vx8Z1ck13bVf"
      },
      "source": [
        "## Tutorial Objectives:\n",
        "\n",
        "For this course, you will be introduced to the Python programming language via some commonly used Python libraries and we will be walking you through different tutorials in a step-by-step fashion. There will be break-out sessions where you can get comfortable with what you have learnt. This will ensure that you fully understand the various aspects of the tutorial and give you room to ask your questions. In this course, you will perform arithmetic operations on numbers, import python packages for solving different programming problems and also get creative in solving some specific tasks. "
      ]
    },
    {
      "cell_type": "markdown",
      "metadata": {
        "id": "16xYJrdTypLd",
        "colab_type": "text"
      },
      "source": [
        "This will be a 2 day course: \n",
        "\n",
        "\n",
        "### Day 1\n",
        " Need to change the  link above with colab link to specific part of the course \n",
        "1. [Python Arithmetic operations]()\n",
        "\n",
        "2. [Manipulating lists, tuples and dictionaries]()\n",
        "\n",
        "3. [Writing Functions and loops]()\n",
        "\n",
        "### Day 2\n",
        "4. [Numpy]()\n",
        "\n",
        "5. [Pandas]()\n",
        "\n",
        "6. [Matplotlib]()"
      ]
    },
    {
      "cell_type": "markdown",
      "metadata": {
        "id": "kRZlu74kypLe",
        "colab_type": "text"
      },
      "source": [
        "# What is Python?<img src=\"https://upload.wikimedia.org/wikipedia/commons/c/c3/Python-logo-notext.svg\">\n"
      ]
    },
    {
      "cell_type": "markdown",
      "metadata": {
        "id": "G46tS_fkypLf",
        "colab_type": "text"
      },
      "source": [
        "[Python](https://www.python.org/) is a very simple open source programming language so even if you are new to programming, you can learn python without facing any problem. It was developed by [Guido van Rossum](https://en.wikipedia.org/wiki/Guido_van_Rossum). Guido van Rossum started implementing Python in 1989."
      ]
    },
    {
      "cell_type": "markdown",
      "metadata": {
        "id": "BW7s2Sd4ypLf",
        "colab_type": "text"
      },
      "source": [
        "# What can we do with python?"
      ]
    },
    {
      "cell_type": "markdown",
      "metadata": {
        "id": "UFYlR1qv3q5f",
        "colab_type": "text"
      },
      "source": [
        "You may be wondering what are the applications of Python. There are so many applications of Python, here are some of the them:\n",
        "1. [Web development](https://www.fullstackpython.com/web-development.html) – Web framework like [Django](https://www.djangoproject.com/) and [Flask](https://www.fullstackpython.com/flask.html) are based on Python. They help you write server side code which helps you manage database, write backend programming logic, mapping urls etc.\n",
        "\n",
        "2. [Machine learning](https://pythonprogramming.net/machine-learning-tutorials/) – There are many machine learning applications written in Python. Machine learning is a way to write a logic so that a machine can learn and solve a particular problem on its own. For example, products recommendation in websites like Amazon, Flipkart, eBay etc. is a machine learning algorithm that recognises user’s interest. Face recognition and Voice recognition in your phone is another example of machine learning.\n",
        "\n",
        "3. [Data Analysis](http://www.data-analysis-in-python.org/) – Data analysis and data visualisation in form of charts can also be developed using Python."
      ]
    }
  ]
}